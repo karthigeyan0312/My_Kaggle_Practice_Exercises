{
 "cells": [
  {
   "cell_type": "code",
   "execution_count": 1,
   "id": "5eb5b7af",
   "metadata": {
    "_cell_guid": "b1076dfc-b9ad-4769-8c92-a6c4dae69d19",
    "_uuid": "8f2839f25d086af736a60e9eeb907d3b93b6e0e5",
    "execution": {
     "iopub.execute_input": "2022-06-28T14:56:45.454767Z",
     "iopub.status.busy": "2022-06-28T14:56:45.453431Z",
     "iopub.status.idle": "2022-06-28T14:56:45.478717Z",
     "shell.execute_reply": "2022-06-28T14:56:45.477257Z"
    },
    "papermill": {
     "duration": 0.036063,
     "end_time": "2022-06-28T14:56:45.481722",
     "exception": false,
     "start_time": "2022-06-28T14:56:45.445659",
     "status": "completed"
    },
    "tags": []
   },
   "outputs": [
    {
     "name": "stdout",
     "output_type": "stream",
     "text": [
      "/kaggle/input/nlp-getting-started/sample_submission.csv\n",
      "/kaggle/input/nlp-getting-started/train.csv\n",
      "/kaggle/input/nlp-getting-started/test.csv\n"
     ]
    }
   ],
   "source": [
    "# This Python 3 environment comes with many helpful analytics libraries installed\n",
    "# It is defined by the kaggle/python Docker image: https://github.com/kaggle/docker-python\n",
    "# For example, here's several helpful packages to load\n",
    "\n",
    "import numpy as np # linear algebra\n",
    "import pandas as pd # data processing, CSV file I/O (e.g. pd.read_csv)\n",
    "\n",
    "# Input data files are available in the read-only \"../input/\" directory\n",
    "# For example, running this (by clicking run or pressing Shift+Enter) will list all files under the input directory\n",
    "\n",
    "import os\n",
    "for dirname, _, filenames in os.walk('/kaggle/input'):\n",
    "    for filename in filenames:\n",
    "        print(os.path.join(dirname, filename))\n",
    "\n",
    "# You can write up to 20GB to the current directory (/kaggle/working/) that gets preserved as output when you create a version using \"Save & Run All\" \n",
    "# You can also write temporary files to /kaggle/temp/, but they won't be saved outside of the current session"
   ]
  },
  {
   "cell_type": "code",
   "execution_count": 2,
   "id": "450a03c2",
   "metadata": {
    "execution": {
     "iopub.execute_input": "2022-06-28T14:56:45.494578Z",
     "iopub.status.busy": "2022-06-28T14:56:45.493774Z",
     "iopub.status.idle": "2022-06-28T14:56:45.559931Z",
     "shell.execute_reply": "2022-06-28T14:56:45.558371Z"
    },
    "papermill": {
     "duration": 0.07553,
     "end_time": "2022-06-28T14:56:45.562639",
     "exception": false,
     "start_time": "2022-06-28T14:56:45.487109",
     "status": "completed"
    },
    "tags": []
   },
   "outputs": [
    {
     "data": {
      "text/html": [
       "<div>\n",
       "<style scoped>\n",
       "    .dataframe tbody tr th:only-of-type {\n",
       "        vertical-align: middle;\n",
       "    }\n",
       "\n",
       "    .dataframe tbody tr th {\n",
       "        vertical-align: top;\n",
       "    }\n",
       "\n",
       "    .dataframe thead th {\n",
       "        text-align: right;\n",
       "    }\n",
       "</style>\n",
       "<table border=\"1\" class=\"dataframe\">\n",
       "  <thead>\n",
       "    <tr style=\"text-align: right;\">\n",
       "      <th></th>\n",
       "      <th>id</th>\n",
       "      <th>keyword</th>\n",
       "      <th>location</th>\n",
       "      <th>text</th>\n",
       "      <th>target</th>\n",
       "    </tr>\n",
       "  </thead>\n",
       "  <tbody>\n",
       "    <tr>\n",
       "      <th>0</th>\n",
       "      <td>1</td>\n",
       "      <td>NaN</td>\n",
       "      <td>NaN</td>\n",
       "      <td>Our Deeds are the Reason of this #earthquake M...</td>\n",
       "      <td>1</td>\n",
       "    </tr>\n",
       "    <tr>\n",
       "      <th>1</th>\n",
       "      <td>4</td>\n",
       "      <td>NaN</td>\n",
       "      <td>NaN</td>\n",
       "      <td>Forest fire near La Ronge Sask. Canada</td>\n",
       "      <td>1</td>\n",
       "    </tr>\n",
       "    <tr>\n",
       "      <th>2</th>\n",
       "      <td>5</td>\n",
       "      <td>NaN</td>\n",
       "      <td>NaN</td>\n",
       "      <td>All residents asked to 'shelter in place' are ...</td>\n",
       "      <td>1</td>\n",
       "    </tr>\n",
       "    <tr>\n",
       "      <th>3</th>\n",
       "      <td>6</td>\n",
       "      <td>NaN</td>\n",
       "      <td>NaN</td>\n",
       "      <td>13,000 people receive #wildfires evacuation or...</td>\n",
       "      <td>1</td>\n",
       "    </tr>\n",
       "    <tr>\n",
       "      <th>4</th>\n",
       "      <td>7</td>\n",
       "      <td>NaN</td>\n",
       "      <td>NaN</td>\n",
       "      <td>Just got sent this photo from Ruby #Alaska as ...</td>\n",
       "      <td>1</td>\n",
       "    </tr>\n",
       "  </tbody>\n",
       "</table>\n",
       "</div>"
      ],
      "text/plain": [
       "   id keyword location                                               text  \\\n",
       "0   1     NaN      NaN  Our Deeds are the Reason of this #earthquake M...   \n",
       "1   4     NaN      NaN             Forest fire near La Ronge Sask. Canada   \n",
       "2   5     NaN      NaN  All residents asked to 'shelter in place' are ...   \n",
       "3   6     NaN      NaN  13,000 people receive #wildfires evacuation or...   \n",
       "4   7     NaN      NaN  Just got sent this photo from Ruby #Alaska as ...   \n",
       "\n",
       "   target  \n",
       "0       1  \n",
       "1       1  \n",
       "2       1  \n",
       "3       1  \n",
       "4       1  "
      ]
     },
     "execution_count": 2,
     "metadata": {},
     "output_type": "execute_result"
    }
   ],
   "source": [
    "import pandas as pd\n",
    "df_train = pd.read_csv('/kaggle/input/nlp-getting-started/train.csv')\n",
    "df_train.head()"
   ]
  },
  {
   "cell_type": "code",
   "execution_count": 3,
   "id": "ba992680",
   "metadata": {
    "execution": {
     "iopub.execute_input": "2022-06-28T14:56:45.575057Z",
     "iopub.status.busy": "2022-06-28T14:56:45.574647Z",
     "iopub.status.idle": "2022-06-28T14:56:45.606966Z",
     "shell.execute_reply": "2022-06-28T14:56:45.605909Z"
    },
    "papermill": {
     "duration": 0.041618,
     "end_time": "2022-06-28T14:56:45.609739",
     "exception": false,
     "start_time": "2022-06-28T14:56:45.568121",
     "status": "completed"
    },
    "tags": []
   },
   "outputs": [
    {
     "data": {
      "text/html": [
       "<div>\n",
       "<style scoped>\n",
       "    .dataframe tbody tr th:only-of-type {\n",
       "        vertical-align: middle;\n",
       "    }\n",
       "\n",
       "    .dataframe tbody tr th {\n",
       "        vertical-align: top;\n",
       "    }\n",
       "\n",
       "    .dataframe thead th {\n",
       "        text-align: right;\n",
       "    }\n",
       "</style>\n",
       "<table border=\"1\" class=\"dataframe\">\n",
       "  <thead>\n",
       "    <tr style=\"text-align: right;\">\n",
       "      <th></th>\n",
       "      <th>id</th>\n",
       "      <th>keyword</th>\n",
       "      <th>location</th>\n",
       "      <th>text</th>\n",
       "    </tr>\n",
       "  </thead>\n",
       "  <tbody>\n",
       "    <tr>\n",
       "      <th>0</th>\n",
       "      <td>0</td>\n",
       "      <td>NaN</td>\n",
       "      <td>NaN</td>\n",
       "      <td>Just happened a terrible car crash</td>\n",
       "    </tr>\n",
       "    <tr>\n",
       "      <th>1</th>\n",
       "      <td>2</td>\n",
       "      <td>NaN</td>\n",
       "      <td>NaN</td>\n",
       "      <td>Heard about #earthquake is different cities, s...</td>\n",
       "    </tr>\n",
       "    <tr>\n",
       "      <th>2</th>\n",
       "      <td>3</td>\n",
       "      <td>NaN</td>\n",
       "      <td>NaN</td>\n",
       "      <td>there is a forest fire at spot pond, geese are...</td>\n",
       "    </tr>\n",
       "    <tr>\n",
       "      <th>3</th>\n",
       "      <td>9</td>\n",
       "      <td>NaN</td>\n",
       "      <td>NaN</td>\n",
       "      <td>Apocalypse lighting. #Spokane #wildfires</td>\n",
       "    </tr>\n",
       "    <tr>\n",
       "      <th>4</th>\n",
       "      <td>11</td>\n",
       "      <td>NaN</td>\n",
       "      <td>NaN</td>\n",
       "      <td>Typhoon Soudelor kills 28 in China and Taiwan</td>\n",
       "    </tr>\n",
       "  </tbody>\n",
       "</table>\n",
       "</div>"
      ],
      "text/plain": [
       "   id keyword location                                               text\n",
       "0   0     NaN      NaN                 Just happened a terrible car crash\n",
       "1   2     NaN      NaN  Heard about #earthquake is different cities, s...\n",
       "2   3     NaN      NaN  there is a forest fire at spot pond, geese are...\n",
       "3   9     NaN      NaN           Apocalypse lighting. #Spokane #wildfires\n",
       "4  11     NaN      NaN      Typhoon Soudelor kills 28 in China and Taiwan"
      ]
     },
     "execution_count": 3,
     "metadata": {},
     "output_type": "execute_result"
    }
   ],
   "source": [
    "df_test = pd.read_csv('/kaggle/input/nlp-getting-started/test.csv')\n",
    "df_test.head()"
   ]
  },
  {
   "cell_type": "code",
   "execution_count": 4,
   "id": "b8e4e84e",
   "metadata": {
    "execution": {
     "iopub.execute_input": "2022-06-28T14:56:45.622756Z",
     "iopub.status.busy": "2022-06-28T14:56:45.621731Z",
     "iopub.status.idle": "2022-06-28T14:56:45.637518Z",
     "shell.execute_reply": "2022-06-28T14:56:45.635365Z"
    },
    "papermill": {
     "duration": 0.025526,
     "end_time": "2022-06-28T14:56:45.640657",
     "exception": false,
     "start_time": "2022-06-28T14:56:45.615131",
     "status": "completed"
    },
    "tags": []
   },
   "outputs": [
    {
     "name": "stdout",
     "output_type": "stream",
     "text": [
      "Percentage of null values in id is : 0.0\n",
      "Percentage of null values in keyword is : 0.8\n",
      "Percentage of null values in location is : 33.27\n",
      "Percentage of null values in text is : 0.0\n",
      "Percentage of null values in target is : 0.0\n"
     ]
    }
   ],
   "source": [
    "for column in df_train.columns:\n",
    "    print(f'Percentage of null values in {column} is :', round(df_train[column].isnull().sum()/len(df_train)*100, 2))"
   ]
  },
  {
   "cell_type": "code",
   "execution_count": 5,
   "id": "25504a94",
   "metadata": {
    "execution": {
     "iopub.execute_input": "2022-06-28T14:56:45.653985Z",
     "iopub.status.busy": "2022-06-28T14:56:45.653612Z",
     "iopub.status.idle": "2022-06-28T14:56:45.662843Z",
     "shell.execute_reply": "2022-06-28T14:56:45.661576Z"
    },
    "papermill": {
     "duration": 0.019675,
     "end_time": "2022-06-28T14:56:45.665884",
     "exception": false,
     "start_time": "2022-06-28T14:56:45.646209",
     "status": "completed"
    },
    "tags": []
   },
   "outputs": [
    {
     "name": "stdout",
     "output_type": "stream",
     "text": [
      "Percentage of null values in id is : 0.0\n",
      "Percentage of null values in keyword is : 0.8\n",
      "Percentage of null values in location is : 33.86\n",
      "Percentage of null values in text is : 0.0\n"
     ]
    }
   ],
   "source": [
    "for column in df_test.columns:\n",
    "    print(f'Percentage of null values in {column} is :', round(df_test[column].isnull().sum()/len(df_test)*100, 2))"
   ]
  },
  {
   "cell_type": "code",
   "execution_count": 6,
   "id": "d802deac",
   "metadata": {
    "execution": {
     "iopub.execute_input": "2022-06-28T14:56:45.679084Z",
     "iopub.status.busy": "2022-06-28T14:56:45.678255Z",
     "iopub.status.idle": "2022-06-28T14:56:45.689227Z",
     "shell.execute_reply": "2022-06-28T14:56:45.688310Z"
    },
    "papermill": {
     "duration": 0.020318,
     "end_time": "2022-06-28T14:56:45.691567",
     "exception": false,
     "start_time": "2022-06-28T14:56:45.671249",
     "status": "completed"
    },
    "tags": []
   },
   "outputs": [
    {
     "data": {
      "text/plain": [
       "'I love fruits'"
      ]
     },
     "execution_count": 6,
     "metadata": {},
     "output_type": "execute_result"
    }
   ],
   "source": [
    "df_train[df_train['target']==0]['text'].values[1]"
   ]
  },
  {
   "cell_type": "code",
   "execution_count": 7,
   "id": "06f5a6fc",
   "metadata": {
    "execution": {
     "iopub.execute_input": "2022-06-28T14:56:45.704950Z",
     "iopub.status.busy": "2022-06-28T14:56:45.704092Z",
     "iopub.status.idle": "2022-06-28T14:56:45.712456Z",
     "shell.execute_reply": "2022-06-28T14:56:45.711285Z"
    },
    "papermill": {
     "duration": 0.017711,
     "end_time": "2022-06-28T14:56:45.714875",
     "exception": false,
     "start_time": "2022-06-28T14:56:45.697164",
     "status": "completed"
    },
    "tags": []
   },
   "outputs": [
    {
     "data": {
      "text/plain": [
       "'Forest fire near La Ronge Sask. Canada'"
      ]
     },
     "execution_count": 7,
     "metadata": {},
     "output_type": "execute_result"
    }
   ],
   "source": [
    "df_train[df_train['target']==1]['text'].values[1]"
   ]
  },
  {
   "cell_type": "code",
   "execution_count": 8,
   "id": "78d2dd3c",
   "metadata": {
    "execution": {
     "iopub.execute_input": "2022-06-28T14:56:45.729779Z",
     "iopub.status.busy": "2022-06-28T14:56:45.728787Z",
     "iopub.status.idle": "2022-06-28T14:56:47.348975Z",
     "shell.execute_reply": "2022-06-28T14:56:47.347963Z"
    },
    "papermill": {
     "duration": 1.62998,
     "end_time": "2022-06-28T14:56:47.351626",
     "exception": false,
     "start_time": "2022-06-28T14:56:45.721646",
     "status": "completed"
    },
    "tags": []
   },
   "outputs": [],
   "source": [
    "from sklearn import feature_extraction, linear_model, model_selection, preprocessing\n",
    "count_vectorizer = feature_extraction.text.CountVectorizer()\n",
    "\n",
    "train_vectors = count_vectorizer.fit_transform(df_train['text'])\n",
    "test_vectors = count_vectorizer.transform(df_test['text'])"
   ]
  },
  {
   "cell_type": "code",
   "execution_count": 9,
   "id": "12576053",
   "metadata": {
    "execution": {
     "iopub.execute_input": "2022-06-28T14:56:47.365271Z",
     "iopub.status.busy": "2022-06-28T14:56:47.364180Z",
     "iopub.status.idle": "2022-06-28T14:56:47.799923Z",
     "shell.execute_reply": "2022-06-28T14:56:47.798533Z"
    },
    "papermill": {
     "duration": 0.446351,
     "end_time": "2022-06-28T14:56:47.803620",
     "exception": false,
     "start_time": "2022-06-28T14:56:47.357269",
     "status": "completed"
    },
    "tags": []
   },
   "outputs": [
    {
     "data": {
      "text/plain": [
       "array([0.59421842, 0.56498283, 0.64113893])"
      ]
     },
     "execution_count": 9,
     "metadata": {},
     "output_type": "execute_result"
    }
   ],
   "source": [
    "clf = linear_model.RidgeClassifier()\n",
    "scores = model_selection.cross_val_score(clf, train_vectors, df_train['target'], cv=3, scoring='f1')\n",
    "scores"
   ]
  },
  {
   "cell_type": "code",
   "execution_count": 10,
   "id": "4019e1e1",
   "metadata": {
    "execution": {
     "iopub.execute_input": "2022-06-28T14:56:47.826576Z",
     "iopub.status.busy": "2022-06-28T14:56:47.825966Z",
     "iopub.status.idle": "2022-06-28T14:56:48.057541Z",
     "shell.execute_reply": "2022-06-28T14:56:48.055868Z"
    },
    "papermill": {
     "duration": 0.248578,
     "end_time": "2022-06-28T14:56:48.062468",
     "exception": false,
     "start_time": "2022-06-28T14:56:47.813890",
     "status": "completed"
    },
    "tags": []
   },
   "outputs": [
    {
     "data": {
      "text/plain": [
       "RidgeClassifier()"
      ]
     },
     "execution_count": 10,
     "metadata": {},
     "output_type": "execute_result"
    }
   ],
   "source": [
    "clf.fit(train_vectors, df_train[\"target\"])"
   ]
  },
  {
   "cell_type": "code",
   "execution_count": 11,
   "id": "3b54ee19",
   "metadata": {
    "execution": {
     "iopub.execute_input": "2022-06-28T14:56:48.088218Z",
     "iopub.status.busy": "2022-06-28T14:56:48.087584Z",
     "iopub.status.idle": "2022-06-28T14:56:48.103650Z",
     "shell.execute_reply": "2022-06-28T14:56:48.102104Z"
    },
    "papermill": {
     "duration": 0.033427,
     "end_time": "2022-06-28T14:56:48.108140",
     "exception": false,
     "start_time": "2022-06-28T14:56:48.074713",
     "status": "completed"
    },
    "tags": []
   },
   "outputs": [],
   "source": [
    "sample_submission = pd.read_csv(\"/kaggle/input/nlp-getting-started/sample_submission.csv\")"
   ]
  },
  {
   "cell_type": "code",
   "execution_count": 12,
   "id": "cd6d71f4",
   "metadata": {
    "execution": {
     "iopub.execute_input": "2022-06-28T14:56:48.132162Z",
     "iopub.status.busy": "2022-06-28T14:56:48.131518Z",
     "iopub.status.idle": "2022-06-28T14:56:48.143669Z",
     "shell.execute_reply": "2022-06-28T14:56:48.142146Z"
    },
    "papermill": {
     "duration": 0.029048,
     "end_time": "2022-06-28T14:56:48.147889",
     "exception": false,
     "start_time": "2022-06-28T14:56:48.118841",
     "status": "completed"
    },
    "tags": []
   },
   "outputs": [],
   "source": [
    "sample_submission[\"target\"] = clf.predict(test_vectors)"
   ]
  },
  {
   "cell_type": "code",
   "execution_count": 13,
   "id": "8dd8fdb8",
   "metadata": {
    "execution": {
     "iopub.execute_input": "2022-06-28T14:56:48.169842Z",
     "iopub.status.busy": "2022-06-28T14:56:48.169459Z",
     "iopub.status.idle": "2022-06-28T14:56:48.179992Z",
     "shell.execute_reply": "2022-06-28T14:56:48.178681Z"
    },
    "papermill": {
     "duration": 0.023876,
     "end_time": "2022-06-28T14:56:48.182432",
     "exception": false,
     "start_time": "2022-06-28T14:56:48.158556",
     "status": "completed"
    },
    "tags": []
   },
   "outputs": [
    {
     "data": {
      "text/html": [
       "<div>\n",
       "<style scoped>\n",
       "    .dataframe tbody tr th:only-of-type {\n",
       "        vertical-align: middle;\n",
       "    }\n",
       "\n",
       "    .dataframe tbody tr th {\n",
       "        vertical-align: top;\n",
       "    }\n",
       "\n",
       "    .dataframe thead th {\n",
       "        text-align: right;\n",
       "    }\n",
       "</style>\n",
       "<table border=\"1\" class=\"dataframe\">\n",
       "  <thead>\n",
       "    <tr style=\"text-align: right;\">\n",
       "      <th></th>\n",
       "      <th>id</th>\n",
       "      <th>target</th>\n",
       "    </tr>\n",
       "  </thead>\n",
       "  <tbody>\n",
       "    <tr>\n",
       "      <th>0</th>\n",
       "      <td>0</td>\n",
       "      <td>0</td>\n",
       "    </tr>\n",
       "    <tr>\n",
       "      <th>1</th>\n",
       "      <td>2</td>\n",
       "      <td>1</td>\n",
       "    </tr>\n",
       "    <tr>\n",
       "      <th>2</th>\n",
       "      <td>3</td>\n",
       "      <td>1</td>\n",
       "    </tr>\n",
       "    <tr>\n",
       "      <th>3</th>\n",
       "      <td>9</td>\n",
       "      <td>0</td>\n",
       "    </tr>\n",
       "    <tr>\n",
       "      <th>4</th>\n",
       "      <td>11</td>\n",
       "      <td>1</td>\n",
       "    </tr>\n",
       "  </tbody>\n",
       "</table>\n",
       "</div>"
      ],
      "text/plain": [
       "   id  target\n",
       "0   0       0\n",
       "1   2       1\n",
       "2   3       1\n",
       "3   9       0\n",
       "4  11       1"
      ]
     },
     "execution_count": 13,
     "metadata": {},
     "output_type": "execute_result"
    }
   ],
   "source": [
    "sample_submission.head()"
   ]
  },
  {
   "cell_type": "code",
   "execution_count": 14,
   "id": "21ba44ae",
   "metadata": {
    "execution": {
     "iopub.execute_input": "2022-06-28T14:56:48.196303Z",
     "iopub.status.busy": "2022-06-28T14:56:48.195919Z",
     "iopub.status.idle": "2022-06-28T14:56:48.209648Z",
     "shell.execute_reply": "2022-06-28T14:56:48.208762Z"
    },
    "papermill": {
     "duration": 0.023782,
     "end_time": "2022-06-28T14:56:48.212282",
     "exception": false,
     "start_time": "2022-06-28T14:56:48.188500",
     "status": "completed"
    },
    "tags": []
   },
   "outputs": [],
   "source": [
    "sample_submission.to_csv(\"submission.csv\", index=False)"
   ]
  }
 ],
 "metadata": {
  "kernelspec": {
   "display_name": "Python 3",
   "language": "python",
   "name": "python3"
  },
  "language_info": {
   "codemirror_mode": {
    "name": "ipython",
    "version": 3
   },
   "file_extension": ".py",
   "mimetype": "text/x-python",
   "name": "python",
   "nbconvert_exporter": "python",
   "pygments_lexer": "ipython3",
   "version": "3.7.12"
  },
  "papermill": {
   "default_parameters": {},
   "duration": 14.058693,
   "end_time": "2022-06-28T14:56:48.940197",
   "environment_variables": {},
   "exception": null,
   "input_path": "__notebook__.ipynb",
   "output_path": "__notebook__.ipynb",
   "parameters": {},
   "start_time": "2022-06-28T14:56:34.881504",
   "version": "2.3.4"
  }
 },
 "nbformat": 4,
 "nbformat_minor": 5
}
