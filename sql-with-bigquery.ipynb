{
 "cells": [
  {
   "cell_type": "code",
   "execution_count": 1,
   "id": "8eddd4a9",
   "metadata": {
    "_cell_guid": "b1076dfc-b9ad-4769-8c92-a6c4dae69d19",
    "_uuid": "8f2839f25d086af736a60e9eeb907d3b93b6e0e5",
    "execution": {
     "iopub.execute_input": "2022-04-16T05:26:40.478637Z",
     "iopub.status.busy": "2022-04-16T05:26:40.478308Z",
     "iopub.status.idle": "2022-04-16T05:26:40.489971Z",
     "shell.execute_reply": "2022-04-16T05:26:40.489027Z"
    },
    "papermill": {
     "duration": 0.030082,
     "end_time": "2022-04-16T05:26:40.492248",
     "exception": false,
     "start_time": "2022-04-16T05:26:40.462166",
     "status": "completed"
    },
    "tags": []
   },
   "outputs": [],
   "source": [
    "# This Python 3 environment comes with many helpful analytics libraries installed\n",
    "# It is defined by the kaggle/python Docker image: https://github.com/kaggle/docker-python\n",
    "# For example, here's several helpful packages to load\n",
    "\n",
    "import numpy as np # linear algebra\n",
    "import pandas as pd # data processing, CSV file I/O (e.g. pd.read_csv)\n",
    "\n",
    "# Input data files are available in the read-only \"../input/\" directory\n",
    "# For example, running this (by clicking run or pressing Shift+Enter) will list all files under the input directory\n",
    "\n",
    "import os\n",
    "for dirname, _, filenames in os.walk('/kaggle/input'):\n",
    "    for filename in filenames:\n",
    "        print(os.path.join(dirname, filename))\n",
    "\n",
    "# You can write up to 20GB to the current directory (/kaggle/working/) that gets preserved as output when you create a version using \"Save & Run All\" \n",
    "# You can also write temporary files to /kaggle/temp/, but they won't be saved outside of the current session"
   ]
  },
  {
   "cell_type": "markdown",
   "id": "d17141c7",
   "metadata": {
    "papermill": {
     "duration": 0.012378,
     "end_time": "2022-04-16T05:26:40.517786",
     "exception": false,
     "start_time": "2022-04-16T05:26:40.505408",
     "status": "completed"
    },
    "tags": []
   },
   "source": [
    "## Fetch a Dataset with Bigquery"
   ]
  },
  {
   "cell_type": "code",
   "execution_count": 2,
   "id": "a22ab9e5",
   "metadata": {
    "execution": {
     "iopub.execute_input": "2022-04-16T05:26:40.544773Z",
     "iopub.status.busy": "2022-04-16T05:26:40.544465Z",
     "iopub.status.idle": "2022-04-16T05:26:41.251714Z",
     "shell.execute_reply": "2022-04-16T05:26:41.250611Z"
    },
    "papermill": {
     "duration": 0.723315,
     "end_time": "2022-04-16T05:26:41.253952",
     "exception": false,
     "start_time": "2022-04-16T05:26:40.530637",
     "status": "completed"
    },
    "tags": []
   },
   "outputs": [
    {
     "name": "stdout",
     "output_type": "stream",
     "text": [
      "Using Kaggle's public dataset BigQuery integration.\n",
      "comments\n",
      "full\n",
      "full_201510\n",
      "stories\n"
     ]
    }
   ],
   "source": [
    "from google.cloud import bigquery\n",
    "\n",
    "# Create a Client Object\n",
    "client = bigquery.Client()\n",
    "\n",
    "# Construct a reference to the \"hacker_news\" dataset\n",
    "dataset_ref = client.dataset(\"hacker_news\", project=\"bigquery-public-data\")\n",
    "\n",
    "# API request to fetch the dataset\n",
    "dataset = client.get_dataset(dataset_ref)\n",
    "\n",
    "# Construct a reference to the \"hacker_news\" dataset\n",
    "dataset_ref = client.dataset(\"hacker_news\", project=\"bigquery-public-data\")\n",
    "\n",
    "# API request to fetch the dataset\n",
    "dataset = client.get_dataset(dataset_ref)\n",
    "\n",
    "# List all the tables in the \"hacker_news\" dataset\n",
    "tables = list(client.list_tables(dataset))\n",
    "\n",
    "# Print names of all the tables in the dataset\n",
    "for table in tables:\n",
    "    print(table.table_id)"
   ]
  },
  {
   "cell_type": "markdown",
   "id": "4a0fb4e4",
   "metadata": {
    "papermill": {
     "duration": 0.013516,
     "end_time": "2022-04-16T05:26:41.281717",
     "exception": false,
     "start_time": "2022-04-16T05:26:41.268201",
     "status": "completed"
    },
    "tags": []
   },
   "source": [
    "## Fetch a Table"
   ]
  },
  {
   "cell_type": "code",
   "execution_count": 3,
   "id": "414b2c76",
   "metadata": {
    "execution": {
     "iopub.execute_input": "2022-04-16T05:26:41.310968Z",
     "iopub.status.busy": "2022-04-16T05:26:41.310705Z",
     "iopub.status.idle": "2022-04-16T05:26:41.498687Z",
     "shell.execute_reply": "2022-04-16T05:26:41.497793Z"
    },
    "papermill": {
     "duration": 0.205129,
     "end_time": "2022-04-16T05:26:41.500735",
     "exception": false,
     "start_time": "2022-04-16T05:26:41.295606",
     "status": "completed"
    },
    "tags": []
   },
   "outputs": [
    {
     "data": {
      "text/plain": [
       "[SchemaField('title', 'STRING', 'NULLABLE', 'Story title', (), None),\n",
       " SchemaField('url', 'STRING', 'NULLABLE', 'Story url', (), None),\n",
       " SchemaField('text', 'STRING', 'NULLABLE', 'Story or comment text', (), None),\n",
       " SchemaField('dead', 'BOOLEAN', 'NULLABLE', 'Is dead?', (), None),\n",
       " SchemaField('by', 'STRING', 'NULLABLE', \"The username of the item's author.\", (), None),\n",
       " SchemaField('score', 'INTEGER', 'NULLABLE', 'Story score', (), None),\n",
       " SchemaField('time', 'INTEGER', 'NULLABLE', 'Unix time', (), None),\n",
       " SchemaField('timestamp', 'TIMESTAMP', 'NULLABLE', 'Timestamp for the unix time', (), None),\n",
       " SchemaField('type', 'STRING', 'NULLABLE', 'Type of details (comment, comment_ranking, poll, story, job, pollopt)', (), None),\n",
       " SchemaField('id', 'INTEGER', 'NULLABLE', \"The item's unique id.\", (), None),\n",
       " SchemaField('parent', 'INTEGER', 'NULLABLE', 'Parent comment ID', (), None),\n",
       " SchemaField('descendants', 'INTEGER', 'NULLABLE', 'Number of story or poll descendants', (), None),\n",
       " SchemaField('ranking', 'INTEGER', 'NULLABLE', 'Comment ranking', (), None),\n",
       " SchemaField('deleted', 'BOOLEAN', 'NULLABLE', 'Is deleted?', (), None)]"
      ]
     },
     "execution_count": 3,
     "metadata": {},
     "output_type": "execute_result"
    }
   ],
   "source": [
    "# Construct a reference to the full table.\n",
    "table_ref = dataset_ref.table(\"full\")\n",
    "\n",
    "# API request - fetch the table\n",
    "table = client.get_table(table_ref)\n",
    "\n",
    "table.schema"
   ]
  },
  {
   "cell_type": "code",
   "execution_count": 4,
   "id": "2f5c7e88",
   "metadata": {
    "execution": {
     "iopub.execute_input": "2022-04-16T05:26:41.530873Z",
     "iopub.status.busy": "2022-04-16T05:26:41.530311Z",
     "iopub.status.idle": "2022-04-16T05:26:42.139868Z",
     "shell.execute_reply": "2022-04-16T05:26:42.139243Z"
    },
    "papermill": {
     "duration": 0.627256,
     "end_time": "2022-04-16T05:26:42.142077",
     "exception": false,
     "start_time": "2022-04-16T05:26:41.514821",
     "status": "completed"
    },
    "tags": []
   },
   "outputs": [
    {
     "name": "stderr",
     "output_type": "stream",
     "text": [
      "/opt/conda/lib/python3.7/site-packages/ipykernel_launcher.py:1: UserWarning: Cannot use bqstorage_client if max_results is set, reverting to fetching data with the tabledata.list endpoint.\n",
      "  \"\"\"Entry point for launching an IPython kernel.\n"
     ]
    },
    {
     "data": {
      "text/html": [
       "<div>\n",
       "<style scoped>\n",
       "    .dataframe tbody tr th:only-of-type {\n",
       "        vertical-align: middle;\n",
       "    }\n",
       "\n",
       "    .dataframe tbody tr th {\n",
       "        vertical-align: top;\n",
       "    }\n",
       "\n",
       "    .dataframe thead th {\n",
       "        text-align: right;\n",
       "    }\n",
       "</style>\n",
       "<table border=\"1\" class=\"dataframe\">\n",
       "  <thead>\n",
       "    <tr style=\"text-align: right;\">\n",
       "      <th></th>\n",
       "      <th>title</th>\n",
       "      <th>url</th>\n",
       "      <th>text</th>\n",
       "      <th>dead</th>\n",
       "      <th>by</th>\n",
       "      <th>score</th>\n",
       "      <th>time</th>\n",
       "      <th>timestamp</th>\n",
       "      <th>type</th>\n",
       "      <th>id</th>\n",
       "      <th>parent</th>\n",
       "      <th>descendants</th>\n",
       "      <th>ranking</th>\n",
       "      <th>deleted</th>\n",
       "    </tr>\n",
       "  </thead>\n",
       "  <tbody>\n",
       "    <tr>\n",
       "      <th>0</th>\n",
       "      <td>None</td>\n",
       "      <td>None</td>\n",
       "      <td>The rates generally are published, via CMS. Th...</td>\n",
       "      <td>None</td>\n",
       "      <td>killjoywashere</td>\n",
       "      <td>NaN</td>\n",
       "      <td>1516081339</td>\n",
       "      <td>2018-01-16 05:42:19+00:00</td>\n",
       "      <td>comment</td>\n",
       "      <td>16156093</td>\n",
       "      <td>16154299</td>\n",
       "      <td>NaN</td>\n",
       "      <td>NaN</td>\n",
       "      <td>None</td>\n",
       "    </tr>\n",
       "    <tr>\n",
       "      <th>1</th>\n",
       "      <td>None</td>\n",
       "      <td>None</td>\n",
       "      <td>Totally is. I live on the East Coast in an ill...</td>\n",
       "      <td>None</td>\n",
       "      <td>nv-vn</td>\n",
       "      <td>NaN</td>\n",
       "      <td>1516081329</td>\n",
       "      <td>2018-01-16 05:42:09+00:00</td>\n",
       "      <td>comment</td>\n",
       "      <td>16156092</td>\n",
       "      <td>16152990</td>\n",
       "      <td>NaN</td>\n",
       "      <td>NaN</td>\n",
       "      <td>None</td>\n",
       "    </tr>\n",
       "    <tr>\n",
       "      <th>2</th>\n",
       "      <td>None</td>\n",
       "      <td>None</td>\n",
       "      <td>The thing is, it seems pretty clear-cut to me ...</td>\n",
       "      <td>None</td>\n",
       "      <td>rgossiaux</td>\n",
       "      <td>NaN</td>\n",
       "      <td>1516081277</td>\n",
       "      <td>2018-01-16 05:41:17+00:00</td>\n",
       "      <td>comment</td>\n",
       "      <td>16156091</td>\n",
       "      <td>16155165</td>\n",
       "      <td>NaN</td>\n",
       "      <td>NaN</td>\n",
       "      <td>None</td>\n",
       "    </tr>\n",
       "    <tr>\n",
       "      <th>3</th>\n",
       "      <td>None</td>\n",
       "      <td>None</td>\n",
       "      <td>from my limited experience with health care in...</td>\n",
       "      <td>None</td>\n",
       "      <td>rosege</td>\n",
       "      <td>NaN</td>\n",
       "      <td>1516081260</td>\n",
       "      <td>2018-01-16 05:41:00+00:00</td>\n",
       "      <td>comment</td>\n",
       "      <td>16156090</td>\n",
       "      <td>16153671</td>\n",
       "      <td>NaN</td>\n",
       "      <td>NaN</td>\n",
       "      <td>None</td>\n",
       "    </tr>\n",
       "    <tr>\n",
       "      <th>4</th>\n",
       "      <td>None</td>\n",
       "      <td>None</td>\n",
       "      <td>If you were Nigerian you&amp;#x27;d probably feel ...</td>\n",
       "      <td>None</td>\n",
       "      <td>ikeyany</td>\n",
       "      <td>NaN</td>\n",
       "      <td>1516081344</td>\n",
       "      <td>2018-01-16 05:42:24+00:00</td>\n",
       "      <td>comment</td>\n",
       "      <td>16156096</td>\n",
       "      <td>16154506</td>\n",
       "      <td>NaN</td>\n",
       "      <td>NaN</td>\n",
       "      <td>None</td>\n",
       "    </tr>\n",
       "  </tbody>\n",
       "</table>\n",
       "</div>"
      ],
      "text/plain": [
       "  title   url                                               text  dead  \\\n",
       "0  None  None  The rates generally are published, via CMS. Th...  None   \n",
       "1  None  None  Totally is. I live on the East Coast in an ill...  None   \n",
       "2  None  None  The thing is, it seems pretty clear-cut to me ...  None   \n",
       "3  None  None  from my limited experience with health care in...  None   \n",
       "4  None  None  If you were Nigerian you&#x27;d probably feel ...  None   \n",
       "\n",
       "               by  score        time                 timestamp     type  \\\n",
       "0  killjoywashere    NaN  1516081339 2018-01-16 05:42:19+00:00  comment   \n",
       "1           nv-vn    NaN  1516081329 2018-01-16 05:42:09+00:00  comment   \n",
       "2       rgossiaux    NaN  1516081277 2018-01-16 05:41:17+00:00  comment   \n",
       "3          rosege    NaN  1516081260 2018-01-16 05:41:00+00:00  comment   \n",
       "4         ikeyany    NaN  1516081344 2018-01-16 05:42:24+00:00  comment   \n",
       "\n",
       "         id    parent  descendants  ranking deleted  \n",
       "0  16156093  16154299          NaN      NaN    None  \n",
       "1  16156092  16152990          NaN      NaN    None  \n",
       "2  16156091  16155165          NaN      NaN    None  \n",
       "3  16156090  16153671          NaN      NaN    None  \n",
       "4  16156096  16154506          NaN      NaN    None  "
      ]
     },
     "execution_count": 4,
     "metadata": {},
     "output_type": "execute_result"
    }
   ],
   "source": [
    "client.list_rows(table, max_results=5).to_dataframe()"
   ]
  },
  {
   "cell_type": "code",
   "execution_count": 5,
   "id": "19bcf934",
   "metadata": {
    "execution": {
     "iopub.execute_input": "2022-04-16T05:26:42.174699Z",
     "iopub.status.busy": "2022-04-16T05:26:42.174435Z",
     "iopub.status.idle": "2022-04-16T05:26:42.576309Z",
     "shell.execute_reply": "2022-04-16T05:26:42.575464Z"
    },
    "papermill": {
     "duration": 0.421402,
     "end_time": "2022-04-16T05:26:42.578827",
     "exception": false,
     "start_time": "2022-04-16T05:26:42.157425",
     "status": "completed"
    },
    "tags": []
   },
   "outputs": [
    {
     "name": "stderr",
     "output_type": "stream",
     "text": [
      "/opt/conda/lib/python3.7/site-packages/ipykernel_launcher.py:1: UserWarning: Cannot use bqstorage_client if max_results is set, reverting to fetching data with the tabledata.list endpoint.\n",
      "  \"\"\"Entry point for launching an IPython kernel.\n"
     ]
    },
    {
     "data": {
      "text/html": [
       "<div>\n",
       "<style scoped>\n",
       "    .dataframe tbody tr th:only-of-type {\n",
       "        vertical-align: middle;\n",
       "    }\n",
       "\n",
       "    .dataframe tbody tr th {\n",
       "        vertical-align: top;\n",
       "    }\n",
       "\n",
       "    .dataframe thead th {\n",
       "        text-align: right;\n",
       "    }\n",
       "</style>\n",
       "<table border=\"1\" class=\"dataframe\">\n",
       "  <thead>\n",
       "    <tr style=\"text-align: right;\">\n",
       "      <th></th>\n",
       "      <th>text</th>\n",
       "    </tr>\n",
       "  </thead>\n",
       "  <tbody>\n",
       "    <tr>\n",
       "      <th>0</th>\n",
       "      <td>The rates generally are published, via CMS. Th...</td>\n",
       "    </tr>\n",
       "    <tr>\n",
       "      <th>1</th>\n",
       "      <td>Totally is. I live on the East Coast in an ill...</td>\n",
       "    </tr>\n",
       "    <tr>\n",
       "      <th>2</th>\n",
       "      <td>The thing is, it seems pretty clear-cut to me ...</td>\n",
       "    </tr>\n",
       "    <tr>\n",
       "      <th>3</th>\n",
       "      <td>from my limited experience with health care in...</td>\n",
       "    </tr>\n",
       "    <tr>\n",
       "      <th>4</th>\n",
       "      <td>If you were Nigerian you&amp;#x27;d probably feel ...</td>\n",
       "    </tr>\n",
       "  </tbody>\n",
       "</table>\n",
       "</div>"
      ],
      "text/plain": [
       "                                                text\n",
       "0  The rates generally are published, via CMS. Th...\n",
       "1  Totally is. I live on the East Coast in an ill...\n",
       "2  The thing is, it seems pretty clear-cut to me ...\n",
       "3  from my limited experience with health care in...\n",
       "4  If you were Nigerian you&#x27;d probably feel ..."
      ]
     },
     "execution_count": 5,
     "metadata": {},
     "output_type": "execute_result"
    }
   ],
   "source": [
    "client.list_rows(table, selected_fields=table.schema[2:3], max_results=5).to_dataframe()"
   ]
  },
  {
   "cell_type": "markdown",
   "id": "35bf1e7d",
   "metadata": {
    "papermill": {
     "duration": 0.01578,
     "end_time": "2022-04-16T05:26:42.610626",
     "exception": false,
     "start_time": "2022-04-16T05:26:42.594846",
     "status": "completed"
    },
    "tags": []
   },
   "source": [
    "## Practice"
   ]
  },
  {
   "cell_type": "code",
   "execution_count": 6,
   "id": "0194c53f",
   "metadata": {
    "execution": {
     "iopub.execute_input": "2022-04-16T05:26:42.644188Z",
     "iopub.status.busy": "2022-04-16T05:26:42.643772Z",
     "iopub.status.idle": "2022-04-16T05:26:42.873680Z",
     "shell.execute_reply": "2022-04-16T05:26:42.872692Z"
    },
    "papermill": {
     "duration": 0.249368,
     "end_time": "2022-04-16T05:26:42.875989",
     "exception": false,
     "start_time": "2022-04-16T05:26:42.626621",
     "status": "completed"
    },
    "tags": []
   },
   "outputs": [
    {
     "name": "stdout",
     "output_type": "stream",
     "text": [
      "Using Kaggle's public dataset BigQuery integration.\n"
     ]
    }
   ],
   "source": [
    "from google.cloud import bigquery\n",
    "\n",
    "# Create a \"Client\" object\n",
    "client = bigquery.Client()\n",
    "\n",
    "# Construct a reference to the \"chicago_crime\" dataset\n",
    "dataset_ref = client.dataset('chicago_crime', project='bigquery-public-data')\n",
    "\n",
    "# API request - fetch the dataset\n",
    "dataset = client.get_dataset(dataset_ref)"
   ]
  },
  {
   "cell_type": "code",
   "execution_count": 7,
   "id": "9373387c",
   "metadata": {
    "execution": {
     "iopub.execute_input": "2022-04-16T05:26:42.914812Z",
     "iopub.status.busy": "2022-04-16T05:26:42.914500Z",
     "iopub.status.idle": "2022-04-16T05:26:43.131476Z",
     "shell.execute_reply": "2022-04-16T05:26:43.130786Z"
    },
    "papermill": {
     "duration": 0.240407,
     "end_time": "2022-04-16T05:26:43.133515",
     "exception": false,
     "start_time": "2022-04-16T05:26:42.893108",
     "status": "completed"
    },
    "tags": []
   },
   "outputs": [
    {
     "name": "stdout",
     "output_type": "stream",
     "text": [
      "crime\n"
     ]
    }
   ],
   "source": [
    "tables = list(client.list_tables(dataset))\n",
    "\n",
    "for table in tables:\n",
    "    print(table.table_id)"
   ]
  },
  {
   "cell_type": "code",
   "execution_count": 8,
   "id": "dc542a0e",
   "metadata": {
    "execution": {
     "iopub.execute_input": "2022-04-16T05:26:43.169154Z",
     "iopub.status.busy": "2022-04-16T05:26:43.168863Z",
     "iopub.status.idle": "2022-04-16T05:26:43.367893Z",
     "shell.execute_reply": "2022-04-16T05:26:43.366871Z"
    },
    "papermill": {
     "duration": 0.220196,
     "end_time": "2022-04-16T05:26:43.370536",
     "exception": false,
     "start_time": "2022-04-16T05:26:43.150340",
     "status": "completed"
    },
    "tags": []
   },
   "outputs": [
    {
     "data": {
      "text/plain": [
       "[SchemaField('unique_key', 'INTEGER', 'REQUIRED', None, (), None),\n",
       " SchemaField('case_number', 'STRING', 'NULLABLE', None, (), None),\n",
       " SchemaField('date', 'TIMESTAMP', 'NULLABLE', None, (), None),\n",
       " SchemaField('block', 'STRING', 'NULLABLE', None, (), None),\n",
       " SchemaField('iucr', 'STRING', 'NULLABLE', None, (), None),\n",
       " SchemaField('primary_type', 'STRING', 'NULLABLE', None, (), None),\n",
       " SchemaField('description', 'STRING', 'NULLABLE', None, (), None),\n",
       " SchemaField('location_description', 'STRING', 'NULLABLE', None, (), None),\n",
       " SchemaField('arrest', 'BOOLEAN', 'NULLABLE', None, (), None),\n",
       " SchemaField('domestic', 'BOOLEAN', 'NULLABLE', None, (), None),\n",
       " SchemaField('beat', 'INTEGER', 'NULLABLE', None, (), None),\n",
       " SchemaField('district', 'INTEGER', 'NULLABLE', None, (), None),\n",
       " SchemaField('ward', 'INTEGER', 'NULLABLE', None, (), None),\n",
       " SchemaField('community_area', 'INTEGER', 'NULLABLE', None, (), None),\n",
       " SchemaField('fbi_code', 'STRING', 'NULLABLE', None, (), None),\n",
       " SchemaField('x_coordinate', 'FLOAT', 'NULLABLE', None, (), None),\n",
       " SchemaField('y_coordinate', 'FLOAT', 'NULLABLE', None, (), None),\n",
       " SchemaField('year', 'INTEGER', 'NULLABLE', None, (), None),\n",
       " SchemaField('updated_on', 'TIMESTAMP', 'NULLABLE', None, (), None),\n",
       " SchemaField('latitude', 'FLOAT', 'NULLABLE', None, (), None),\n",
       " SchemaField('longitude', 'FLOAT', 'NULLABLE', None, (), None),\n",
       " SchemaField('location', 'STRING', 'NULLABLE', None, (), None)]"
      ]
     },
     "execution_count": 8,
     "metadata": {},
     "output_type": "execute_result"
    }
   ],
   "source": [
    "table_ref = dataset_ref.table('crime')\n",
    "\n",
    "# API request to fetch the table\n",
    "table = client.get_table(table_ref)\n",
    "\n",
    "table.schema"
   ]
  },
  {
   "cell_type": "code",
   "execution_count": 9,
   "id": "d82e28cf",
   "metadata": {
    "execution": {
     "iopub.execute_input": "2022-04-16T05:26:43.407642Z",
     "iopub.status.busy": "2022-04-16T05:26:43.406954Z",
     "iopub.status.idle": "2022-04-16T05:26:44.056880Z",
     "shell.execute_reply": "2022-04-16T05:26:44.056059Z"
    },
    "papermill": {
     "duration": 0.67039,
     "end_time": "2022-04-16T05:26:44.058817",
     "exception": false,
     "start_time": "2022-04-16T05:26:43.388427",
     "status": "completed"
    },
    "tags": []
   },
   "outputs": [
    {
     "name": "stderr",
     "output_type": "stream",
     "text": [
      "/opt/conda/lib/python3.7/site-packages/ipykernel_launcher.py:1: UserWarning: Cannot use bqstorage_client if max_results is set, reverting to fetching data with the tabledata.list endpoint.\n",
      "  \"\"\"Entry point for launching an IPython kernel.\n"
     ]
    },
    {
     "data": {
      "text/html": [
       "<div>\n",
       "<style scoped>\n",
       "    .dataframe tbody tr th:only-of-type {\n",
       "        vertical-align: middle;\n",
       "    }\n",
       "\n",
       "    .dataframe tbody tr th {\n",
       "        vertical-align: top;\n",
       "    }\n",
       "\n",
       "    .dataframe thead th {\n",
       "        text-align: right;\n",
       "    }\n",
       "</style>\n",
       "<table border=\"1\" class=\"dataframe\">\n",
       "  <thead>\n",
       "    <tr style=\"text-align: right;\">\n",
       "      <th></th>\n",
       "      <th>unique_key</th>\n",
       "      <th>case_number</th>\n",
       "      <th>date</th>\n",
       "      <th>block</th>\n",
       "      <th>iucr</th>\n",
       "      <th>primary_type</th>\n",
       "      <th>description</th>\n",
       "      <th>location_description</th>\n",
       "      <th>arrest</th>\n",
       "      <th>domestic</th>\n",
       "      <th>...</th>\n",
       "      <th>ward</th>\n",
       "      <th>community_area</th>\n",
       "      <th>fbi_code</th>\n",
       "      <th>x_coordinate</th>\n",
       "      <th>y_coordinate</th>\n",
       "      <th>year</th>\n",
       "      <th>updated_on</th>\n",
       "      <th>latitude</th>\n",
       "      <th>longitude</th>\n",
       "      <th>location</th>\n",
       "    </tr>\n",
       "  </thead>\n",
       "  <tbody>\n",
       "    <tr>\n",
       "      <th>0</th>\n",
       "      <td>4308177</td>\n",
       "      <td>HL616890</td>\n",
       "      <td>2005-09-16 08:30:00+00:00</td>\n",
       "      <td>032XX S PRINCETON AVE</td>\n",
       "      <td>1210</td>\n",
       "      <td>DECEPTIVE PRACTICE</td>\n",
       "      <td>THEFT OF LABOR/SERVICES</td>\n",
       "      <td>TAXICAB</td>\n",
       "      <td>False</td>\n",
       "      <td>False</td>\n",
       "      <td>...</td>\n",
       "      <td>11</td>\n",
       "      <td>34</td>\n",
       "      <td>11</td>\n",
       "      <td>1174818.0</td>\n",
       "      <td>1883378.0</td>\n",
       "      <td>2005</td>\n",
       "      <td>2018-02-28 03:56:25+00:00</td>\n",
       "      <td>41.835379</td>\n",
       "      <td>-87.634034</td>\n",
       "      <td>(41.835378954, -87.634034466)</td>\n",
       "    </tr>\n",
       "    <tr>\n",
       "      <th>1</th>\n",
       "      <td>4321424</td>\n",
       "      <td>HL614310</td>\n",
       "      <td>2005-09-07 12:00:00+00:00</td>\n",
       "      <td>050XX S ARCHER AVE</td>\n",
       "      <td>1122</td>\n",
       "      <td>DECEPTIVE PRACTICE</td>\n",
       "      <td>COUNTERFEIT CHECK</td>\n",
       "      <td>BANK</td>\n",
       "      <td>False</td>\n",
       "      <td>False</td>\n",
       "      <td>...</td>\n",
       "      <td>23</td>\n",
       "      <td>57</td>\n",
       "      <td>10</td>\n",
       "      <td>1149380.0</td>\n",
       "      <td>1870669.0</td>\n",
       "      <td>2005</td>\n",
       "      <td>2018-02-28 03:56:25+00:00</td>\n",
       "      <td>41.801034</td>\n",
       "      <td>-87.727704</td>\n",
       "      <td>(41.801034017, -87.727703751)</td>\n",
       "    </tr>\n",
       "    <tr>\n",
       "      <th>2</th>\n",
       "      <td>4324795</td>\n",
       "      <td>HL629710</td>\n",
       "      <td>2005-09-22 11:30:00+00:00</td>\n",
       "      <td>087XX S CRANDON AVE</td>\n",
       "      <td>0496</td>\n",
       "      <td>BATTERY</td>\n",
       "      <td>AGGRAVATED DOMESTIC BATTERY: KNIFE/CUTTING INST</td>\n",
       "      <td>RESIDENCE</td>\n",
       "      <td>False</td>\n",
       "      <td>True</td>\n",
       "      <td>...</td>\n",
       "      <td>8</td>\n",
       "      <td>48</td>\n",
       "      <td>04B</td>\n",
       "      <td>1193018.0</td>\n",
       "      <td>1847430.0</td>\n",
       "      <td>2005</td>\n",
       "      <td>2018-02-10 03:50:01+00:00</td>\n",
       "      <td>41.736309</td>\n",
       "      <td>-87.568428</td>\n",
       "      <td>(41.736309285, -87.568427589)</td>\n",
       "    </tr>\n",
       "    <tr>\n",
       "      <th>3</th>\n",
       "      <td>4325028</td>\n",
       "      <td>HL615482</td>\n",
       "      <td>2005-09-15 09:30:00+00:00</td>\n",
       "      <td>053XX S PULASKI RD</td>\n",
       "      <td>1110</td>\n",
       "      <td>DECEPTIVE PRACTICE</td>\n",
       "      <td>BOGUS CHECK</td>\n",
       "      <td>GROCERY FOOD STORE</td>\n",
       "      <td>False</td>\n",
       "      <td>False</td>\n",
       "      <td>...</td>\n",
       "      <td>23</td>\n",
       "      <td>62</td>\n",
       "      <td>11</td>\n",
       "      <td>1150606.0</td>\n",
       "      <td>1868988.0</td>\n",
       "      <td>2005</td>\n",
       "      <td>2018-02-10 03:50:01+00:00</td>\n",
       "      <td>41.796397</td>\n",
       "      <td>-87.723251</td>\n",
       "      <td>(41.79639731, -87.723251281)</td>\n",
       "    </tr>\n",
       "    <tr>\n",
       "      <th>4</th>\n",
       "      <td>4329873</td>\n",
       "      <td>HL633937</td>\n",
       "      <td>2005-09-25 02:51:00+00:00</td>\n",
       "      <td>092XX S DOBSON AVE</td>\n",
       "      <td>0325</td>\n",
       "      <td>ROBBERY</td>\n",
       "      <td>VEHICULAR HIJACKING</td>\n",
       "      <td>STREET</td>\n",
       "      <td>False</td>\n",
       "      <td>False</td>\n",
       "      <td>...</td>\n",
       "      <td>8</td>\n",
       "      <td>47</td>\n",
       "      <td>03</td>\n",
       "      <td>1184833.0</td>\n",
       "      <td>1843829.0</td>\n",
       "      <td>2005</td>\n",
       "      <td>2018-02-28 03:56:25+00:00</td>\n",
       "      <td>41.726623</td>\n",
       "      <td>-87.598527</td>\n",
       "      <td>(41.726623452, -87.59852684)</td>\n",
       "    </tr>\n",
       "  </tbody>\n",
       "</table>\n",
       "<p>5 rows × 22 columns</p>\n",
       "</div>"
      ],
      "text/plain": [
       "   unique_key case_number                      date                  block  \\\n",
       "0     4308177    HL616890 2005-09-16 08:30:00+00:00  032XX S PRINCETON AVE   \n",
       "1     4321424    HL614310 2005-09-07 12:00:00+00:00     050XX S ARCHER AVE   \n",
       "2     4324795    HL629710 2005-09-22 11:30:00+00:00    087XX S CRANDON AVE   \n",
       "3     4325028    HL615482 2005-09-15 09:30:00+00:00     053XX S PULASKI RD   \n",
       "4     4329873    HL633937 2005-09-25 02:51:00+00:00     092XX S DOBSON AVE   \n",
       "\n",
       "   iucr        primary_type                                      description  \\\n",
       "0  1210  DECEPTIVE PRACTICE                          THEFT OF LABOR/SERVICES   \n",
       "1  1122  DECEPTIVE PRACTICE                                COUNTERFEIT CHECK   \n",
       "2  0496             BATTERY  AGGRAVATED DOMESTIC BATTERY: KNIFE/CUTTING INST   \n",
       "3  1110  DECEPTIVE PRACTICE                                      BOGUS CHECK   \n",
       "4  0325             ROBBERY                              VEHICULAR HIJACKING   \n",
       "\n",
       "  location_description  arrest  domestic  ...  ward  community_area  fbi_code  \\\n",
       "0              TAXICAB   False     False  ...    11              34        11   \n",
       "1                 BANK   False     False  ...    23              57        10   \n",
       "2            RESIDENCE   False      True  ...     8              48       04B   \n",
       "3   GROCERY FOOD STORE   False     False  ...    23              62        11   \n",
       "4               STREET   False     False  ...     8              47        03   \n",
       "\n",
       "   x_coordinate y_coordinate  year                updated_on   latitude  \\\n",
       "0     1174818.0    1883378.0  2005 2018-02-28 03:56:25+00:00  41.835379   \n",
       "1     1149380.0    1870669.0  2005 2018-02-28 03:56:25+00:00  41.801034   \n",
       "2     1193018.0    1847430.0  2005 2018-02-10 03:50:01+00:00  41.736309   \n",
       "3     1150606.0    1868988.0  2005 2018-02-10 03:50:01+00:00  41.796397   \n",
       "4     1184833.0    1843829.0  2005 2018-02-28 03:56:25+00:00  41.726623   \n",
       "\n",
       "   longitude                       location  \n",
       "0 -87.634034  (41.835378954, -87.634034466)  \n",
       "1 -87.727704  (41.801034017, -87.727703751)  \n",
       "2 -87.568428  (41.736309285, -87.568427589)  \n",
       "3 -87.723251   (41.79639731, -87.723251281)  \n",
       "4 -87.598527   (41.726623452, -87.59852684)  \n",
       "\n",
       "[5 rows x 22 columns]"
      ]
     },
     "execution_count": 9,
     "metadata": {},
     "output_type": "execute_result"
    }
   ],
   "source": [
    "client.list_rows(table, max_results=5).to_dataframe()"
   ]
  },
  {
   "cell_type": "code",
   "execution_count": null,
   "id": "399e5a0b",
   "metadata": {
    "papermill": {
     "duration": 0.018337,
     "end_time": "2022-04-16T05:26:44.096119",
     "exception": false,
     "start_time": "2022-04-16T05:26:44.077782",
     "status": "completed"
    },
    "tags": []
   },
   "outputs": [],
   "source": [
    "    "
   ]
  }
 ],
 "metadata": {
  "kernelspec": {
   "display_name": "Python 3",
   "language": "python",
   "name": "python3"
  },
  "language_info": {
   "codemirror_mode": {
    "name": "ipython",
    "version": 3
   },
   "file_extension": ".py",
   "mimetype": "text/x-python",
   "name": "python",
   "nbconvert_exporter": "python",
   "pygments_lexer": "ipython3",
   "version": "3.7.12"
  },
  "papermill": {
   "default_parameters": {},
   "duration": 14.082853,
   "end_time": "2022-04-16T05:26:44.735435",
   "environment_variables": {},
   "exception": null,
   "input_path": "__notebook__.ipynb",
   "output_path": "__notebook__.ipynb",
   "parameters": {},
   "start_time": "2022-04-16T05:26:30.652582",
   "version": "2.3.4"
  }
 },
 "nbformat": 4,
 "nbformat_minor": 5
}
