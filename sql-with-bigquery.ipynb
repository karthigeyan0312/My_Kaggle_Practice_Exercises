{
 "cells": [
  {
   "cell_type": "code",
   "execution_count": 1,
   "id": "8e01560a",
   "metadata": {
    "_cell_guid": "b1076dfc-b9ad-4769-8c92-a6c4dae69d19",
    "_uuid": "8f2839f25d086af736a60e9eeb907d3b93b6e0e5",
    "execution": {
     "iopub.execute_input": "2022-04-16T11:25:32.631419Z",
     "iopub.status.busy": "2022-04-16T11:25:32.630902Z",
     "iopub.status.idle": "2022-04-16T11:25:32.642542Z",
     "shell.execute_reply": "2022-04-16T11:25:32.641917Z"
    },
    "papermill": {
     "duration": 0.037199,
     "end_time": "2022-04-16T11:25:32.644559",
     "exception": false,
     "start_time": "2022-04-16T11:25:32.607360",
     "status": "completed"
    },
    "tags": []
   },
   "outputs": [],
   "source": [
    "# This Python 3 environment comes with many helpful analytics libraries installed\n",
    "# It is defined by the kaggle/python Docker image: https://github.com/kaggle/docker-python\n",
    "# For example, here's several helpful packages to load\n",
    "\n",
    "import numpy as np # linear algebra\n",
    "import pandas as pd # data processing, CSV file I/O (e.g. pd.read_csv)\n",
    "\n",
    "# Input data files are available in the read-only \"../input/\" directory\n",
    "# For example, running this (by clicking run or pressing Shift+Enter) will list all files under the input directory\n",
    "\n",
    "import os\n",
    "for dirname, _, filenames in os.walk('/kaggle/input'):\n",
    "    for filename in filenames:\n",
    "        print(os.path.join(dirname, filename))\n",
    "\n",
    "# You can write up to 20GB to the current directory (/kaggle/working/) that gets preserved as output when you create a version using \"Save & Run All\" \n",
    "# You can also write temporary files to /kaggle/temp/, but they won't be saved outside of the current session"
   ]
  },
  {
   "cell_type": "markdown",
   "id": "64462f74",
   "metadata": {
    "papermill": {
     "duration": 0.019474,
     "end_time": "2022-04-16T11:25:32.684035",
     "exception": false,
     "start_time": "2022-04-16T11:25:32.664561",
     "status": "completed"
    },
    "tags": []
   },
   "source": [
    "## Fetch a Dataset with Bigquery"
   ]
  },
  {
   "cell_type": "code",
   "execution_count": 2,
   "id": "cfb7ece0",
   "metadata": {
    "execution": {
     "iopub.execute_input": "2022-04-16T11:25:32.726548Z",
     "iopub.status.busy": "2022-04-16T11:25:32.726133Z",
     "iopub.status.idle": "2022-04-16T11:25:33.636367Z",
     "shell.execute_reply": "2022-04-16T11:25:33.635404Z"
    },
    "papermill": {
     "duration": 0.9347,
     "end_time": "2022-04-16T11:25:33.639197",
     "exception": false,
     "start_time": "2022-04-16T11:25:32.704497",
     "status": "completed"
    },
    "tags": []
   },
   "outputs": [
    {
     "name": "stdout",
     "output_type": "stream",
     "text": [
      "Using Kaggle's public dataset BigQuery integration.\n",
      "comments\n",
      "full\n",
      "full_201510\n",
      "stories\n"
     ]
    }
   ],
   "source": [
    "from google.cloud import bigquery\n",
    "\n",
    "# Create a Client Object\n",
    "client = bigquery.Client()\n",
    "\n",
    "# Construct a reference to the \"hacker_news\" dataset\n",
    "dataset_ref = client.dataset(\"hacker_news\", project=\"bigquery-public-data\")\n",
    "\n",
    "# API request to fetch the dataset\n",
    "dataset = client.get_dataset(dataset_ref)\n",
    "\n",
    "# Construct a reference to the \"hacker_news\" dataset\n",
    "dataset_ref = client.dataset(\"hacker_news\", project=\"bigquery-public-data\")\n",
    "\n",
    "# API request to fetch the dataset\n",
    "dataset = client.get_dataset(dataset_ref)\n",
    "\n",
    "# List all the tables in the \"hacker_news\" dataset\n",
    "tables = list(client.list_tables(dataset))\n",
    "\n",
    "# Print names of all the tables in the dataset\n",
    "for table in tables:\n",
    "    print(table.table_id)"
   ]
  },
  {
   "cell_type": "markdown",
   "id": "e9b0eaa3",
   "metadata": {
    "papermill": {
     "duration": 0.021719,
     "end_time": "2022-04-16T11:25:33.683687",
     "exception": false,
     "start_time": "2022-04-16T11:25:33.661968",
     "status": "completed"
    },
    "tags": []
   },
   "source": [
    "## Fetch a Table"
   ]
  },
  {
   "cell_type": "code",
   "execution_count": 3,
   "id": "eadb6ed9",
   "metadata": {
    "execution": {
     "iopub.execute_input": "2022-04-16T11:25:33.728826Z",
     "iopub.status.busy": "2022-04-16T11:25:33.728002Z",
     "iopub.status.idle": "2022-04-16T11:25:33.955310Z",
     "shell.execute_reply": "2022-04-16T11:25:33.954418Z"
    },
    "papermill": {
     "duration": 0.252171,
     "end_time": "2022-04-16T11:25:33.957541",
     "exception": false,
     "start_time": "2022-04-16T11:25:33.705370",
     "status": "completed"
    },
    "tags": []
   },
   "outputs": [
    {
     "data": {
      "text/plain": [
       "[SchemaField('title', 'STRING', 'NULLABLE', 'Story title', (), None),\n",
       " SchemaField('url', 'STRING', 'NULLABLE', 'Story url', (), None),\n",
       " SchemaField('text', 'STRING', 'NULLABLE', 'Story or comment text', (), None),\n",
       " SchemaField('dead', 'BOOLEAN', 'NULLABLE', 'Is dead?', (), None),\n",
       " SchemaField('by', 'STRING', 'NULLABLE', \"The username of the item's author.\", (), None),\n",
       " SchemaField('score', 'INTEGER', 'NULLABLE', 'Story score', (), None),\n",
       " SchemaField('time', 'INTEGER', 'NULLABLE', 'Unix time', (), None),\n",
       " SchemaField('timestamp', 'TIMESTAMP', 'NULLABLE', 'Timestamp for the unix time', (), None),\n",
       " SchemaField('type', 'STRING', 'NULLABLE', 'Type of details (comment, comment_ranking, poll, story, job, pollopt)', (), None),\n",
       " SchemaField('id', 'INTEGER', 'NULLABLE', \"The item's unique id.\", (), None),\n",
       " SchemaField('parent', 'INTEGER', 'NULLABLE', 'Parent comment ID', (), None),\n",
       " SchemaField('descendants', 'INTEGER', 'NULLABLE', 'Number of story or poll descendants', (), None),\n",
       " SchemaField('ranking', 'INTEGER', 'NULLABLE', 'Comment ranking', (), None),\n",
       " SchemaField('deleted', 'BOOLEAN', 'NULLABLE', 'Is deleted?', (), None)]"
      ]
     },
     "execution_count": 3,
     "metadata": {},
     "output_type": "execute_result"
    }
   ],
   "source": [
    "# Construct a reference to the full table.\n",
    "table_ref = dataset_ref.table(\"full\")\n",
    "\n",
    "# API request - fetch the table\n",
    "table = client.get_table(table_ref)\n",
    "\n",
    "table.schema"
   ]
  },
  {
   "cell_type": "code",
   "execution_count": 4,
   "id": "238e6caa",
   "metadata": {
    "execution": {
     "iopub.execute_input": "2022-04-16T11:25:34.004684Z",
     "iopub.status.busy": "2022-04-16T11:25:34.004332Z",
     "iopub.status.idle": "2022-04-16T11:25:34.569050Z",
     "shell.execute_reply": "2022-04-16T11:25:34.568242Z"
    },
    "papermill": {
     "duration": 0.590518,
     "end_time": "2022-04-16T11:25:34.571534",
     "exception": false,
     "start_time": "2022-04-16T11:25:33.981016",
     "status": "completed"
    },
    "tags": []
   },
   "outputs": [
    {
     "name": "stderr",
     "output_type": "stream",
     "text": [
      "/opt/conda/lib/python3.7/site-packages/ipykernel_launcher.py:1: UserWarning: Cannot use bqstorage_client if max_results is set, reverting to fetching data with the tabledata.list endpoint.\n",
      "  \"\"\"Entry point for launching an IPython kernel.\n"
     ]
    },
    {
     "data": {
      "text/html": [
       "<div>\n",
       "<style scoped>\n",
       "    .dataframe tbody tr th:only-of-type {\n",
       "        vertical-align: middle;\n",
       "    }\n",
       "\n",
       "    .dataframe tbody tr th {\n",
       "        vertical-align: top;\n",
       "    }\n",
       "\n",
       "    .dataframe thead th {\n",
       "        text-align: right;\n",
       "    }\n",
       "</style>\n",
       "<table border=\"1\" class=\"dataframe\">\n",
       "  <thead>\n",
       "    <tr style=\"text-align: right;\">\n",
       "      <th></th>\n",
       "      <th>title</th>\n",
       "      <th>url</th>\n",
       "      <th>text</th>\n",
       "      <th>dead</th>\n",
       "      <th>by</th>\n",
       "      <th>score</th>\n",
       "      <th>time</th>\n",
       "      <th>timestamp</th>\n",
       "      <th>type</th>\n",
       "      <th>id</th>\n",
       "      <th>parent</th>\n",
       "      <th>descendants</th>\n",
       "      <th>ranking</th>\n",
       "      <th>deleted</th>\n",
       "    </tr>\n",
       "  </thead>\n",
       "  <tbody>\n",
       "    <tr>\n",
       "      <th>0</th>\n",
       "      <td>None</td>\n",
       "      <td>None</td>\n",
       "      <td>The rates generally are published, via CMS. Th...</td>\n",
       "      <td>None</td>\n",
       "      <td>killjoywashere</td>\n",
       "      <td>NaN</td>\n",
       "      <td>1516081339</td>\n",
       "      <td>2018-01-16 05:42:19+00:00</td>\n",
       "      <td>comment</td>\n",
       "      <td>16156093</td>\n",
       "      <td>16154299</td>\n",
       "      <td>NaN</td>\n",
       "      <td>NaN</td>\n",
       "      <td>None</td>\n",
       "    </tr>\n",
       "    <tr>\n",
       "      <th>1</th>\n",
       "      <td>None</td>\n",
       "      <td>None</td>\n",
       "      <td>Totally is. I live on the East Coast in an ill...</td>\n",
       "      <td>None</td>\n",
       "      <td>nv-vn</td>\n",
       "      <td>NaN</td>\n",
       "      <td>1516081329</td>\n",
       "      <td>2018-01-16 05:42:09+00:00</td>\n",
       "      <td>comment</td>\n",
       "      <td>16156092</td>\n",
       "      <td>16152990</td>\n",
       "      <td>NaN</td>\n",
       "      <td>NaN</td>\n",
       "      <td>None</td>\n",
       "    </tr>\n",
       "    <tr>\n",
       "      <th>2</th>\n",
       "      <td>None</td>\n",
       "      <td>None</td>\n",
       "      <td>The thing is, it seems pretty clear-cut to me ...</td>\n",
       "      <td>None</td>\n",
       "      <td>rgossiaux</td>\n",
       "      <td>NaN</td>\n",
       "      <td>1516081277</td>\n",
       "      <td>2018-01-16 05:41:17+00:00</td>\n",
       "      <td>comment</td>\n",
       "      <td>16156091</td>\n",
       "      <td>16155165</td>\n",
       "      <td>NaN</td>\n",
       "      <td>NaN</td>\n",
       "      <td>None</td>\n",
       "    </tr>\n",
       "    <tr>\n",
       "      <th>3</th>\n",
       "      <td>None</td>\n",
       "      <td>None</td>\n",
       "      <td>from my limited experience with health care in...</td>\n",
       "      <td>None</td>\n",
       "      <td>rosege</td>\n",
       "      <td>NaN</td>\n",
       "      <td>1516081260</td>\n",
       "      <td>2018-01-16 05:41:00+00:00</td>\n",
       "      <td>comment</td>\n",
       "      <td>16156090</td>\n",
       "      <td>16153671</td>\n",
       "      <td>NaN</td>\n",
       "      <td>NaN</td>\n",
       "      <td>None</td>\n",
       "    </tr>\n",
       "    <tr>\n",
       "      <th>4</th>\n",
       "      <td>None</td>\n",
       "      <td>None</td>\n",
       "      <td>If you were Nigerian you&amp;#x27;d probably feel ...</td>\n",
       "      <td>None</td>\n",
       "      <td>ikeyany</td>\n",
       "      <td>NaN</td>\n",
       "      <td>1516081344</td>\n",
       "      <td>2018-01-16 05:42:24+00:00</td>\n",
       "      <td>comment</td>\n",
       "      <td>16156096</td>\n",
       "      <td>16154506</td>\n",
       "      <td>NaN</td>\n",
       "      <td>NaN</td>\n",
       "      <td>None</td>\n",
       "    </tr>\n",
       "  </tbody>\n",
       "</table>\n",
       "</div>"
      ],
      "text/plain": [
       "  title   url                                               text  dead  \\\n",
       "0  None  None  The rates generally are published, via CMS. Th...  None   \n",
       "1  None  None  Totally is. I live on the East Coast in an ill...  None   \n",
       "2  None  None  The thing is, it seems pretty clear-cut to me ...  None   \n",
       "3  None  None  from my limited experience with health care in...  None   \n",
       "4  None  None  If you were Nigerian you&#x27;d probably feel ...  None   \n",
       "\n",
       "               by  score        time                 timestamp     type  \\\n",
       "0  killjoywashere    NaN  1516081339 2018-01-16 05:42:19+00:00  comment   \n",
       "1           nv-vn    NaN  1516081329 2018-01-16 05:42:09+00:00  comment   \n",
       "2       rgossiaux    NaN  1516081277 2018-01-16 05:41:17+00:00  comment   \n",
       "3          rosege    NaN  1516081260 2018-01-16 05:41:00+00:00  comment   \n",
       "4         ikeyany    NaN  1516081344 2018-01-16 05:42:24+00:00  comment   \n",
       "\n",
       "         id    parent  descendants  ranking deleted  \n",
       "0  16156093  16154299          NaN      NaN    None  \n",
       "1  16156092  16152990          NaN      NaN    None  \n",
       "2  16156091  16155165          NaN      NaN    None  \n",
       "3  16156090  16153671          NaN      NaN    None  \n",
       "4  16156096  16154506          NaN      NaN    None  "
      ]
     },
     "execution_count": 4,
     "metadata": {},
     "output_type": "execute_result"
    }
   ],
   "source": [
    "client.list_rows(table, max_results=5).to_dataframe()"
   ]
  },
  {
   "cell_type": "code",
   "execution_count": 5,
   "id": "6c04ba7b",
   "metadata": {
    "execution": {
     "iopub.execute_input": "2022-04-16T11:25:34.622003Z",
     "iopub.status.busy": "2022-04-16T11:25:34.621298Z",
     "iopub.status.idle": "2022-04-16T11:25:35.011203Z",
     "shell.execute_reply": "2022-04-16T11:25:35.010169Z"
    },
    "papermill": {
     "duration": 0.415682,
     "end_time": "2022-04-16T11:25:35.013421",
     "exception": false,
     "start_time": "2022-04-16T11:25:34.597739",
     "status": "completed"
    },
    "tags": []
   },
   "outputs": [
    {
     "name": "stderr",
     "output_type": "stream",
     "text": [
      "/opt/conda/lib/python3.7/site-packages/ipykernel_launcher.py:1: UserWarning: Cannot use bqstorage_client if max_results is set, reverting to fetching data with the tabledata.list endpoint.\n",
      "  \"\"\"Entry point for launching an IPython kernel.\n"
     ]
    },
    {
     "data": {
      "text/html": [
       "<div>\n",
       "<style scoped>\n",
       "    .dataframe tbody tr th:only-of-type {\n",
       "        vertical-align: middle;\n",
       "    }\n",
       "\n",
       "    .dataframe tbody tr th {\n",
       "        vertical-align: top;\n",
       "    }\n",
       "\n",
       "    .dataframe thead th {\n",
       "        text-align: right;\n",
       "    }\n",
       "</style>\n",
       "<table border=\"1\" class=\"dataframe\">\n",
       "  <thead>\n",
       "    <tr style=\"text-align: right;\">\n",
       "      <th></th>\n",
       "      <th>text</th>\n",
       "    </tr>\n",
       "  </thead>\n",
       "  <tbody>\n",
       "    <tr>\n",
       "      <th>0</th>\n",
       "      <td>The rates generally are published, via CMS. Th...</td>\n",
       "    </tr>\n",
       "    <tr>\n",
       "      <th>1</th>\n",
       "      <td>Totally is. I live on the East Coast in an ill...</td>\n",
       "    </tr>\n",
       "    <tr>\n",
       "      <th>2</th>\n",
       "      <td>The thing is, it seems pretty clear-cut to me ...</td>\n",
       "    </tr>\n",
       "    <tr>\n",
       "      <th>3</th>\n",
       "      <td>from my limited experience with health care in...</td>\n",
       "    </tr>\n",
       "    <tr>\n",
       "      <th>4</th>\n",
       "      <td>If you were Nigerian you&amp;#x27;d probably feel ...</td>\n",
       "    </tr>\n",
       "  </tbody>\n",
       "</table>\n",
       "</div>"
      ],
      "text/plain": [
       "                                                text\n",
       "0  The rates generally are published, via CMS. Th...\n",
       "1  Totally is. I live on the East Coast in an ill...\n",
       "2  The thing is, it seems pretty clear-cut to me ...\n",
       "3  from my limited experience with health care in...\n",
       "4  If you were Nigerian you&#x27;d probably feel ..."
      ]
     },
     "execution_count": 5,
     "metadata": {},
     "output_type": "execute_result"
    }
   ],
   "source": [
    "client.list_rows(table, selected_fields=table.schema[2:3], max_results=5).to_dataframe()"
   ]
  },
  {
   "cell_type": "markdown",
   "id": "ead567f4",
   "metadata": {
    "papermill": {
     "duration": 0.025303,
     "end_time": "2022-04-16T11:25:35.064989",
     "exception": false,
     "start_time": "2022-04-16T11:25:35.039686",
     "status": "completed"
    },
    "tags": []
   },
   "source": [
    "## Practice"
   ]
  },
  {
   "cell_type": "code",
   "execution_count": 6,
   "id": "7c85fbaa",
   "metadata": {
    "execution": {
     "iopub.execute_input": "2022-04-16T11:25:35.116230Z",
     "iopub.status.busy": "2022-04-16T11:25:35.115911Z",
     "iopub.status.idle": "2022-04-16T11:25:35.387007Z",
     "shell.execute_reply": "2022-04-16T11:25:35.386130Z"
    },
    "papermill": {
     "duration": 0.299866,
     "end_time": "2022-04-16T11:25:35.389656",
     "exception": false,
     "start_time": "2022-04-16T11:25:35.089790",
     "status": "completed"
    },
    "tags": []
   },
   "outputs": [
    {
     "name": "stdout",
     "output_type": "stream",
     "text": [
      "Using Kaggle's public dataset BigQuery integration.\n"
     ]
    }
   ],
   "source": [
    "from google.cloud import bigquery\n",
    "\n",
    "# Create a \"Client\" object\n",
    "client = bigquery.Client()\n",
    "\n",
    "# Construct a reference to the \"chicago_crime\" dataset\n",
    "dataset_ref = client.dataset('chicago_crime', project='bigquery-public-data')\n",
    "\n",
    "# API request - fetch the dataset\n",
    "dataset = client.get_dataset(dataset_ref)"
   ]
  },
  {
   "cell_type": "code",
   "execution_count": 7,
   "id": "acc1af9e",
   "metadata": {
    "execution": {
     "iopub.execute_input": "2022-04-16T11:25:35.443375Z",
     "iopub.status.busy": "2022-04-16T11:25:35.442713Z",
     "iopub.status.idle": "2022-04-16T11:25:35.672046Z",
     "shell.execute_reply": "2022-04-16T11:25:35.671105Z"
    },
    "papermill": {
     "duration": 0.25848,
     "end_time": "2022-04-16T11:25:35.674508",
     "exception": false,
     "start_time": "2022-04-16T11:25:35.416028",
     "status": "completed"
    },
    "tags": []
   },
   "outputs": [
    {
     "name": "stdout",
     "output_type": "stream",
     "text": [
      "crime\n"
     ]
    }
   ],
   "source": [
    "tables = list(client.list_tables(dataset))\n",
    "\n",
    "for table in tables:\n",
    "    print(table.table_id)"
   ]
  },
  {
   "cell_type": "code",
   "execution_count": 8,
   "id": "9117b5bf",
   "metadata": {
    "execution": {
     "iopub.execute_input": "2022-04-16T11:25:35.728546Z",
     "iopub.status.busy": "2022-04-16T11:25:35.727736Z",
     "iopub.status.idle": "2022-04-16T11:25:35.973476Z",
     "shell.execute_reply": "2022-04-16T11:25:35.972171Z"
    },
    "papermill": {
     "duration": 0.274769,
     "end_time": "2022-04-16T11:25:35.975865",
     "exception": false,
     "start_time": "2022-04-16T11:25:35.701096",
     "status": "completed"
    },
    "tags": []
   },
   "outputs": [
    {
     "data": {
      "text/plain": [
       "[SchemaField('unique_key', 'INTEGER', 'REQUIRED', None, (), None),\n",
       " SchemaField('case_number', 'STRING', 'NULLABLE', None, (), None),\n",
       " SchemaField('date', 'TIMESTAMP', 'NULLABLE', None, (), None),\n",
       " SchemaField('block', 'STRING', 'NULLABLE', None, (), None),\n",
       " SchemaField('iucr', 'STRING', 'NULLABLE', None, (), None),\n",
       " SchemaField('primary_type', 'STRING', 'NULLABLE', None, (), None),\n",
       " SchemaField('description', 'STRING', 'NULLABLE', None, (), None),\n",
       " SchemaField('location_description', 'STRING', 'NULLABLE', None, (), None),\n",
       " SchemaField('arrest', 'BOOLEAN', 'NULLABLE', None, (), None),\n",
       " SchemaField('domestic', 'BOOLEAN', 'NULLABLE', None, (), None),\n",
       " SchemaField('beat', 'INTEGER', 'NULLABLE', None, (), None),\n",
       " SchemaField('district', 'INTEGER', 'NULLABLE', None, (), None),\n",
       " SchemaField('ward', 'INTEGER', 'NULLABLE', None, (), None),\n",
       " SchemaField('community_area', 'INTEGER', 'NULLABLE', None, (), None),\n",
       " SchemaField('fbi_code', 'STRING', 'NULLABLE', None, (), None),\n",
       " SchemaField('x_coordinate', 'FLOAT', 'NULLABLE', None, (), None),\n",
       " SchemaField('y_coordinate', 'FLOAT', 'NULLABLE', None, (), None),\n",
       " SchemaField('year', 'INTEGER', 'NULLABLE', None, (), None),\n",
       " SchemaField('updated_on', 'TIMESTAMP', 'NULLABLE', None, (), None),\n",
       " SchemaField('latitude', 'FLOAT', 'NULLABLE', None, (), None),\n",
       " SchemaField('longitude', 'FLOAT', 'NULLABLE', None, (), None),\n",
       " SchemaField('location', 'STRING', 'NULLABLE', None, (), None)]"
      ]
     },
     "execution_count": 8,
     "metadata": {},
     "output_type": "execute_result"
    }
   ],
   "source": [
    "table_ref = dataset_ref.table('crime')\n",
    "\n",
    "# API request to fetch the table\n",
    "table = client.get_table(table_ref)\n",
    "\n",
    "table.schema"
   ]
  },
  {
   "cell_type": "code",
   "execution_count": 9,
   "id": "0f3654d6",
   "metadata": {
    "execution": {
     "iopub.execute_input": "2022-04-16T11:25:36.031059Z",
     "iopub.status.busy": "2022-04-16T11:25:36.030572Z",
     "iopub.status.idle": "2022-04-16T11:25:36.613324Z",
     "shell.execute_reply": "2022-04-16T11:25:36.612332Z"
    },
    "papermill": {
     "duration": 0.612179,
     "end_time": "2022-04-16T11:25:36.615545",
     "exception": false,
     "start_time": "2022-04-16T11:25:36.003366",
     "status": "completed"
    },
    "tags": []
   },
   "outputs": [
    {
     "name": "stderr",
     "output_type": "stream",
     "text": [
      "/opt/conda/lib/python3.7/site-packages/ipykernel_launcher.py:1: UserWarning: Cannot use bqstorage_client if max_results is set, reverting to fetching data with the tabledata.list endpoint.\n",
      "  \"\"\"Entry point for launching an IPython kernel.\n"
     ]
    },
    {
     "data": {
      "text/html": [
       "<div>\n",
       "<style scoped>\n",
       "    .dataframe tbody tr th:only-of-type {\n",
       "        vertical-align: middle;\n",
       "    }\n",
       "\n",
       "    .dataframe tbody tr th {\n",
       "        vertical-align: top;\n",
       "    }\n",
       "\n",
       "    .dataframe thead th {\n",
       "        text-align: right;\n",
       "    }\n",
       "</style>\n",
       "<table border=\"1\" class=\"dataframe\">\n",
       "  <thead>\n",
       "    <tr style=\"text-align: right;\">\n",
       "      <th></th>\n",
       "      <th>unique_key</th>\n",
       "      <th>case_number</th>\n",
       "      <th>date</th>\n",
       "      <th>block</th>\n",
       "      <th>iucr</th>\n",
       "      <th>primary_type</th>\n",
       "      <th>description</th>\n",
       "      <th>location_description</th>\n",
       "      <th>arrest</th>\n",
       "      <th>domestic</th>\n",
       "      <th>...</th>\n",
       "      <th>ward</th>\n",
       "      <th>community_area</th>\n",
       "      <th>fbi_code</th>\n",
       "      <th>x_coordinate</th>\n",
       "      <th>y_coordinate</th>\n",
       "      <th>year</th>\n",
       "      <th>updated_on</th>\n",
       "      <th>latitude</th>\n",
       "      <th>longitude</th>\n",
       "      <th>location</th>\n",
       "    </tr>\n",
       "  </thead>\n",
       "  <tbody>\n",
       "    <tr>\n",
       "      <th>0</th>\n",
       "      <td>4308177</td>\n",
       "      <td>HL616890</td>\n",
       "      <td>2005-09-16 08:30:00+00:00</td>\n",
       "      <td>032XX S PRINCETON AVE</td>\n",
       "      <td>1210</td>\n",
       "      <td>DECEPTIVE PRACTICE</td>\n",
       "      <td>THEFT OF LABOR/SERVICES</td>\n",
       "      <td>TAXICAB</td>\n",
       "      <td>False</td>\n",
       "      <td>False</td>\n",
       "      <td>...</td>\n",
       "      <td>11</td>\n",
       "      <td>34</td>\n",
       "      <td>11</td>\n",
       "      <td>1174818.0</td>\n",
       "      <td>1883378.0</td>\n",
       "      <td>2005</td>\n",
       "      <td>2018-02-28 03:56:25+00:00</td>\n",
       "      <td>41.835379</td>\n",
       "      <td>-87.634034</td>\n",
       "      <td>(41.835378954, -87.634034466)</td>\n",
       "    </tr>\n",
       "    <tr>\n",
       "      <th>1</th>\n",
       "      <td>4321424</td>\n",
       "      <td>HL614310</td>\n",
       "      <td>2005-09-07 12:00:00+00:00</td>\n",
       "      <td>050XX S ARCHER AVE</td>\n",
       "      <td>1122</td>\n",
       "      <td>DECEPTIVE PRACTICE</td>\n",
       "      <td>COUNTERFEIT CHECK</td>\n",
       "      <td>BANK</td>\n",
       "      <td>False</td>\n",
       "      <td>False</td>\n",
       "      <td>...</td>\n",
       "      <td>23</td>\n",
       "      <td>57</td>\n",
       "      <td>10</td>\n",
       "      <td>1149380.0</td>\n",
       "      <td>1870669.0</td>\n",
       "      <td>2005</td>\n",
       "      <td>2018-02-28 03:56:25+00:00</td>\n",
       "      <td>41.801034</td>\n",
       "      <td>-87.727704</td>\n",
       "      <td>(41.801034017, -87.727703751)</td>\n",
       "    </tr>\n",
       "    <tr>\n",
       "      <th>2</th>\n",
       "      <td>4324795</td>\n",
       "      <td>HL629710</td>\n",
       "      <td>2005-09-22 11:30:00+00:00</td>\n",
       "      <td>087XX S CRANDON AVE</td>\n",
       "      <td>0496</td>\n",
       "      <td>BATTERY</td>\n",
       "      <td>AGGRAVATED DOMESTIC BATTERY: KNIFE/CUTTING INST</td>\n",
       "      <td>RESIDENCE</td>\n",
       "      <td>False</td>\n",
       "      <td>True</td>\n",
       "      <td>...</td>\n",
       "      <td>8</td>\n",
       "      <td>48</td>\n",
       "      <td>04B</td>\n",
       "      <td>1193018.0</td>\n",
       "      <td>1847430.0</td>\n",
       "      <td>2005</td>\n",
       "      <td>2018-02-10 03:50:01+00:00</td>\n",
       "      <td>41.736309</td>\n",
       "      <td>-87.568428</td>\n",
       "      <td>(41.736309285, -87.568427589)</td>\n",
       "    </tr>\n",
       "    <tr>\n",
       "      <th>3</th>\n",
       "      <td>4325028</td>\n",
       "      <td>HL615482</td>\n",
       "      <td>2005-09-15 09:30:00+00:00</td>\n",
       "      <td>053XX S PULASKI RD</td>\n",
       "      <td>1110</td>\n",
       "      <td>DECEPTIVE PRACTICE</td>\n",
       "      <td>BOGUS CHECK</td>\n",
       "      <td>GROCERY FOOD STORE</td>\n",
       "      <td>False</td>\n",
       "      <td>False</td>\n",
       "      <td>...</td>\n",
       "      <td>23</td>\n",
       "      <td>62</td>\n",
       "      <td>11</td>\n",
       "      <td>1150606.0</td>\n",
       "      <td>1868988.0</td>\n",
       "      <td>2005</td>\n",
       "      <td>2018-02-10 03:50:01+00:00</td>\n",
       "      <td>41.796397</td>\n",
       "      <td>-87.723251</td>\n",
       "      <td>(41.79639731, -87.723251281)</td>\n",
       "    </tr>\n",
       "    <tr>\n",
       "      <th>4</th>\n",
       "      <td>4329873</td>\n",
       "      <td>HL633937</td>\n",
       "      <td>2005-09-25 02:51:00+00:00</td>\n",
       "      <td>092XX S DOBSON AVE</td>\n",
       "      <td>0325</td>\n",
       "      <td>ROBBERY</td>\n",
       "      <td>VEHICULAR HIJACKING</td>\n",
       "      <td>STREET</td>\n",
       "      <td>False</td>\n",
       "      <td>False</td>\n",
       "      <td>...</td>\n",
       "      <td>8</td>\n",
       "      <td>47</td>\n",
       "      <td>03</td>\n",
       "      <td>1184833.0</td>\n",
       "      <td>1843829.0</td>\n",
       "      <td>2005</td>\n",
       "      <td>2018-02-28 03:56:25+00:00</td>\n",
       "      <td>41.726623</td>\n",
       "      <td>-87.598527</td>\n",
       "      <td>(41.726623452, -87.59852684)</td>\n",
       "    </tr>\n",
       "  </tbody>\n",
       "</table>\n",
       "<p>5 rows × 22 columns</p>\n",
       "</div>"
      ],
      "text/plain": [
       "   unique_key case_number                      date                  block  \\\n",
       "0     4308177    HL616890 2005-09-16 08:30:00+00:00  032XX S PRINCETON AVE   \n",
       "1     4321424    HL614310 2005-09-07 12:00:00+00:00     050XX S ARCHER AVE   \n",
       "2     4324795    HL629710 2005-09-22 11:30:00+00:00    087XX S CRANDON AVE   \n",
       "3     4325028    HL615482 2005-09-15 09:30:00+00:00     053XX S PULASKI RD   \n",
       "4     4329873    HL633937 2005-09-25 02:51:00+00:00     092XX S DOBSON AVE   \n",
       "\n",
       "   iucr        primary_type                                      description  \\\n",
       "0  1210  DECEPTIVE PRACTICE                          THEFT OF LABOR/SERVICES   \n",
       "1  1122  DECEPTIVE PRACTICE                                COUNTERFEIT CHECK   \n",
       "2  0496             BATTERY  AGGRAVATED DOMESTIC BATTERY: KNIFE/CUTTING INST   \n",
       "3  1110  DECEPTIVE PRACTICE                                      BOGUS CHECK   \n",
       "4  0325             ROBBERY                              VEHICULAR HIJACKING   \n",
       "\n",
       "  location_description  arrest  domestic  ...  ward  community_area  fbi_code  \\\n",
       "0              TAXICAB   False     False  ...    11              34        11   \n",
       "1                 BANK   False     False  ...    23              57        10   \n",
       "2            RESIDENCE   False      True  ...     8              48       04B   \n",
       "3   GROCERY FOOD STORE   False     False  ...    23              62        11   \n",
       "4               STREET   False     False  ...     8              47        03   \n",
       "\n",
       "   x_coordinate y_coordinate  year                updated_on   latitude  \\\n",
       "0     1174818.0    1883378.0  2005 2018-02-28 03:56:25+00:00  41.835379   \n",
       "1     1149380.0    1870669.0  2005 2018-02-28 03:56:25+00:00  41.801034   \n",
       "2     1193018.0    1847430.0  2005 2018-02-10 03:50:01+00:00  41.736309   \n",
       "3     1150606.0    1868988.0  2005 2018-02-10 03:50:01+00:00  41.796397   \n",
       "4     1184833.0    1843829.0  2005 2018-02-28 03:56:25+00:00  41.726623   \n",
       "\n",
       "   longitude                       location  \n",
       "0 -87.634034  (41.835378954, -87.634034466)  \n",
       "1 -87.727704  (41.801034017, -87.727703751)  \n",
       "2 -87.568428  (41.736309285, -87.568427589)  \n",
       "3 -87.723251   (41.79639731, -87.723251281)  \n",
       "4 -87.598527   (41.726623452, -87.59852684)  \n",
       "\n",
       "[5 rows x 22 columns]"
      ]
     },
     "execution_count": 9,
     "metadata": {},
     "output_type": "execute_result"
    }
   ],
   "source": [
    "client.list_rows(table, max_results=5).to_dataframe()"
   ]
  },
  {
   "cell_type": "markdown",
   "id": "87491484",
   "metadata": {
    "papermill": {
     "duration": 0.026802,
     "end_time": "2022-04-16T11:25:36.669205",
     "exception": false,
     "start_time": "2022-04-16T11:25:36.642403",
     "status": "completed"
    },
    "tags": []
   },
   "source": [
    "## Air Quality Records"
   ]
  },
  {
   "cell_type": "code",
   "execution_count": 10,
   "id": "432c317b",
   "metadata": {
    "execution": {
     "iopub.execute_input": "2022-04-16T11:25:36.723683Z",
     "iopub.status.busy": "2022-04-16T11:25:36.723387Z",
     "iopub.status.idle": "2022-04-16T11:25:37.448872Z",
     "shell.execute_reply": "2022-04-16T11:25:37.447862Z"
    },
    "papermill": {
     "duration": 0.755538,
     "end_time": "2022-04-16T11:25:37.451221",
     "exception": false,
     "start_time": "2022-04-16T11:25:36.695683",
     "status": "completed"
    },
    "tags": []
   },
   "outputs": [
    {
     "name": "stdout",
     "output_type": "stream",
     "text": [
      "Using Kaggle's public dataset BigQuery integration.\n",
      "crime\n"
     ]
    }
   ],
   "source": [
    "from google.cloud import bigquery\n",
    "client = bigquery.Client()\n",
    "\n",
    "dataset_ref = client.dataset(\"openaq\", project=\"bigquery-public-data\")\n",
    "dataset = client.get_dataset(dataset_ref)\n",
    "\n",
    "table_ref = list(client.list_tables(dataset))\n",
    "\n",
    "for table in tables:\n",
    "    print(table.table_id)"
   ]
  },
  {
   "cell_type": "code",
   "execution_count": 11,
   "id": "67d88b89",
   "metadata": {
    "execution": {
     "iopub.execute_input": "2022-04-16T11:25:37.509254Z",
     "iopub.status.busy": "2022-04-16T11:25:37.508986Z",
     "iopub.status.idle": "2022-04-16T11:25:37.771693Z",
     "shell.execute_reply": "2022-04-16T11:25:37.770666Z"
    },
    "papermill": {
     "duration": 0.29393,
     "end_time": "2022-04-16T11:25:37.773963",
     "exception": false,
     "start_time": "2022-04-16T11:25:37.480033",
     "status": "completed"
    },
    "tags": []
   },
   "outputs": [
    {
     "data": {
      "text/plain": [
       "[SchemaField('location', 'STRING', 'NULLABLE', None, (), None),\n",
       " SchemaField('city', 'STRING', 'NULLABLE', None, (), None),\n",
       " SchemaField('country', 'STRING', 'NULLABLE', None, (), None),\n",
       " SchemaField('pollutant', 'STRING', 'NULLABLE', None, (), None),\n",
       " SchemaField('value', 'FLOAT', 'NULLABLE', None, (), None),\n",
       " SchemaField('timestamp', 'TIMESTAMP', 'NULLABLE', None, (), None),\n",
       " SchemaField('unit', 'STRING', 'NULLABLE', None, (), None),\n",
       " SchemaField('source_name', 'STRING', 'NULLABLE', None, (), None),\n",
       " SchemaField('latitude', 'FLOAT', 'NULLABLE', None, (), None),\n",
       " SchemaField('longitude', 'FLOAT', 'NULLABLE', None, (), None),\n",
       " SchemaField('averaged_over_in_hours', 'FLOAT', 'NULLABLE', None, (), None),\n",
       " SchemaField('location_geom', 'GEOGRAPHY', 'NULLABLE', None, (), None)]"
      ]
     },
     "execution_count": 11,
     "metadata": {},
     "output_type": "execute_result"
    }
   ],
   "source": [
    "table_ref = dataset_ref.table('global_air_quality')\n",
    "\n",
    "table = client.get_table(table_ref)\n",
    "table.schema"
   ]
  },
  {
   "cell_type": "code",
   "execution_count": 12,
   "id": "5262e94f",
   "metadata": {
    "execution": {
     "iopub.execute_input": "2022-04-16T11:25:37.834014Z",
     "iopub.status.busy": "2022-04-16T11:25:37.833645Z",
     "iopub.status.idle": "2022-04-16T11:25:38.282591Z",
     "shell.execute_reply": "2022-04-16T11:25:38.281780Z"
    },
    "papermill": {
     "duration": 0.482315,
     "end_time": "2022-04-16T11:25:38.284737",
     "exception": false,
     "start_time": "2022-04-16T11:25:37.802422",
     "status": "completed"
    },
    "tags": []
   },
   "outputs": [
    {
     "name": "stderr",
     "output_type": "stream",
     "text": [
      "/opt/conda/lib/python3.7/site-packages/ipykernel_launcher.py:1: UserWarning: Cannot use bqstorage_client if max_results is set, reverting to fetching data with the tabledata.list endpoint.\n",
      "  \"\"\"Entry point for launching an IPython kernel.\n"
     ]
    },
    {
     "data": {
      "text/html": [
       "<div>\n",
       "<style scoped>\n",
       "    .dataframe tbody tr th:only-of-type {\n",
       "        vertical-align: middle;\n",
       "    }\n",
       "\n",
       "    .dataframe tbody tr th {\n",
       "        vertical-align: top;\n",
       "    }\n",
       "\n",
       "    .dataframe thead th {\n",
       "        text-align: right;\n",
       "    }\n",
       "</style>\n",
       "<table border=\"1\" class=\"dataframe\">\n",
       "  <thead>\n",
       "    <tr style=\"text-align: right;\">\n",
       "      <th></th>\n",
       "      <th>location</th>\n",
       "      <th>city</th>\n",
       "      <th>country</th>\n",
       "      <th>pollutant</th>\n",
       "      <th>value</th>\n",
       "      <th>timestamp</th>\n",
       "      <th>unit</th>\n",
       "      <th>source_name</th>\n",
       "      <th>latitude</th>\n",
       "      <th>longitude</th>\n",
       "      <th>averaged_over_in_hours</th>\n",
       "      <th>location_geom</th>\n",
       "    </tr>\n",
       "  </thead>\n",
       "  <tbody>\n",
       "    <tr>\n",
       "      <th>0</th>\n",
       "      <td>MA</td>\n",
       "      <td>Salt Lake City</td>\n",
       "      <td>US</td>\n",
       "      <td>o3</td>\n",
       "      <td>0.039</td>\n",
       "      <td>2020-01-06 18:00:00+00:00</td>\n",
       "      <td>ppm</td>\n",
       "      <td>AirNow</td>\n",
       "      <td>40.712063</td>\n",
       "      <td>-112.111120</td>\n",
       "      <td>1.0</td>\n",
       "      <td>POINT(-112.11112 40.712063)</td>\n",
       "    </tr>\n",
       "    <tr>\n",
       "      <th>1</th>\n",
       "      <td>MA</td>\n",
       "      <td>Salt Lake City</td>\n",
       "      <td>US</td>\n",
       "      <td>so2</td>\n",
       "      <td>0.001</td>\n",
       "      <td>2020-01-06 18:00:00+00:00</td>\n",
       "      <td>ppm</td>\n",
       "      <td>AirNow</td>\n",
       "      <td>40.712063</td>\n",
       "      <td>-112.111120</td>\n",
       "      <td>1.0</td>\n",
       "      <td>POINT(-112.11112 40.712063)</td>\n",
       "    </tr>\n",
       "    <tr>\n",
       "      <th>2</th>\n",
       "      <td>MA</td>\n",
       "      <td>Salt Lake City</td>\n",
       "      <td>US</td>\n",
       "      <td>pm25</td>\n",
       "      <td>1.300</td>\n",
       "      <td>2020-01-06 18:00:00+00:00</td>\n",
       "      <td>µg/m³</td>\n",
       "      <td>AirNow</td>\n",
       "      <td>40.712063</td>\n",
       "      <td>-112.111120</td>\n",
       "      <td>1.0</td>\n",
       "      <td>POINT(-112.11112 40.712063)</td>\n",
       "    </tr>\n",
       "    <tr>\n",
       "      <th>3</th>\n",
       "      <td>MA</td>\n",
       "      <td>Salt Lake City</td>\n",
       "      <td>US</td>\n",
       "      <td>no2</td>\n",
       "      <td>0.003</td>\n",
       "      <td>2020-01-06 18:00:00+00:00</td>\n",
       "      <td>ppm</td>\n",
       "      <td>AirNow</td>\n",
       "      <td>40.712063</td>\n",
       "      <td>-112.111120</td>\n",
       "      <td>1.0</td>\n",
       "      <td>POINT(-112.11112 40.712063)</td>\n",
       "    </tr>\n",
       "    <tr>\n",
       "      <th>4</th>\n",
       "      <td>NR</td>\n",
       "      <td>Salt Lake City</td>\n",
       "      <td>US</td>\n",
       "      <td>co</td>\n",
       "      <td>0.000</td>\n",
       "      <td>2020-06-11 00:00:00+00:00</td>\n",
       "      <td>ppm</td>\n",
       "      <td>AirNow</td>\n",
       "      <td>40.662840</td>\n",
       "      <td>-111.901794</td>\n",
       "      <td>1.0</td>\n",
       "      <td>POINT(-111.901794 40.66284)</td>\n",
       "    </tr>\n",
       "  </tbody>\n",
       "</table>\n",
       "</div>"
      ],
      "text/plain": [
       "  location            city country pollutant  value                 timestamp  \\\n",
       "0       MA  Salt Lake City      US        o3  0.039 2020-01-06 18:00:00+00:00   \n",
       "1       MA  Salt Lake City      US       so2  0.001 2020-01-06 18:00:00+00:00   \n",
       "2       MA  Salt Lake City      US      pm25  1.300 2020-01-06 18:00:00+00:00   \n",
       "3       MA  Salt Lake City      US       no2  0.003 2020-01-06 18:00:00+00:00   \n",
       "4       NR  Salt Lake City      US        co  0.000 2020-06-11 00:00:00+00:00   \n",
       "\n",
       "    unit source_name   latitude   longitude  averaged_over_in_hours  \\\n",
       "0    ppm      AirNow  40.712063 -112.111120                     1.0   \n",
       "1    ppm      AirNow  40.712063 -112.111120                     1.0   \n",
       "2  µg/m³      AirNow  40.712063 -112.111120                     1.0   \n",
       "3    ppm      AirNow  40.712063 -112.111120                     1.0   \n",
       "4    ppm      AirNow  40.662840 -111.901794                     1.0   \n",
       "\n",
       "                 location_geom  \n",
       "0  POINT(-112.11112 40.712063)  \n",
       "1  POINT(-112.11112 40.712063)  \n",
       "2  POINT(-112.11112 40.712063)  \n",
       "3  POINT(-112.11112 40.712063)  \n",
       "4  POINT(-111.901794 40.66284)  "
      ]
     },
     "execution_count": 12,
     "metadata": {},
     "output_type": "execute_result"
    }
   ],
   "source": [
    "client.list_rows(table, max_results=5).to_dataframe()"
   ]
  },
  {
   "cell_type": "code",
   "execution_count": 13,
   "id": "d9f729ad",
   "metadata": {
    "execution": {
     "iopub.execute_input": "2022-04-16T11:25:38.344833Z",
     "iopub.status.busy": "2022-04-16T11:25:38.344547Z",
     "iopub.status.idle": "2022-04-16T11:25:47.144597Z",
     "shell.execute_reply": "2022-04-16T11:25:47.143917Z"
    },
    "papermill": {
     "duration": 8.832567,
     "end_time": "2022-04-16T11:25:47.146464",
     "exception": false,
     "start_time": "2022-04-16T11:25:38.313897",
     "status": "completed"
    },
    "tags": []
   },
   "outputs": [
    {
     "name": "stderr",
     "output_type": "stream",
     "text": [
      "/opt/conda/lib/python3.7/site-packages/google/cloud/bigquery/client.py:440: UserWarning: Cannot create BigQuery Storage client, the dependency google-cloud-bigquery-storage is not installed.\n",
      "  \"Cannot create BigQuery Storage client, the dependency \"\n"
     ]
    },
    {
     "data": {
      "text/html": [
       "<div>\n",
       "<style scoped>\n",
       "    .dataframe tbody tr th:only-of-type {\n",
       "        vertical-align: middle;\n",
       "    }\n",
       "\n",
       "    .dataframe tbody tr th {\n",
       "        vertical-align: top;\n",
       "    }\n",
       "\n",
       "    .dataframe thead th {\n",
       "        text-align: right;\n",
       "    }\n",
       "</style>\n",
       "<table border=\"1\" class=\"dataframe\">\n",
       "  <thead>\n",
       "    <tr style=\"text-align: right;\">\n",
       "      <th></th>\n",
       "      <th>location</th>\n",
       "      <th>city</th>\n",
       "      <th>country</th>\n",
       "      <th>pollutant</th>\n",
       "      <th>value</th>\n",
       "      <th>timestamp</th>\n",
       "      <th>unit</th>\n",
       "      <th>source_name</th>\n",
       "      <th>latitude</th>\n",
       "      <th>longitude</th>\n",
       "      <th>averaged_over_in_hours</th>\n",
       "      <th>location_geom</th>\n",
       "    </tr>\n",
       "  </thead>\n",
       "  <tbody>\n",
       "    <tr>\n",
       "      <th>0</th>\n",
       "      <td>MA</td>\n",
       "      <td>Salt Lake City</td>\n",
       "      <td>US</td>\n",
       "      <td>o3</td>\n",
       "      <td>0.039</td>\n",
       "      <td>2020-01-06 18:00:00+00:00</td>\n",
       "      <td>ppm</td>\n",
       "      <td>AirNow</td>\n",
       "      <td>40.712063</td>\n",
       "      <td>-112.111120</td>\n",
       "      <td>1.0</td>\n",
       "      <td>POINT(-112.11112 40.712063)</td>\n",
       "    </tr>\n",
       "    <tr>\n",
       "      <th>1</th>\n",
       "      <td>MA</td>\n",
       "      <td>Salt Lake City</td>\n",
       "      <td>US</td>\n",
       "      <td>so2</td>\n",
       "      <td>0.001</td>\n",
       "      <td>2020-01-06 18:00:00+00:00</td>\n",
       "      <td>ppm</td>\n",
       "      <td>AirNow</td>\n",
       "      <td>40.712063</td>\n",
       "      <td>-112.111120</td>\n",
       "      <td>1.0</td>\n",
       "      <td>POINT(-112.11112 40.712063)</td>\n",
       "    </tr>\n",
       "    <tr>\n",
       "      <th>2</th>\n",
       "      <td>MA</td>\n",
       "      <td>Salt Lake City</td>\n",
       "      <td>US</td>\n",
       "      <td>pm25</td>\n",
       "      <td>1.300</td>\n",
       "      <td>2020-01-06 18:00:00+00:00</td>\n",
       "      <td>µg/m³</td>\n",
       "      <td>AirNow</td>\n",
       "      <td>40.712063</td>\n",
       "      <td>-112.111120</td>\n",
       "      <td>1.0</td>\n",
       "      <td>POINT(-112.11112 40.712063)</td>\n",
       "    </tr>\n",
       "    <tr>\n",
       "      <th>3</th>\n",
       "      <td>MA</td>\n",
       "      <td>Salt Lake City</td>\n",
       "      <td>US</td>\n",
       "      <td>no2</td>\n",
       "      <td>0.003</td>\n",
       "      <td>2020-01-06 18:00:00+00:00</td>\n",
       "      <td>ppm</td>\n",
       "      <td>AirNow</td>\n",
       "      <td>40.712063</td>\n",
       "      <td>-112.111120</td>\n",
       "      <td>1.0</td>\n",
       "      <td>POINT(-112.11112 40.712063)</td>\n",
       "    </tr>\n",
       "    <tr>\n",
       "      <th>4</th>\n",
       "      <td>NR</td>\n",
       "      <td>Salt Lake City</td>\n",
       "      <td>US</td>\n",
       "      <td>co</td>\n",
       "      <td>0.000</td>\n",
       "      <td>2020-06-11 00:00:00+00:00</td>\n",
       "      <td>ppm</td>\n",
       "      <td>AirNow</td>\n",
       "      <td>40.662840</td>\n",
       "      <td>-111.901794</td>\n",
       "      <td>1.0</td>\n",
       "      <td>POINT(-111.901794 40.66284)</td>\n",
       "    </tr>\n",
       "  </tbody>\n",
       "</table>\n",
       "</div>"
      ],
      "text/plain": [
       "  location            city country pollutant  value                 timestamp  \\\n",
       "0       MA  Salt Lake City      US        o3  0.039 2020-01-06 18:00:00+00:00   \n",
       "1       MA  Salt Lake City      US       so2  0.001 2020-01-06 18:00:00+00:00   \n",
       "2       MA  Salt Lake City      US      pm25  1.300 2020-01-06 18:00:00+00:00   \n",
       "3       MA  Salt Lake City      US       no2  0.003 2020-01-06 18:00:00+00:00   \n",
       "4       NR  Salt Lake City      US        co  0.000 2020-06-11 00:00:00+00:00   \n",
       "\n",
       "    unit source_name   latitude   longitude  averaged_over_in_hours  \\\n",
       "0    ppm      AirNow  40.712063 -112.111120                     1.0   \n",
       "1    ppm      AirNow  40.712063 -112.111120                     1.0   \n",
       "2  µg/m³      AirNow  40.712063 -112.111120                     1.0   \n",
       "3    ppm      AirNow  40.712063 -112.111120                     1.0   \n",
       "4    ppm      AirNow  40.662840 -111.901794                     1.0   \n",
       "\n",
       "                 location_geom  \n",
       "0  POINT(-112.11112 40.712063)  \n",
       "1  POINT(-112.11112 40.712063)  \n",
       "2  POINT(-112.11112 40.712063)  \n",
       "3  POINT(-112.11112 40.712063)  \n",
       "4  POINT(-111.901794 40.66284)  "
      ]
     },
     "execution_count": 13,
     "metadata": {},
     "output_type": "execute_result"
    }
   ],
   "source": [
    "first_query = \"\"\"\n",
    "        SELECT *\n",
    "        FROM `bigquery-public-data.openaq.global_air_quality`\n",
    "        WHERE country = 'US'\n",
    "        \"\"\"\n",
    "\n",
    "safe_config = bigquery.QueryJobConfig(maximum_bytes=10**10)\n",
    "first_query_job = client.query(first_query, job_config=safe_config)\n",
    "\n",
    "first_results = first_query_job.to_dataframe()\n",
    "\n",
    "first_results.head()"
   ]
  },
  {
   "cell_type": "code",
   "execution_count": 14,
   "id": "01c02aac",
   "metadata": {
    "execution": {
     "iopub.execute_input": "2022-04-16T11:25:47.209227Z",
     "iopub.status.busy": "2022-04-16T11:25:47.208422Z",
     "iopub.status.idle": "2022-04-16T11:25:50.702176Z",
     "shell.execute_reply": "2022-04-16T11:25:50.701639Z"
    },
    "papermill": {
     "duration": 3.527006,
     "end_time": "2022-04-16T11:25:50.704048",
     "exception": false,
     "start_time": "2022-04-16T11:25:47.177042",
     "status": "completed"
    },
    "tags": []
   },
   "outputs": [
    {
     "name": "stderr",
     "output_type": "stream",
     "text": [
      "/opt/conda/lib/python3.7/site-packages/google/cloud/bigquery/client.py:440: UserWarning: Cannot create BigQuery Storage client, the dependency google-cloud-bigquery-storage is not installed.\n",
      "  \"Cannot create BigQuery Storage client, the dependency \"\n"
     ]
    },
    {
     "data": {
      "text/html": [
       "<div>\n",
       "<style scoped>\n",
       "    .dataframe tbody tr th:only-of-type {\n",
       "        vertical-align: middle;\n",
       "    }\n",
       "\n",
       "    .dataframe tbody tr th {\n",
       "        vertical-align: top;\n",
       "    }\n",
       "\n",
       "    .dataframe thead th {\n",
       "        text-align: right;\n",
       "    }\n",
       "</style>\n",
       "<table border=\"1\" class=\"dataframe\">\n",
       "  <thead>\n",
       "    <tr style=\"text-align: right;\">\n",
       "      <th></th>\n",
       "      <th>location</th>\n",
       "      <th>city</th>\n",
       "      <th>country</th>\n",
       "      <th>pollutant</th>\n",
       "      <th>value</th>\n",
       "      <th>timestamp</th>\n",
       "      <th>unit</th>\n",
       "      <th>source_name</th>\n",
       "      <th>latitude</th>\n",
       "      <th>longitude</th>\n",
       "      <th>averaged_over_in_hours</th>\n",
       "      <th>location_geom</th>\n",
       "    </tr>\n",
       "  </thead>\n",
       "  <tbody>\n",
       "    <tr>\n",
       "      <th>0</th>\n",
       "      <td>NR</td>\n",
       "      <td>Salt Lake City</td>\n",
       "      <td>US</td>\n",
       "      <td>co</td>\n",
       "      <td>0.0</td>\n",
       "      <td>2020-06-11 00:00:00+00:00</td>\n",
       "      <td>ppm</td>\n",
       "      <td>AirNow</td>\n",
       "      <td>40.662840</td>\n",
       "      <td>-111.901794</td>\n",
       "      <td>1.0</td>\n",
       "      <td>POINT(-111.901794 40.66284)</td>\n",
       "    </tr>\n",
       "    <tr>\n",
       "      <th>1</th>\n",
       "      <td>MLK</td>\n",
       "      <td>Philadelphia-Camden-Wilmington</td>\n",
       "      <td>US</td>\n",
       "      <td>so2</td>\n",
       "      <td>0.0</td>\n",
       "      <td>2020-06-10 23:00:00+00:00</td>\n",
       "      <td>ppm</td>\n",
       "      <td>AirNow</td>\n",
       "      <td>39.739400</td>\n",
       "      <td>-75.558100</td>\n",
       "      <td>1.0</td>\n",
       "      <td>POINT(-75.5581 39.7394)</td>\n",
       "    </tr>\n",
       "    <tr>\n",
       "      <th>2</th>\n",
       "      <td>Elko</td>\n",
       "      <td>ELKO</td>\n",
       "      <td>US</td>\n",
       "      <td>pm10</td>\n",
       "      <td>0.0</td>\n",
       "      <td>2020-06-11 00:00:00+00:00</td>\n",
       "      <td>µg/m³</td>\n",
       "      <td>AirNow</td>\n",
       "      <td>40.838330</td>\n",
       "      <td>-115.766010</td>\n",
       "      <td>1.0</td>\n",
       "      <td>POINT(-115.76601 40.83833)</td>\n",
       "    </tr>\n",
       "    <tr>\n",
       "      <th>3</th>\n",
       "      <td>Hope</td>\n",
       "      <td>Columbus</td>\n",
       "      <td>US</td>\n",
       "      <td>so2</td>\n",
       "      <td>0.0</td>\n",
       "      <td>2017-01-03 11:00:00+00:00</td>\n",
       "      <td>ppm</td>\n",
       "      <td>AirNow</td>\n",
       "      <td>39.294323</td>\n",
       "      <td>-85.766846</td>\n",
       "      <td>1.0</td>\n",
       "      <td>POINT(-85.766846 39.294323)</td>\n",
       "    </tr>\n",
       "    <tr>\n",
       "      <th>4</th>\n",
       "      <td>Kona</td>\n",
       "      <td>Hilo</td>\n",
       "      <td>US</td>\n",
       "      <td>pm25</td>\n",
       "      <td>0.0</td>\n",
       "      <td>2020-06-11 00:00:00+00:00</td>\n",
       "      <td>µg/m³</td>\n",
       "      <td>AirNow</td>\n",
       "      <td>19.509700</td>\n",
       "      <td>-155.913300</td>\n",
       "      <td>1.0</td>\n",
       "      <td>POINT(-155.9133 19.5097)</td>\n",
       "    </tr>\n",
       "  </tbody>\n",
       "</table>\n",
       "</div>"
      ],
      "text/plain": [
       "  location                            city country pollutant  value  \\\n",
       "0       NR                  Salt Lake City      US        co    0.0   \n",
       "1      MLK  Philadelphia-Camden-Wilmington      US       so2    0.0   \n",
       "2     Elko                            ELKO      US      pm10    0.0   \n",
       "3     Hope                        Columbus      US       so2    0.0   \n",
       "4     Kona                            Hilo      US      pm25    0.0   \n",
       "\n",
       "                  timestamp   unit source_name   latitude   longitude  \\\n",
       "0 2020-06-11 00:00:00+00:00    ppm      AirNow  40.662840 -111.901794   \n",
       "1 2020-06-10 23:00:00+00:00    ppm      AirNow  39.739400  -75.558100   \n",
       "2 2020-06-11 00:00:00+00:00  µg/m³      AirNow  40.838330 -115.766010   \n",
       "3 2017-01-03 11:00:00+00:00    ppm      AirNow  39.294323  -85.766846   \n",
       "4 2020-06-11 00:00:00+00:00  µg/m³      AirNow  19.509700 -155.913300   \n",
       "\n",
       "   averaged_over_in_hours                location_geom  \n",
       "0                     1.0  POINT(-111.901794 40.66284)  \n",
       "1                     1.0      POINT(-75.5581 39.7394)  \n",
       "2                     1.0   POINT(-115.76601 40.83833)  \n",
       "3                     1.0  POINT(-85.766846 39.294323)  \n",
       "4                     1.0     POINT(-155.9133 19.5097)  "
      ]
     },
     "execution_count": 14,
     "metadata": {},
     "output_type": "execute_result"
    }
   ],
   "source": [
    "zero_pollution_query = \"\"\"\n",
    "                       SELECT *\n",
    "                       FROM `bigquery-public-data.openaq.global_air_quality`\n",
    "                       WHERE value = 0\n",
    "                       \"\"\"\n",
    "\n",
    "safe_config = bigquery.QueryJobConfig(maximum_bytes_billed=10**10)\n",
    "second_query_job = client.query(zero_pollution_query, job_config=safe_config)\n",
    "\n",
    "second_results = second_query_job.to_dataframe()\n",
    "\n",
    "second_results.head()"
   ]
  },
  {
   "cell_type": "code",
   "execution_count": 15,
   "id": "e0760d5a",
   "metadata": {
    "execution": {
     "iopub.execute_input": "2022-04-16T11:25:50.770039Z",
     "iopub.status.busy": "2022-04-16T11:25:50.769500Z",
     "iopub.status.idle": "2022-04-16T11:25:51.409116Z",
     "shell.execute_reply": "2022-04-16T11:25:51.408136Z"
    },
    "papermill": {
     "duration": 0.67581,
     "end_time": "2022-04-16T11:25:51.411368",
     "exception": false,
     "start_time": "2022-04-16T11:25:50.735558",
     "status": "completed"
    },
    "tags": []
   },
   "outputs": [
    {
     "name": "stdout",
     "output_type": "stream",
     "text": [
      "Using Kaggle's public dataset BigQuery integration.\n",
      "comments\n",
      "full\n",
      "full_201510\n",
      "stories\n"
     ]
    }
   ],
   "source": [
    "from google.cloud import bigquery\n",
    "client = bigquery.Client()\n",
    "\n",
    "dataset_ref = client.dataset(\"hacker_news\", project=\"bigquery-public-data\")\n",
    "dataset = client.get_dataset(dataset_ref)\n",
    "\n",
    "tables = list(client.list_tables(dataset))\n",
    "\n",
    "\n",
    "for table in tables:\n",
    "    print(table.table_id)"
   ]
  },
  {
   "cell_type": "code",
   "execution_count": 16,
   "id": "e21d699c",
   "metadata": {
    "execution": {
     "iopub.execute_input": "2022-04-16T11:25:51.477559Z",
     "iopub.status.busy": "2022-04-16T11:25:51.477141Z",
     "iopub.status.idle": "2022-04-16T11:25:52.159375Z",
     "shell.execute_reply": "2022-04-16T11:25:52.158528Z"
    },
    "papermill": {
     "duration": 0.717755,
     "end_time": "2022-04-16T11:25:52.161559",
     "exception": false,
     "start_time": "2022-04-16T11:25:51.443804",
     "status": "completed"
    },
    "tags": []
   },
   "outputs": [
    {
     "name": "stderr",
     "output_type": "stream",
     "text": [
      "/opt/conda/lib/python3.7/site-packages/ipykernel_launcher.py:4: UserWarning: Cannot use bqstorage_client if max_results is set, reverting to fetching data with the tabledata.list endpoint.\n",
      "  after removing the cwd from sys.path.\n"
     ]
    },
    {
     "data": {
      "text/html": [
       "<div>\n",
       "<style scoped>\n",
       "    .dataframe tbody tr th:only-of-type {\n",
       "        vertical-align: middle;\n",
       "    }\n",
       "\n",
       "    .dataframe tbody tr th {\n",
       "        vertical-align: top;\n",
       "    }\n",
       "\n",
       "    .dataframe thead th {\n",
       "        text-align: right;\n",
       "    }\n",
       "</style>\n",
       "<table border=\"1\" class=\"dataframe\">\n",
       "  <thead>\n",
       "    <tr style=\"text-align: right;\">\n",
       "      <th></th>\n",
       "      <th>id</th>\n",
       "      <th>by</th>\n",
       "      <th>author</th>\n",
       "      <th>time</th>\n",
       "      <th>time_ts</th>\n",
       "      <th>text</th>\n",
       "      <th>parent</th>\n",
       "      <th>deleted</th>\n",
       "      <th>dead</th>\n",
       "      <th>ranking</th>\n",
       "    </tr>\n",
       "  </thead>\n",
       "  <tbody>\n",
       "    <tr>\n",
       "      <th>0</th>\n",
       "      <td>2701393</td>\n",
       "      <td>5l</td>\n",
       "      <td>5l</td>\n",
       "      <td>1309184881</td>\n",
       "      <td>2011-06-27 14:28:01+00:00</td>\n",
       "      <td>And the glazier who fixed all the broken windo...</td>\n",
       "      <td>2701243</td>\n",
       "      <td>None</td>\n",
       "      <td>None</td>\n",
       "      <td>0</td>\n",
       "    </tr>\n",
       "    <tr>\n",
       "      <th>1</th>\n",
       "      <td>5811403</td>\n",
       "      <td>99</td>\n",
       "      <td>99</td>\n",
       "      <td>1370234048</td>\n",
       "      <td>2013-06-03 04:34:08+00:00</td>\n",
       "      <td>Does canada have the equivalent of H1B/Green c...</td>\n",
       "      <td>5804452</td>\n",
       "      <td>None</td>\n",
       "      <td>None</td>\n",
       "      <td>0</td>\n",
       "    </tr>\n",
       "    <tr>\n",
       "      <th>2</th>\n",
       "      <td>21623</td>\n",
       "      <td>AF</td>\n",
       "      <td>AF</td>\n",
       "      <td>1178992400</td>\n",
       "      <td>2007-05-12 17:53:20+00:00</td>\n",
       "      <td>Speaking of Rails, there are other options in ...</td>\n",
       "      <td>21611</td>\n",
       "      <td>None</td>\n",
       "      <td>None</td>\n",
       "      <td>0</td>\n",
       "    </tr>\n",
       "    <tr>\n",
       "      <th>3</th>\n",
       "      <td>10159727</td>\n",
       "      <td>EA</td>\n",
       "      <td>EA</td>\n",
       "      <td>1441206574</td>\n",
       "      <td>2015-09-02 15:09:34+00:00</td>\n",
       "      <td>Humans and large livestock (and maybe even pet...</td>\n",
       "      <td>10159396</td>\n",
       "      <td>None</td>\n",
       "      <td>None</td>\n",
       "      <td>0</td>\n",
       "    </tr>\n",
       "    <tr>\n",
       "      <th>4</th>\n",
       "      <td>2988424</td>\n",
       "      <td>Iv</td>\n",
       "      <td>Iv</td>\n",
       "      <td>1315853580</td>\n",
       "      <td>2011-09-12 18:53:00+00:00</td>\n",
       "      <td>I must say I reacted in the same way when I re...</td>\n",
       "      <td>2988179</td>\n",
       "      <td>None</td>\n",
       "      <td>None</td>\n",
       "      <td>0</td>\n",
       "    </tr>\n",
       "  </tbody>\n",
       "</table>\n",
       "</div>"
      ],
      "text/plain": [
       "         id  by author        time                   time_ts  \\\n",
       "0   2701393  5l     5l  1309184881 2011-06-27 14:28:01+00:00   \n",
       "1   5811403  99     99  1370234048 2013-06-03 04:34:08+00:00   \n",
       "2     21623  AF     AF  1178992400 2007-05-12 17:53:20+00:00   \n",
       "3  10159727  EA     EA  1441206574 2015-09-02 15:09:34+00:00   \n",
       "4   2988424  Iv     Iv  1315853580 2011-09-12 18:53:00+00:00   \n",
       "\n",
       "                                                text    parent deleted  dead  \\\n",
       "0  And the glazier who fixed all the broken windo...   2701243    None  None   \n",
       "1  Does canada have the equivalent of H1B/Green c...   5804452    None  None   \n",
       "2  Speaking of Rails, there are other options in ...     21611    None  None   \n",
       "3  Humans and large livestock (and maybe even pet...  10159396    None  None   \n",
       "4  I must say I reacted in the same way when I re...   2988179    None  None   \n",
       "\n",
       "   ranking  \n",
       "0        0  \n",
       "1        0  \n",
       "2        0  \n",
       "3        0  \n",
       "4        0  "
      ]
     },
     "execution_count": 16,
     "metadata": {},
     "output_type": "execute_result"
    }
   ],
   "source": [
    "table_ref = dataset_ref.table(\"comments\")\n",
    "table = client.get_table(table_ref)\n",
    "\n",
    "client.list_rows(table, max_results=5).to_dataframe()"
   ]
  },
  {
   "cell_type": "code",
   "execution_count": 17,
   "id": "c4215c02",
   "metadata": {
    "execution": {
     "iopub.execute_input": "2022-04-16T11:25:52.230211Z",
     "iopub.status.busy": "2022-04-16T11:25:52.229949Z",
     "iopub.status.idle": "2022-04-16T11:25:56.066691Z",
     "shell.execute_reply": "2022-04-16T11:25:56.065630Z"
    },
    "papermill": {
     "duration": 3.873841,
     "end_time": "2022-04-16T11:25:56.068978",
     "exception": false,
     "start_time": "2022-04-16T11:25:52.195137",
     "status": "completed"
    },
    "tags": []
   },
   "outputs": [
    {
     "name": "stderr",
     "output_type": "stream",
     "text": [
      "/opt/conda/lib/python3.7/site-packages/google/cloud/bigquery/client.py:440: UserWarning: Cannot create BigQuery Storage client, the dependency google-cloud-bigquery-storage is not installed.\n",
      "  \"Cannot create BigQuery Storage client, the dependency \"\n"
     ]
    },
    {
     "data": {
      "text/html": [
       "<div>\n",
       "<style scoped>\n",
       "    .dataframe tbody tr th:only-of-type {\n",
       "        vertical-align: middle;\n",
       "    }\n",
       "\n",
       "    .dataframe tbody tr th {\n",
       "        vertical-align: top;\n",
       "    }\n",
       "\n",
       "    .dataframe thead th {\n",
       "        text-align: right;\n",
       "    }\n",
       "</style>\n",
       "<table border=\"1\" class=\"dataframe\">\n",
       "  <thead>\n",
       "    <tr style=\"text-align: right;\">\n",
       "      <th></th>\n",
       "      <th>parent</th>\n",
       "      <th>f0_</th>\n",
       "    </tr>\n",
       "  </thead>\n",
       "  <tbody>\n",
       "    <tr>\n",
       "      <th>0</th>\n",
       "      <td>7536283</td>\n",
       "      <td>45</td>\n",
       "    </tr>\n",
       "    <tr>\n",
       "      <th>1</th>\n",
       "      <td>4053076</td>\n",
       "      <td>242</td>\n",
       "    </tr>\n",
       "    <tr>\n",
       "      <th>2</th>\n",
       "      <td>2530963</td>\n",
       "      <td>59</td>\n",
       "    </tr>\n",
       "    <tr>\n",
       "      <th>3</th>\n",
       "      <td>1934367</td>\n",
       "      <td>70</td>\n",
       "    </tr>\n",
       "    <tr>\n",
       "      <th>4</th>\n",
       "      <td>8204007</td>\n",
       "      <td>43</td>\n",
       "    </tr>\n",
       "  </tbody>\n",
       "</table>\n",
       "</div>"
      ],
      "text/plain": [
       "    parent  f0_\n",
       "0  7536283   45\n",
       "1  4053076  242\n",
       "2  2530963   59\n",
       "3  1934367   70\n",
       "4  8204007   43"
      ]
     },
     "execution_count": 17,
     "metadata": {},
     "output_type": "execute_result"
    }
   ],
   "source": [
    "query_popular = \"\"\"\n",
    "                SELECT parent, COUNT(id)\n",
    "                FROM `bigquery-public-data.hacker_news.comments`\n",
    "                GROUP BY parent\n",
    "                HAVING COUNT(id) > 10\n",
    "                \"\"\"\n",
    "\n",
    "safe_config = bigquery.QueryJobConfig(maximum_bytes_billed=10**10)\n",
    "query_job = client.query(query_popular, job_config=safe_config)\n",
    "\n",
    "popular_comments = query_job.to_dataframe()\n",
    "popular_comments.head()"
   ]
  },
  {
   "cell_type": "code",
   "execution_count": 18,
   "id": "a2a47384",
   "metadata": {
    "execution": {
     "iopub.execute_input": "2022-04-16T11:25:56.139250Z",
     "iopub.status.busy": "2022-04-16T11:25:56.138985Z",
     "iopub.status.idle": "2022-04-16T11:25:57.228510Z",
     "shell.execute_reply": "2022-04-16T11:25:57.227627Z"
    },
    "papermill": {
     "duration": 1.127735,
     "end_time": "2022-04-16T11:25:57.230821",
     "exception": false,
     "start_time": "2022-04-16T11:25:56.103086",
     "status": "completed"
    },
    "tags": []
   },
   "outputs": [
    {
     "name": "stderr",
     "output_type": "stream",
     "text": [
      "/opt/conda/lib/python3.7/site-packages/google/cloud/bigquery/client.py:440: UserWarning: Cannot create BigQuery Storage client, the dependency google-cloud-bigquery-storage is not installed.\n",
      "  \"Cannot create BigQuery Storage client, the dependency \"\n"
     ]
    },
    {
     "data": {
      "text/html": [
       "<div>\n",
       "<style scoped>\n",
       "    .dataframe tbody tr th:only-of-type {\n",
       "        vertical-align: middle;\n",
       "    }\n",
       "\n",
       "    .dataframe tbody tr th {\n",
       "        vertical-align: top;\n",
       "    }\n",
       "\n",
       "    .dataframe thead th {\n",
       "        text-align: right;\n",
       "    }\n",
       "</style>\n",
       "<table border=\"1\" class=\"dataframe\">\n",
       "  <thead>\n",
       "    <tr style=\"text-align: right;\">\n",
       "      <th></th>\n",
       "      <th>author</th>\n",
       "      <th>NumPosts</th>\n",
       "    </tr>\n",
       "  </thead>\n",
       "  <tbody>\n",
       "    <tr>\n",
       "      <th>0</th>\n",
       "      <td>dragonwriter</td>\n",
       "      <td>10723</td>\n",
       "    </tr>\n",
       "    <tr>\n",
       "      <th>1</th>\n",
       "      <td>None</td>\n",
       "      <td>227736</td>\n",
       "    </tr>\n",
       "    <tr>\n",
       "      <th>2</th>\n",
       "      <td>eru</td>\n",
       "      <td>10448</td>\n",
       "    </tr>\n",
       "    <tr>\n",
       "      <th>3</th>\n",
       "      <td>rbanffy</td>\n",
       "      <td>10557</td>\n",
       "    </tr>\n",
       "    <tr>\n",
       "      <th>4</th>\n",
       "      <td>DanBC</td>\n",
       "      <td>12902</td>\n",
       "    </tr>\n",
       "  </tbody>\n",
       "</table>\n",
       "</div>"
      ],
      "text/plain": [
       "         author  NumPosts\n",
       "0  dragonwriter     10723\n",
       "1          None    227736\n",
       "2           eru     10448\n",
       "3       rbanffy     10557\n",
       "4         DanBC     12902"
      ]
     },
     "execution_count": 18,
     "metadata": {},
     "output_type": "execute_result"
    }
   ],
   "source": [
    "prolific_commenters_query = \"\"\"\n",
    "                            SELECT author, COUNT(id) AS NumPosts\n",
    "                            FROM `bigquery-public-data.hacker_news.comments`\n",
    "                            GROUP BY author\n",
    "                            HAVING COUNT(id) > 10000\n",
    "                            \"\"\"\n",
    "\n",
    "safe_config = bigquery.QueryJobConfig(maximum_bytes_billed=10**10)\n",
    "prolific_query = client.query(prolific_commenters_query, job_config=safe_config)\n",
    "\n",
    "prolific_commentors = prolific_query.to_dataframe()\n",
    "\n",
    "prolific_commentors.head()"
   ]
  },
  {
   "cell_type": "code",
   "execution_count": null,
   "id": "270ba7b9",
   "metadata": {
    "papermill": {
     "duration": 0.035657,
     "end_time": "2022-04-16T11:25:57.302392",
     "exception": false,
     "start_time": "2022-04-16T11:25:57.266735",
     "status": "completed"
    },
    "tags": []
   },
   "outputs": [],
   "source": []
  }
 ],
 "metadata": {
  "kernelspec": {
   "display_name": "Python 3",
   "language": "python",
   "name": "python3"
  },
  "language_info": {
   "codemirror_mode": {
    "name": "ipython",
    "version": 3
   },
   "file_extension": ".py",
   "mimetype": "text/x-python",
   "name": "python",
   "nbconvert_exporter": "python",
   "pygments_lexer": "ipython3",
   "version": "3.7.12"
  },
  "papermill": {
   "default_parameters": {},
   "duration": 34.843946,
   "end_time": "2022-04-16T11:25:57.957329",
   "environment_variables": {},
   "exception": null,
   "input_path": "__notebook__.ipynb",
   "output_path": "__notebook__.ipynb",
   "parameters": {},
   "start_time": "2022-04-16T11:25:23.113383",
   "version": "2.3.4"
  }
 },
 "nbformat": 4,
 "nbformat_minor": 5
}
