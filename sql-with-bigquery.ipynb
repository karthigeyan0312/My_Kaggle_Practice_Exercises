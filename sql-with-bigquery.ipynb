{
 "cells": [
  {
   "cell_type": "code",
   "execution_count": 1,
   "id": "b8561b94",
   "metadata": {
    "_cell_guid": "b1076dfc-b9ad-4769-8c92-a6c4dae69d19",
    "_uuid": "8f2839f25d086af736a60e9eeb907d3b93b6e0e5",
    "execution": {
     "iopub.execute_input": "2022-04-16T09:14:00.202553Z",
     "iopub.status.busy": "2022-04-16T09:14:00.202086Z",
     "iopub.status.idle": "2022-04-16T09:14:00.214839Z",
     "shell.execute_reply": "2022-04-16T09:14:00.213958Z"
    },
    "papermill": {
     "duration": 0.036439,
     "end_time": "2022-04-16T09:14:00.217128",
     "exception": false,
     "start_time": "2022-04-16T09:14:00.180689",
     "status": "completed"
    },
    "tags": []
   },
   "outputs": [],
   "source": [
    "# This Python 3 environment comes with many helpful analytics libraries installed\n",
    "# It is defined by the kaggle/python Docker image: https://github.com/kaggle/docker-python\n",
    "# For example, here's several helpful packages to load\n",
    "\n",
    "import numpy as np # linear algebra\n",
    "import pandas as pd # data processing, CSV file I/O (e.g. pd.read_csv)\n",
    "\n",
    "# Input data files are available in the read-only \"../input/\" directory\n",
    "# For example, running this (by clicking run or pressing Shift+Enter) will list all files under the input directory\n",
    "\n",
    "import os\n",
    "for dirname, _, filenames in os.walk('/kaggle/input'):\n",
    "    for filename in filenames:\n",
    "        print(os.path.join(dirname, filename))\n",
    "\n",
    "# You can write up to 20GB to the current directory (/kaggle/working/) that gets preserved as output when you create a version using \"Save & Run All\" \n",
    "# You can also write temporary files to /kaggle/temp/, but they won't be saved outside of the current session"
   ]
  },
  {
   "cell_type": "markdown",
   "id": "93c04778",
   "metadata": {
    "papermill": {
     "duration": 0.019167,
     "end_time": "2022-04-16T09:14:00.255173",
     "exception": false,
     "start_time": "2022-04-16T09:14:00.236006",
     "status": "completed"
    },
    "tags": []
   },
   "source": [
    "## Fetch a Dataset with Bigquery"
   ]
  },
  {
   "cell_type": "code",
   "execution_count": 2,
   "id": "5d9a0129",
   "metadata": {
    "execution": {
     "iopub.execute_input": "2022-04-16T09:14:00.294208Z",
     "iopub.status.busy": "2022-04-16T09:14:00.293921Z",
     "iopub.status.idle": "2022-04-16T09:14:01.538534Z",
     "shell.execute_reply": "2022-04-16T09:14:01.537636Z"
    },
    "papermill": {
     "duration": 1.267662,
     "end_time": "2022-04-16T09:14:01.541185",
     "exception": false,
     "start_time": "2022-04-16T09:14:00.273523",
     "status": "completed"
    },
    "tags": []
   },
   "outputs": [
    {
     "name": "stdout",
     "output_type": "stream",
     "text": [
      "Using Kaggle's public dataset BigQuery integration.\n",
      "comments\n",
      "full\n",
      "full_201510\n",
      "stories\n"
     ]
    }
   ],
   "source": [
    "from google.cloud import bigquery\n",
    "\n",
    "# Create a Client Object\n",
    "client = bigquery.Client()\n",
    "\n",
    "# Construct a reference to the \"hacker_news\" dataset\n",
    "dataset_ref = client.dataset(\"hacker_news\", project=\"bigquery-public-data\")\n",
    "\n",
    "# API request to fetch the dataset\n",
    "dataset = client.get_dataset(dataset_ref)\n",
    "\n",
    "# Construct a reference to the \"hacker_news\" dataset\n",
    "dataset_ref = client.dataset(\"hacker_news\", project=\"bigquery-public-data\")\n",
    "\n",
    "# API request to fetch the dataset\n",
    "dataset = client.get_dataset(dataset_ref)\n",
    "\n",
    "# List all the tables in the \"hacker_news\" dataset\n",
    "tables = list(client.list_tables(dataset))\n",
    "\n",
    "# Print names of all the tables in the dataset\n",
    "for table in tables:\n",
    "    print(table.table_id)"
   ]
  },
  {
   "cell_type": "markdown",
   "id": "7a8bda6d",
   "metadata": {
    "papermill": {
     "duration": 0.020683,
     "end_time": "2022-04-16T09:14:01.582479",
     "exception": false,
     "start_time": "2022-04-16T09:14:01.561796",
     "status": "completed"
    },
    "tags": []
   },
   "source": [
    "## Fetch a Table"
   ]
  },
  {
   "cell_type": "code",
   "execution_count": 3,
   "id": "2585c14b",
   "metadata": {
    "execution": {
     "iopub.execute_input": "2022-04-16T09:14:01.625356Z",
     "iopub.status.busy": "2022-04-16T09:14:01.625074Z",
     "iopub.status.idle": "2022-04-16T09:14:02.332891Z",
     "shell.execute_reply": "2022-04-16T09:14:02.331870Z"
    },
    "papermill": {
     "duration": 0.732197,
     "end_time": "2022-04-16T09:14:02.335680",
     "exception": false,
     "start_time": "2022-04-16T09:14:01.603483",
     "status": "completed"
    },
    "tags": []
   },
   "outputs": [
    {
     "data": {
      "text/plain": [
       "[SchemaField('title', 'STRING', 'NULLABLE', 'Story title', (), None),\n",
       " SchemaField('url', 'STRING', 'NULLABLE', 'Story url', (), None),\n",
       " SchemaField('text', 'STRING', 'NULLABLE', 'Story or comment text', (), None),\n",
       " SchemaField('dead', 'BOOLEAN', 'NULLABLE', 'Is dead?', (), None),\n",
       " SchemaField('by', 'STRING', 'NULLABLE', \"The username of the item's author.\", (), None),\n",
       " SchemaField('score', 'INTEGER', 'NULLABLE', 'Story score', (), None),\n",
       " SchemaField('time', 'INTEGER', 'NULLABLE', 'Unix time', (), None),\n",
       " SchemaField('timestamp', 'TIMESTAMP', 'NULLABLE', 'Timestamp for the unix time', (), None),\n",
       " SchemaField('type', 'STRING', 'NULLABLE', 'Type of details (comment, comment_ranking, poll, story, job, pollopt)', (), None),\n",
       " SchemaField('id', 'INTEGER', 'NULLABLE', \"The item's unique id.\", (), None),\n",
       " SchemaField('parent', 'INTEGER', 'NULLABLE', 'Parent comment ID', (), None),\n",
       " SchemaField('descendants', 'INTEGER', 'NULLABLE', 'Number of story or poll descendants', (), None),\n",
       " SchemaField('ranking', 'INTEGER', 'NULLABLE', 'Comment ranking', (), None),\n",
       " SchemaField('deleted', 'BOOLEAN', 'NULLABLE', 'Is deleted?', (), None)]"
      ]
     },
     "execution_count": 3,
     "metadata": {},
     "output_type": "execute_result"
    }
   ],
   "source": [
    "# Construct a reference to the full table.\n",
    "table_ref = dataset_ref.table(\"full\")\n",
    "\n",
    "# API request - fetch the table\n",
    "table = client.get_table(table_ref)\n",
    "\n",
    "table.schema"
   ]
  },
  {
   "cell_type": "code",
   "execution_count": 4,
   "id": "f84a721f",
   "metadata": {
    "execution": {
     "iopub.execute_input": "2022-04-16T09:14:02.379382Z",
     "iopub.status.busy": "2022-04-16T09:14:02.378982Z",
     "iopub.status.idle": "2022-04-16T09:14:03.239619Z",
     "shell.execute_reply": "2022-04-16T09:14:03.238596Z"
    },
    "papermill": {
     "duration": 0.885524,
     "end_time": "2022-04-16T09:14:03.242255",
     "exception": false,
     "start_time": "2022-04-16T09:14:02.356731",
     "status": "completed"
    },
    "tags": []
   },
   "outputs": [
    {
     "name": "stderr",
     "output_type": "stream",
     "text": [
      "/opt/conda/lib/python3.7/site-packages/ipykernel_launcher.py:1: UserWarning: Cannot use bqstorage_client if max_results is set, reverting to fetching data with the tabledata.list endpoint.\n",
      "  \"\"\"Entry point for launching an IPython kernel.\n"
     ]
    },
    {
     "data": {
      "text/html": [
       "<div>\n",
       "<style scoped>\n",
       "    .dataframe tbody tr th:only-of-type {\n",
       "        vertical-align: middle;\n",
       "    }\n",
       "\n",
       "    .dataframe tbody tr th {\n",
       "        vertical-align: top;\n",
       "    }\n",
       "\n",
       "    .dataframe thead th {\n",
       "        text-align: right;\n",
       "    }\n",
       "</style>\n",
       "<table border=\"1\" class=\"dataframe\">\n",
       "  <thead>\n",
       "    <tr style=\"text-align: right;\">\n",
       "      <th></th>\n",
       "      <th>title</th>\n",
       "      <th>url</th>\n",
       "      <th>text</th>\n",
       "      <th>dead</th>\n",
       "      <th>by</th>\n",
       "      <th>score</th>\n",
       "      <th>time</th>\n",
       "      <th>timestamp</th>\n",
       "      <th>type</th>\n",
       "      <th>id</th>\n",
       "      <th>parent</th>\n",
       "      <th>descendants</th>\n",
       "      <th>ranking</th>\n",
       "      <th>deleted</th>\n",
       "    </tr>\n",
       "  </thead>\n",
       "  <tbody>\n",
       "    <tr>\n",
       "      <th>0</th>\n",
       "      <td>None</td>\n",
       "      <td>None</td>\n",
       "      <td>The rates generally are published, via CMS. Th...</td>\n",
       "      <td>None</td>\n",
       "      <td>killjoywashere</td>\n",
       "      <td>NaN</td>\n",
       "      <td>1516081339</td>\n",
       "      <td>2018-01-16 05:42:19+00:00</td>\n",
       "      <td>comment</td>\n",
       "      <td>16156093</td>\n",
       "      <td>16154299</td>\n",
       "      <td>NaN</td>\n",
       "      <td>NaN</td>\n",
       "      <td>None</td>\n",
       "    </tr>\n",
       "    <tr>\n",
       "      <th>1</th>\n",
       "      <td>None</td>\n",
       "      <td>None</td>\n",
       "      <td>Totally is. I live on the East Coast in an ill...</td>\n",
       "      <td>None</td>\n",
       "      <td>nv-vn</td>\n",
       "      <td>NaN</td>\n",
       "      <td>1516081329</td>\n",
       "      <td>2018-01-16 05:42:09+00:00</td>\n",
       "      <td>comment</td>\n",
       "      <td>16156092</td>\n",
       "      <td>16152990</td>\n",
       "      <td>NaN</td>\n",
       "      <td>NaN</td>\n",
       "      <td>None</td>\n",
       "    </tr>\n",
       "    <tr>\n",
       "      <th>2</th>\n",
       "      <td>None</td>\n",
       "      <td>None</td>\n",
       "      <td>The thing is, it seems pretty clear-cut to me ...</td>\n",
       "      <td>None</td>\n",
       "      <td>rgossiaux</td>\n",
       "      <td>NaN</td>\n",
       "      <td>1516081277</td>\n",
       "      <td>2018-01-16 05:41:17+00:00</td>\n",
       "      <td>comment</td>\n",
       "      <td>16156091</td>\n",
       "      <td>16155165</td>\n",
       "      <td>NaN</td>\n",
       "      <td>NaN</td>\n",
       "      <td>None</td>\n",
       "    </tr>\n",
       "    <tr>\n",
       "      <th>3</th>\n",
       "      <td>None</td>\n",
       "      <td>None</td>\n",
       "      <td>from my limited experience with health care in...</td>\n",
       "      <td>None</td>\n",
       "      <td>rosege</td>\n",
       "      <td>NaN</td>\n",
       "      <td>1516081260</td>\n",
       "      <td>2018-01-16 05:41:00+00:00</td>\n",
       "      <td>comment</td>\n",
       "      <td>16156090</td>\n",
       "      <td>16153671</td>\n",
       "      <td>NaN</td>\n",
       "      <td>NaN</td>\n",
       "      <td>None</td>\n",
       "    </tr>\n",
       "    <tr>\n",
       "      <th>4</th>\n",
       "      <td>None</td>\n",
       "      <td>None</td>\n",
       "      <td>If you were Nigerian you&amp;#x27;d probably feel ...</td>\n",
       "      <td>None</td>\n",
       "      <td>ikeyany</td>\n",
       "      <td>NaN</td>\n",
       "      <td>1516081344</td>\n",
       "      <td>2018-01-16 05:42:24+00:00</td>\n",
       "      <td>comment</td>\n",
       "      <td>16156096</td>\n",
       "      <td>16154506</td>\n",
       "      <td>NaN</td>\n",
       "      <td>NaN</td>\n",
       "      <td>None</td>\n",
       "    </tr>\n",
       "  </tbody>\n",
       "</table>\n",
       "</div>"
      ],
      "text/plain": [
       "  title   url                                               text  dead  \\\n",
       "0  None  None  The rates generally are published, via CMS. Th...  None   \n",
       "1  None  None  Totally is. I live on the East Coast in an ill...  None   \n",
       "2  None  None  The thing is, it seems pretty clear-cut to me ...  None   \n",
       "3  None  None  from my limited experience with health care in...  None   \n",
       "4  None  None  If you were Nigerian you&#x27;d probably feel ...  None   \n",
       "\n",
       "               by  score        time                 timestamp     type  \\\n",
       "0  killjoywashere    NaN  1516081339 2018-01-16 05:42:19+00:00  comment   \n",
       "1           nv-vn    NaN  1516081329 2018-01-16 05:42:09+00:00  comment   \n",
       "2       rgossiaux    NaN  1516081277 2018-01-16 05:41:17+00:00  comment   \n",
       "3          rosege    NaN  1516081260 2018-01-16 05:41:00+00:00  comment   \n",
       "4         ikeyany    NaN  1516081344 2018-01-16 05:42:24+00:00  comment   \n",
       "\n",
       "         id    parent  descendants  ranking deleted  \n",
       "0  16156093  16154299          NaN      NaN    None  \n",
       "1  16156092  16152990          NaN      NaN    None  \n",
       "2  16156091  16155165          NaN      NaN    None  \n",
       "3  16156090  16153671          NaN      NaN    None  \n",
       "4  16156096  16154506          NaN      NaN    None  "
      ]
     },
     "execution_count": 4,
     "metadata": {},
     "output_type": "execute_result"
    }
   ],
   "source": [
    "client.list_rows(table, max_results=5).to_dataframe()"
   ]
  },
  {
   "cell_type": "code",
   "execution_count": 5,
   "id": "119bf9c3",
   "metadata": {
    "execution": {
     "iopub.execute_input": "2022-04-16T09:14:03.285758Z",
     "iopub.status.busy": "2022-04-16T09:14:03.285194Z",
     "iopub.status.idle": "2022-04-16T09:14:03.781915Z",
     "shell.execute_reply": "2022-04-16T09:14:03.781030Z"
    },
    "papermill": {
     "duration": 0.521633,
     "end_time": "2022-04-16T09:14:03.784420",
     "exception": false,
     "start_time": "2022-04-16T09:14:03.262787",
     "status": "completed"
    },
    "tags": []
   },
   "outputs": [
    {
     "name": "stderr",
     "output_type": "stream",
     "text": [
      "/opt/conda/lib/python3.7/site-packages/ipykernel_launcher.py:1: UserWarning: Cannot use bqstorage_client if max_results is set, reverting to fetching data with the tabledata.list endpoint.\n",
      "  \"\"\"Entry point for launching an IPython kernel.\n"
     ]
    },
    {
     "data": {
      "text/html": [
       "<div>\n",
       "<style scoped>\n",
       "    .dataframe tbody tr th:only-of-type {\n",
       "        vertical-align: middle;\n",
       "    }\n",
       "\n",
       "    .dataframe tbody tr th {\n",
       "        vertical-align: top;\n",
       "    }\n",
       "\n",
       "    .dataframe thead th {\n",
       "        text-align: right;\n",
       "    }\n",
       "</style>\n",
       "<table border=\"1\" class=\"dataframe\">\n",
       "  <thead>\n",
       "    <tr style=\"text-align: right;\">\n",
       "      <th></th>\n",
       "      <th>text</th>\n",
       "    </tr>\n",
       "  </thead>\n",
       "  <tbody>\n",
       "    <tr>\n",
       "      <th>0</th>\n",
       "      <td>The rates generally are published, via CMS. Th...</td>\n",
       "    </tr>\n",
       "    <tr>\n",
       "      <th>1</th>\n",
       "      <td>Totally is. I live on the East Coast in an ill...</td>\n",
       "    </tr>\n",
       "    <tr>\n",
       "      <th>2</th>\n",
       "      <td>The thing is, it seems pretty clear-cut to me ...</td>\n",
       "    </tr>\n",
       "    <tr>\n",
       "      <th>3</th>\n",
       "      <td>from my limited experience with health care in...</td>\n",
       "    </tr>\n",
       "    <tr>\n",
       "      <th>4</th>\n",
       "      <td>If you were Nigerian you&amp;#x27;d probably feel ...</td>\n",
       "    </tr>\n",
       "  </tbody>\n",
       "</table>\n",
       "</div>"
      ],
      "text/plain": [
       "                                                text\n",
       "0  The rates generally are published, via CMS. Th...\n",
       "1  Totally is. I live on the East Coast in an ill...\n",
       "2  The thing is, it seems pretty clear-cut to me ...\n",
       "3  from my limited experience with health care in...\n",
       "4  If you were Nigerian you&#x27;d probably feel ..."
      ]
     },
     "execution_count": 5,
     "metadata": {},
     "output_type": "execute_result"
    }
   ],
   "source": [
    "client.list_rows(table, selected_fields=table.schema[2:3], max_results=5).to_dataframe()"
   ]
  },
  {
   "cell_type": "markdown",
   "id": "0c670662",
   "metadata": {
    "papermill": {
     "duration": 0.022594,
     "end_time": "2022-04-16T09:14:03.833928",
     "exception": false,
     "start_time": "2022-04-16T09:14:03.811334",
     "status": "completed"
    },
    "tags": []
   },
   "source": [
    "## Practice"
   ]
  },
  {
   "cell_type": "code",
   "execution_count": 6,
   "id": "ea230cdf",
   "metadata": {
    "execution": {
     "iopub.execute_input": "2022-04-16T09:14:03.883229Z",
     "iopub.status.busy": "2022-04-16T09:14:03.882937Z",
     "iopub.status.idle": "2022-04-16T09:14:04.229104Z",
     "shell.execute_reply": "2022-04-16T09:14:04.227875Z"
    },
    "papermill": {
     "duration": 0.375108,
     "end_time": "2022-04-16T09:14:04.232239",
     "exception": false,
     "start_time": "2022-04-16T09:14:03.857131",
     "status": "completed"
    },
    "tags": []
   },
   "outputs": [
    {
     "name": "stdout",
     "output_type": "stream",
     "text": [
      "Using Kaggle's public dataset BigQuery integration.\n"
     ]
    }
   ],
   "source": [
    "from google.cloud import bigquery\n",
    "\n",
    "# Create a \"Client\" object\n",
    "client = bigquery.Client()\n",
    "\n",
    "# Construct a reference to the \"chicago_crime\" dataset\n",
    "dataset_ref = client.dataset('chicago_crime', project='bigquery-public-data')\n",
    "\n",
    "# API request - fetch the dataset\n",
    "dataset = client.get_dataset(dataset_ref)"
   ]
  },
  {
   "cell_type": "code",
   "execution_count": 7,
   "id": "53b95717",
   "metadata": {
    "execution": {
     "iopub.execute_input": "2022-04-16T09:14:04.286492Z",
     "iopub.status.busy": "2022-04-16T09:14:04.286209Z",
     "iopub.status.idle": "2022-04-16T09:14:05.125642Z",
     "shell.execute_reply": "2022-04-16T09:14:05.124668Z"
    },
    "papermill": {
     "duration": 0.866027,
     "end_time": "2022-04-16T09:14:05.128371",
     "exception": false,
     "start_time": "2022-04-16T09:14:04.262344",
     "status": "completed"
    },
    "tags": []
   },
   "outputs": [
    {
     "name": "stdout",
     "output_type": "stream",
     "text": [
      "crime\n"
     ]
    }
   ],
   "source": [
    "tables = list(client.list_tables(dataset))\n",
    "\n",
    "for table in tables:\n",
    "    print(table.table_id)"
   ]
  },
  {
   "cell_type": "code",
   "execution_count": 8,
   "id": "e1c097cb",
   "metadata": {
    "execution": {
     "iopub.execute_input": "2022-04-16T09:14:05.177116Z",
     "iopub.status.busy": "2022-04-16T09:14:05.176601Z",
     "iopub.status.idle": "2022-04-16T09:14:05.541002Z",
     "shell.execute_reply": "2022-04-16T09:14:05.539815Z"
    },
    "papermill": {
     "duration": 0.393029,
     "end_time": "2022-04-16T09:14:05.543613",
     "exception": false,
     "start_time": "2022-04-16T09:14:05.150584",
     "status": "completed"
    },
    "tags": []
   },
   "outputs": [
    {
     "data": {
      "text/plain": [
       "[SchemaField('unique_key', 'INTEGER', 'REQUIRED', None, (), None),\n",
       " SchemaField('case_number', 'STRING', 'NULLABLE', None, (), None),\n",
       " SchemaField('date', 'TIMESTAMP', 'NULLABLE', None, (), None),\n",
       " SchemaField('block', 'STRING', 'NULLABLE', None, (), None),\n",
       " SchemaField('iucr', 'STRING', 'NULLABLE', None, (), None),\n",
       " SchemaField('primary_type', 'STRING', 'NULLABLE', None, (), None),\n",
       " SchemaField('description', 'STRING', 'NULLABLE', None, (), None),\n",
       " SchemaField('location_description', 'STRING', 'NULLABLE', None, (), None),\n",
       " SchemaField('arrest', 'BOOLEAN', 'NULLABLE', None, (), None),\n",
       " SchemaField('domestic', 'BOOLEAN', 'NULLABLE', None, (), None),\n",
       " SchemaField('beat', 'INTEGER', 'NULLABLE', None, (), None),\n",
       " SchemaField('district', 'INTEGER', 'NULLABLE', None, (), None),\n",
       " SchemaField('ward', 'INTEGER', 'NULLABLE', None, (), None),\n",
       " SchemaField('community_area', 'INTEGER', 'NULLABLE', None, (), None),\n",
       " SchemaField('fbi_code', 'STRING', 'NULLABLE', None, (), None),\n",
       " SchemaField('x_coordinate', 'FLOAT', 'NULLABLE', None, (), None),\n",
       " SchemaField('y_coordinate', 'FLOAT', 'NULLABLE', None, (), None),\n",
       " SchemaField('year', 'INTEGER', 'NULLABLE', None, (), None),\n",
       " SchemaField('updated_on', 'TIMESTAMP', 'NULLABLE', None, (), None),\n",
       " SchemaField('latitude', 'FLOAT', 'NULLABLE', None, (), None),\n",
       " SchemaField('longitude', 'FLOAT', 'NULLABLE', None, (), None),\n",
       " SchemaField('location', 'STRING', 'NULLABLE', None, (), None)]"
      ]
     },
     "execution_count": 8,
     "metadata": {},
     "output_type": "execute_result"
    }
   ],
   "source": [
    "table_ref = dataset_ref.table('crime')\n",
    "\n",
    "# API request to fetch the table\n",
    "table = client.get_table(table_ref)\n",
    "\n",
    "table.schema"
   ]
  },
  {
   "cell_type": "code",
   "execution_count": 9,
   "id": "88c242ec",
   "metadata": {
    "execution": {
     "iopub.execute_input": "2022-04-16T09:14:05.594660Z",
     "iopub.status.busy": "2022-04-16T09:14:05.594074Z",
     "iopub.status.idle": "2022-04-16T09:14:06.468244Z",
     "shell.execute_reply": "2022-04-16T09:14:06.467359Z"
    },
    "papermill": {
     "duration": 0.902046,
     "end_time": "2022-04-16T09:14:06.471130",
     "exception": false,
     "start_time": "2022-04-16T09:14:05.569084",
     "status": "completed"
    },
    "tags": []
   },
   "outputs": [
    {
     "name": "stderr",
     "output_type": "stream",
     "text": [
      "/opt/conda/lib/python3.7/site-packages/ipykernel_launcher.py:1: UserWarning: Cannot use bqstorage_client if max_results is set, reverting to fetching data with the tabledata.list endpoint.\n",
      "  \"\"\"Entry point for launching an IPython kernel.\n"
     ]
    },
    {
     "data": {
      "text/html": [
       "<div>\n",
       "<style scoped>\n",
       "    .dataframe tbody tr th:only-of-type {\n",
       "        vertical-align: middle;\n",
       "    }\n",
       "\n",
       "    .dataframe tbody tr th {\n",
       "        vertical-align: top;\n",
       "    }\n",
       "\n",
       "    .dataframe thead th {\n",
       "        text-align: right;\n",
       "    }\n",
       "</style>\n",
       "<table border=\"1\" class=\"dataframe\">\n",
       "  <thead>\n",
       "    <tr style=\"text-align: right;\">\n",
       "      <th></th>\n",
       "      <th>unique_key</th>\n",
       "      <th>case_number</th>\n",
       "      <th>date</th>\n",
       "      <th>block</th>\n",
       "      <th>iucr</th>\n",
       "      <th>primary_type</th>\n",
       "      <th>description</th>\n",
       "      <th>location_description</th>\n",
       "      <th>arrest</th>\n",
       "      <th>domestic</th>\n",
       "      <th>...</th>\n",
       "      <th>ward</th>\n",
       "      <th>community_area</th>\n",
       "      <th>fbi_code</th>\n",
       "      <th>x_coordinate</th>\n",
       "      <th>y_coordinate</th>\n",
       "      <th>year</th>\n",
       "      <th>updated_on</th>\n",
       "      <th>latitude</th>\n",
       "      <th>longitude</th>\n",
       "      <th>location</th>\n",
       "    </tr>\n",
       "  </thead>\n",
       "  <tbody>\n",
       "    <tr>\n",
       "      <th>0</th>\n",
       "      <td>4308177</td>\n",
       "      <td>HL616890</td>\n",
       "      <td>2005-09-16 08:30:00+00:00</td>\n",
       "      <td>032XX S PRINCETON AVE</td>\n",
       "      <td>1210</td>\n",
       "      <td>DECEPTIVE PRACTICE</td>\n",
       "      <td>THEFT OF LABOR/SERVICES</td>\n",
       "      <td>TAXICAB</td>\n",
       "      <td>False</td>\n",
       "      <td>False</td>\n",
       "      <td>...</td>\n",
       "      <td>11</td>\n",
       "      <td>34</td>\n",
       "      <td>11</td>\n",
       "      <td>1174818.0</td>\n",
       "      <td>1883378.0</td>\n",
       "      <td>2005</td>\n",
       "      <td>2018-02-28 03:56:25+00:00</td>\n",
       "      <td>41.835379</td>\n",
       "      <td>-87.634034</td>\n",
       "      <td>(41.835378954, -87.634034466)</td>\n",
       "    </tr>\n",
       "    <tr>\n",
       "      <th>1</th>\n",
       "      <td>4321424</td>\n",
       "      <td>HL614310</td>\n",
       "      <td>2005-09-07 12:00:00+00:00</td>\n",
       "      <td>050XX S ARCHER AVE</td>\n",
       "      <td>1122</td>\n",
       "      <td>DECEPTIVE PRACTICE</td>\n",
       "      <td>COUNTERFEIT CHECK</td>\n",
       "      <td>BANK</td>\n",
       "      <td>False</td>\n",
       "      <td>False</td>\n",
       "      <td>...</td>\n",
       "      <td>23</td>\n",
       "      <td>57</td>\n",
       "      <td>10</td>\n",
       "      <td>1149380.0</td>\n",
       "      <td>1870669.0</td>\n",
       "      <td>2005</td>\n",
       "      <td>2018-02-28 03:56:25+00:00</td>\n",
       "      <td>41.801034</td>\n",
       "      <td>-87.727704</td>\n",
       "      <td>(41.801034017, -87.727703751)</td>\n",
       "    </tr>\n",
       "    <tr>\n",
       "      <th>2</th>\n",
       "      <td>4324795</td>\n",
       "      <td>HL629710</td>\n",
       "      <td>2005-09-22 11:30:00+00:00</td>\n",
       "      <td>087XX S CRANDON AVE</td>\n",
       "      <td>0496</td>\n",
       "      <td>BATTERY</td>\n",
       "      <td>AGGRAVATED DOMESTIC BATTERY: KNIFE/CUTTING INST</td>\n",
       "      <td>RESIDENCE</td>\n",
       "      <td>False</td>\n",
       "      <td>True</td>\n",
       "      <td>...</td>\n",
       "      <td>8</td>\n",
       "      <td>48</td>\n",
       "      <td>04B</td>\n",
       "      <td>1193018.0</td>\n",
       "      <td>1847430.0</td>\n",
       "      <td>2005</td>\n",
       "      <td>2018-02-10 03:50:01+00:00</td>\n",
       "      <td>41.736309</td>\n",
       "      <td>-87.568428</td>\n",
       "      <td>(41.736309285, -87.568427589)</td>\n",
       "    </tr>\n",
       "    <tr>\n",
       "      <th>3</th>\n",
       "      <td>4325028</td>\n",
       "      <td>HL615482</td>\n",
       "      <td>2005-09-15 09:30:00+00:00</td>\n",
       "      <td>053XX S PULASKI RD</td>\n",
       "      <td>1110</td>\n",
       "      <td>DECEPTIVE PRACTICE</td>\n",
       "      <td>BOGUS CHECK</td>\n",
       "      <td>GROCERY FOOD STORE</td>\n",
       "      <td>False</td>\n",
       "      <td>False</td>\n",
       "      <td>...</td>\n",
       "      <td>23</td>\n",
       "      <td>62</td>\n",
       "      <td>11</td>\n",
       "      <td>1150606.0</td>\n",
       "      <td>1868988.0</td>\n",
       "      <td>2005</td>\n",
       "      <td>2018-02-10 03:50:01+00:00</td>\n",
       "      <td>41.796397</td>\n",
       "      <td>-87.723251</td>\n",
       "      <td>(41.79639731, -87.723251281)</td>\n",
       "    </tr>\n",
       "    <tr>\n",
       "      <th>4</th>\n",
       "      <td>4329873</td>\n",
       "      <td>HL633937</td>\n",
       "      <td>2005-09-25 02:51:00+00:00</td>\n",
       "      <td>092XX S DOBSON AVE</td>\n",
       "      <td>0325</td>\n",
       "      <td>ROBBERY</td>\n",
       "      <td>VEHICULAR HIJACKING</td>\n",
       "      <td>STREET</td>\n",
       "      <td>False</td>\n",
       "      <td>False</td>\n",
       "      <td>...</td>\n",
       "      <td>8</td>\n",
       "      <td>47</td>\n",
       "      <td>03</td>\n",
       "      <td>1184833.0</td>\n",
       "      <td>1843829.0</td>\n",
       "      <td>2005</td>\n",
       "      <td>2018-02-28 03:56:25+00:00</td>\n",
       "      <td>41.726623</td>\n",
       "      <td>-87.598527</td>\n",
       "      <td>(41.726623452, -87.59852684)</td>\n",
       "    </tr>\n",
       "  </tbody>\n",
       "</table>\n",
       "<p>5 rows × 22 columns</p>\n",
       "</div>"
      ],
      "text/plain": [
       "   unique_key case_number                      date                  block  \\\n",
       "0     4308177    HL616890 2005-09-16 08:30:00+00:00  032XX S PRINCETON AVE   \n",
       "1     4321424    HL614310 2005-09-07 12:00:00+00:00     050XX S ARCHER AVE   \n",
       "2     4324795    HL629710 2005-09-22 11:30:00+00:00    087XX S CRANDON AVE   \n",
       "3     4325028    HL615482 2005-09-15 09:30:00+00:00     053XX S PULASKI RD   \n",
       "4     4329873    HL633937 2005-09-25 02:51:00+00:00     092XX S DOBSON AVE   \n",
       "\n",
       "   iucr        primary_type                                      description  \\\n",
       "0  1210  DECEPTIVE PRACTICE                          THEFT OF LABOR/SERVICES   \n",
       "1  1122  DECEPTIVE PRACTICE                                COUNTERFEIT CHECK   \n",
       "2  0496             BATTERY  AGGRAVATED DOMESTIC BATTERY: KNIFE/CUTTING INST   \n",
       "3  1110  DECEPTIVE PRACTICE                                      BOGUS CHECK   \n",
       "4  0325             ROBBERY                              VEHICULAR HIJACKING   \n",
       "\n",
       "  location_description  arrest  domestic  ...  ward  community_area  fbi_code  \\\n",
       "0              TAXICAB   False     False  ...    11              34        11   \n",
       "1                 BANK   False     False  ...    23              57        10   \n",
       "2            RESIDENCE   False      True  ...     8              48       04B   \n",
       "3   GROCERY FOOD STORE   False     False  ...    23              62        11   \n",
       "4               STREET   False     False  ...     8              47        03   \n",
       "\n",
       "   x_coordinate y_coordinate  year                updated_on   latitude  \\\n",
       "0     1174818.0    1883378.0  2005 2018-02-28 03:56:25+00:00  41.835379   \n",
       "1     1149380.0    1870669.0  2005 2018-02-28 03:56:25+00:00  41.801034   \n",
       "2     1193018.0    1847430.0  2005 2018-02-10 03:50:01+00:00  41.736309   \n",
       "3     1150606.0    1868988.0  2005 2018-02-10 03:50:01+00:00  41.796397   \n",
       "4     1184833.0    1843829.0  2005 2018-02-28 03:56:25+00:00  41.726623   \n",
       "\n",
       "   longitude                       location  \n",
       "0 -87.634034  (41.835378954, -87.634034466)  \n",
       "1 -87.727704  (41.801034017, -87.727703751)  \n",
       "2 -87.568428  (41.736309285, -87.568427589)  \n",
       "3 -87.723251   (41.79639731, -87.723251281)  \n",
       "4 -87.598527   (41.726623452, -87.59852684)  \n",
       "\n",
       "[5 rows x 22 columns]"
      ]
     },
     "execution_count": 9,
     "metadata": {},
     "output_type": "execute_result"
    }
   ],
   "source": [
    "client.list_rows(table, max_results=5).to_dataframe()"
   ]
  },
  {
   "cell_type": "markdown",
   "id": "906101fd",
   "metadata": {
    "papermill": {
     "duration": 0.023691,
     "end_time": "2022-04-16T09:14:06.518953",
     "exception": false,
     "start_time": "2022-04-16T09:14:06.495262",
     "status": "completed"
    },
    "tags": []
   },
   "source": [
    "## Air Quality Records"
   ]
  },
  {
   "cell_type": "code",
   "execution_count": 10,
   "id": "631aa47b",
   "metadata": {
    "execution": {
     "iopub.execute_input": "2022-04-16T09:14:06.570789Z",
     "iopub.status.busy": "2022-04-16T09:14:06.569672Z",
     "iopub.status.idle": "2022-04-16T09:14:07.805778Z",
     "shell.execute_reply": "2022-04-16T09:14:07.803944Z"
    },
    "papermill": {
     "duration": 1.265361,
     "end_time": "2022-04-16T09:14:07.808393",
     "exception": false,
     "start_time": "2022-04-16T09:14:06.543032",
     "status": "completed"
    },
    "tags": []
   },
   "outputs": [
    {
     "name": "stdout",
     "output_type": "stream",
     "text": [
      "Using Kaggle's public dataset BigQuery integration.\n",
      "crime\n"
     ]
    }
   ],
   "source": [
    "from google.cloud import bigquery\n",
    "client = bigquery.Client()\n",
    "\n",
    "dataset_ref = client.dataset(\"openaq\", project=\"bigquery-public-data\")\n",
    "dataset = client.get_dataset(dataset_ref)\n",
    "\n",
    "table_ref = list(client.list_tables(dataset))\n",
    "\n",
    "for table in tables:\n",
    "    print(table.table_id)"
   ]
  },
  {
   "cell_type": "code",
   "execution_count": 11,
   "id": "e7ef4897",
   "metadata": {
    "execution": {
     "iopub.execute_input": "2022-04-16T09:14:07.860314Z",
     "iopub.status.busy": "2022-04-16T09:14:07.860024Z",
     "iopub.status.idle": "2022-04-16T09:14:08.160170Z",
     "shell.execute_reply": "2022-04-16T09:14:08.159158Z"
    },
    "papermill": {
     "duration": 0.329592,
     "end_time": "2022-04-16T09:14:08.162627",
     "exception": false,
     "start_time": "2022-04-16T09:14:07.833035",
     "status": "completed"
    },
    "tags": []
   },
   "outputs": [
    {
     "data": {
      "text/plain": [
       "[SchemaField('location', 'STRING', 'NULLABLE', None, (), None),\n",
       " SchemaField('city', 'STRING', 'NULLABLE', None, (), None),\n",
       " SchemaField('country', 'STRING', 'NULLABLE', None, (), None),\n",
       " SchemaField('pollutant', 'STRING', 'NULLABLE', None, (), None),\n",
       " SchemaField('value', 'FLOAT', 'NULLABLE', None, (), None),\n",
       " SchemaField('timestamp', 'TIMESTAMP', 'NULLABLE', None, (), None),\n",
       " SchemaField('unit', 'STRING', 'NULLABLE', None, (), None),\n",
       " SchemaField('source_name', 'STRING', 'NULLABLE', None, (), None),\n",
       " SchemaField('latitude', 'FLOAT', 'NULLABLE', None, (), None),\n",
       " SchemaField('longitude', 'FLOAT', 'NULLABLE', None, (), None),\n",
       " SchemaField('averaged_over_in_hours', 'FLOAT', 'NULLABLE', None, (), None),\n",
       " SchemaField('location_geom', 'GEOGRAPHY', 'NULLABLE', None, (), None)]"
      ]
     },
     "execution_count": 11,
     "metadata": {},
     "output_type": "execute_result"
    }
   ],
   "source": [
    "table_ref = dataset_ref.table('global_air_quality')\n",
    "\n",
    "table = client.get_table(table_ref)\n",
    "table.schema"
   ]
  },
  {
   "cell_type": "code",
   "execution_count": 12,
   "id": "eaa7b6e7",
   "metadata": {
    "execution": {
     "iopub.execute_input": "2022-04-16T09:14:08.220599Z",
     "iopub.status.busy": "2022-04-16T09:14:08.220204Z",
     "iopub.status.idle": "2022-04-16T09:14:08.777046Z",
     "shell.execute_reply": "2022-04-16T09:14:08.776368Z"
    },
    "papermill": {
     "duration": 0.587898,
     "end_time": "2022-04-16T09:14:08.779161",
     "exception": false,
     "start_time": "2022-04-16T09:14:08.191263",
     "status": "completed"
    },
    "tags": []
   },
   "outputs": [
    {
     "name": "stderr",
     "output_type": "stream",
     "text": [
      "/opt/conda/lib/python3.7/site-packages/ipykernel_launcher.py:1: UserWarning: Cannot use bqstorage_client if max_results is set, reverting to fetching data with the tabledata.list endpoint.\n",
      "  \"\"\"Entry point for launching an IPython kernel.\n"
     ]
    },
    {
     "data": {
      "text/html": [
       "<div>\n",
       "<style scoped>\n",
       "    .dataframe tbody tr th:only-of-type {\n",
       "        vertical-align: middle;\n",
       "    }\n",
       "\n",
       "    .dataframe tbody tr th {\n",
       "        vertical-align: top;\n",
       "    }\n",
       "\n",
       "    .dataframe thead th {\n",
       "        text-align: right;\n",
       "    }\n",
       "</style>\n",
       "<table border=\"1\" class=\"dataframe\">\n",
       "  <thead>\n",
       "    <tr style=\"text-align: right;\">\n",
       "      <th></th>\n",
       "      <th>location</th>\n",
       "      <th>city</th>\n",
       "      <th>country</th>\n",
       "      <th>pollutant</th>\n",
       "      <th>value</th>\n",
       "      <th>timestamp</th>\n",
       "      <th>unit</th>\n",
       "      <th>source_name</th>\n",
       "      <th>latitude</th>\n",
       "      <th>longitude</th>\n",
       "      <th>averaged_over_in_hours</th>\n",
       "      <th>location_geom</th>\n",
       "    </tr>\n",
       "  </thead>\n",
       "  <tbody>\n",
       "    <tr>\n",
       "      <th>0</th>\n",
       "      <td>MA</td>\n",
       "      <td>Salt Lake City</td>\n",
       "      <td>US</td>\n",
       "      <td>pm25</td>\n",
       "      <td>1.300</td>\n",
       "      <td>2020-01-06 18:00:00+00:00</td>\n",
       "      <td>µg/m³</td>\n",
       "      <td>AirNow</td>\n",
       "      <td>40.712063</td>\n",
       "      <td>-112.111120</td>\n",
       "      <td>1.0</td>\n",
       "      <td>POINT(-112.11112 40.712063)</td>\n",
       "    </tr>\n",
       "    <tr>\n",
       "      <th>1</th>\n",
       "      <td>MA</td>\n",
       "      <td>Salt Lake City</td>\n",
       "      <td>US</td>\n",
       "      <td>so2</td>\n",
       "      <td>0.001</td>\n",
       "      <td>2020-01-06 18:00:00+00:00</td>\n",
       "      <td>ppm</td>\n",
       "      <td>AirNow</td>\n",
       "      <td>40.712063</td>\n",
       "      <td>-112.111120</td>\n",
       "      <td>1.0</td>\n",
       "      <td>POINT(-112.11112 40.712063)</td>\n",
       "    </tr>\n",
       "    <tr>\n",
       "      <th>2</th>\n",
       "      <td>MA</td>\n",
       "      <td>Salt Lake City</td>\n",
       "      <td>US</td>\n",
       "      <td>no2</td>\n",
       "      <td>0.003</td>\n",
       "      <td>2020-01-06 18:00:00+00:00</td>\n",
       "      <td>ppm</td>\n",
       "      <td>AirNow</td>\n",
       "      <td>40.712063</td>\n",
       "      <td>-112.111120</td>\n",
       "      <td>1.0</td>\n",
       "      <td>POINT(-112.11112 40.712063)</td>\n",
       "    </tr>\n",
       "    <tr>\n",
       "      <th>3</th>\n",
       "      <td>MA</td>\n",
       "      <td>Salt Lake City</td>\n",
       "      <td>US</td>\n",
       "      <td>o3</td>\n",
       "      <td>0.039</td>\n",
       "      <td>2020-01-06 18:00:00+00:00</td>\n",
       "      <td>ppm</td>\n",
       "      <td>AirNow</td>\n",
       "      <td>40.712063</td>\n",
       "      <td>-112.111120</td>\n",
       "      <td>1.0</td>\n",
       "      <td>POINT(-112.11112 40.712063)</td>\n",
       "    </tr>\n",
       "    <tr>\n",
       "      <th>4</th>\n",
       "      <td>NR</td>\n",
       "      <td>Salt Lake City</td>\n",
       "      <td>US</td>\n",
       "      <td>no2</td>\n",
       "      <td>0.013</td>\n",
       "      <td>2020-06-11 00:00:00+00:00</td>\n",
       "      <td>ppm</td>\n",
       "      <td>AirNow</td>\n",
       "      <td>40.662840</td>\n",
       "      <td>-111.901794</td>\n",
       "      <td>1.0</td>\n",
       "      <td>POINT(-111.901794 40.66284)</td>\n",
       "    </tr>\n",
       "  </tbody>\n",
       "</table>\n",
       "</div>"
      ],
      "text/plain": [
       "  location            city country pollutant  value                 timestamp  \\\n",
       "0       MA  Salt Lake City      US      pm25  1.300 2020-01-06 18:00:00+00:00   \n",
       "1       MA  Salt Lake City      US       so2  0.001 2020-01-06 18:00:00+00:00   \n",
       "2       MA  Salt Lake City      US       no2  0.003 2020-01-06 18:00:00+00:00   \n",
       "3       MA  Salt Lake City      US        o3  0.039 2020-01-06 18:00:00+00:00   \n",
       "4       NR  Salt Lake City      US       no2  0.013 2020-06-11 00:00:00+00:00   \n",
       "\n",
       "    unit source_name   latitude   longitude  averaged_over_in_hours  \\\n",
       "0  µg/m³      AirNow  40.712063 -112.111120                     1.0   \n",
       "1    ppm      AirNow  40.712063 -112.111120                     1.0   \n",
       "2    ppm      AirNow  40.712063 -112.111120                     1.0   \n",
       "3    ppm      AirNow  40.712063 -112.111120                     1.0   \n",
       "4    ppm      AirNow  40.662840 -111.901794                     1.0   \n",
       "\n",
       "                 location_geom  \n",
       "0  POINT(-112.11112 40.712063)  \n",
       "1  POINT(-112.11112 40.712063)  \n",
       "2  POINT(-112.11112 40.712063)  \n",
       "3  POINT(-112.11112 40.712063)  \n",
       "4  POINT(-111.901794 40.66284)  "
      ]
     },
     "execution_count": 12,
     "metadata": {},
     "output_type": "execute_result"
    }
   ],
   "source": [
    "client.list_rows(table, max_results=5).to_dataframe()"
   ]
  },
  {
   "cell_type": "code",
   "execution_count": 13,
   "id": "ad088765",
   "metadata": {
    "execution": {
     "iopub.execute_input": "2022-04-16T09:14:08.835596Z",
     "iopub.status.busy": "2022-04-16T09:14:08.835038Z",
     "iopub.status.idle": "2022-04-16T09:14:19.478384Z",
     "shell.execute_reply": "2022-04-16T09:14:19.477568Z"
    },
    "papermill": {
     "duration": 10.674157,
     "end_time": "2022-04-16T09:14:19.480403",
     "exception": false,
     "start_time": "2022-04-16T09:14:08.806246",
     "status": "completed"
    },
    "tags": []
   },
   "outputs": [
    {
     "name": "stderr",
     "output_type": "stream",
     "text": [
      "/opt/conda/lib/python3.7/site-packages/google/cloud/bigquery/client.py:440: UserWarning: Cannot create BigQuery Storage client, the dependency google-cloud-bigquery-storage is not installed.\n",
      "  \"Cannot create BigQuery Storage client, the dependency \"\n"
     ]
    },
    {
     "data": {
      "text/html": [
       "<div>\n",
       "<style scoped>\n",
       "    .dataframe tbody tr th:only-of-type {\n",
       "        vertical-align: middle;\n",
       "    }\n",
       "\n",
       "    .dataframe tbody tr th {\n",
       "        vertical-align: top;\n",
       "    }\n",
       "\n",
       "    .dataframe thead th {\n",
       "        text-align: right;\n",
       "    }\n",
       "</style>\n",
       "<table border=\"1\" class=\"dataframe\">\n",
       "  <thead>\n",
       "    <tr style=\"text-align: right;\">\n",
       "      <th></th>\n",
       "      <th>location</th>\n",
       "      <th>city</th>\n",
       "      <th>country</th>\n",
       "      <th>pollutant</th>\n",
       "      <th>value</th>\n",
       "      <th>timestamp</th>\n",
       "      <th>unit</th>\n",
       "      <th>source_name</th>\n",
       "      <th>latitude</th>\n",
       "      <th>longitude</th>\n",
       "      <th>averaged_over_in_hours</th>\n",
       "      <th>location_geom</th>\n",
       "    </tr>\n",
       "  </thead>\n",
       "  <tbody>\n",
       "    <tr>\n",
       "      <th>0</th>\n",
       "      <td>MA</td>\n",
       "      <td>Salt Lake City</td>\n",
       "      <td>US</td>\n",
       "      <td>pm25</td>\n",
       "      <td>1.300</td>\n",
       "      <td>2020-01-06 18:00:00+00:00</td>\n",
       "      <td>µg/m³</td>\n",
       "      <td>AirNow</td>\n",
       "      <td>40.712063</td>\n",
       "      <td>-112.111120</td>\n",
       "      <td>1.0</td>\n",
       "      <td>POINT(-112.11112 40.712063)</td>\n",
       "    </tr>\n",
       "    <tr>\n",
       "      <th>1</th>\n",
       "      <td>MA</td>\n",
       "      <td>Salt Lake City</td>\n",
       "      <td>US</td>\n",
       "      <td>so2</td>\n",
       "      <td>0.001</td>\n",
       "      <td>2020-01-06 18:00:00+00:00</td>\n",
       "      <td>ppm</td>\n",
       "      <td>AirNow</td>\n",
       "      <td>40.712063</td>\n",
       "      <td>-112.111120</td>\n",
       "      <td>1.0</td>\n",
       "      <td>POINT(-112.11112 40.712063)</td>\n",
       "    </tr>\n",
       "    <tr>\n",
       "      <th>2</th>\n",
       "      <td>MA</td>\n",
       "      <td>Salt Lake City</td>\n",
       "      <td>US</td>\n",
       "      <td>no2</td>\n",
       "      <td>0.003</td>\n",
       "      <td>2020-01-06 18:00:00+00:00</td>\n",
       "      <td>ppm</td>\n",
       "      <td>AirNow</td>\n",
       "      <td>40.712063</td>\n",
       "      <td>-112.111120</td>\n",
       "      <td>1.0</td>\n",
       "      <td>POINT(-112.11112 40.712063)</td>\n",
       "    </tr>\n",
       "    <tr>\n",
       "      <th>3</th>\n",
       "      <td>MA</td>\n",
       "      <td>Salt Lake City</td>\n",
       "      <td>US</td>\n",
       "      <td>o3</td>\n",
       "      <td>0.039</td>\n",
       "      <td>2020-01-06 18:00:00+00:00</td>\n",
       "      <td>ppm</td>\n",
       "      <td>AirNow</td>\n",
       "      <td>40.712063</td>\n",
       "      <td>-112.111120</td>\n",
       "      <td>1.0</td>\n",
       "      <td>POINT(-112.11112 40.712063)</td>\n",
       "    </tr>\n",
       "    <tr>\n",
       "      <th>4</th>\n",
       "      <td>NR</td>\n",
       "      <td>Salt Lake City</td>\n",
       "      <td>US</td>\n",
       "      <td>no2</td>\n",
       "      <td>0.013</td>\n",
       "      <td>2020-06-11 00:00:00+00:00</td>\n",
       "      <td>ppm</td>\n",
       "      <td>AirNow</td>\n",
       "      <td>40.662840</td>\n",
       "      <td>-111.901794</td>\n",
       "      <td>1.0</td>\n",
       "      <td>POINT(-111.901794 40.66284)</td>\n",
       "    </tr>\n",
       "  </tbody>\n",
       "</table>\n",
       "</div>"
      ],
      "text/plain": [
       "  location            city country pollutant  value                 timestamp  \\\n",
       "0       MA  Salt Lake City      US      pm25  1.300 2020-01-06 18:00:00+00:00   \n",
       "1       MA  Salt Lake City      US       so2  0.001 2020-01-06 18:00:00+00:00   \n",
       "2       MA  Salt Lake City      US       no2  0.003 2020-01-06 18:00:00+00:00   \n",
       "3       MA  Salt Lake City      US        o3  0.039 2020-01-06 18:00:00+00:00   \n",
       "4       NR  Salt Lake City      US       no2  0.013 2020-06-11 00:00:00+00:00   \n",
       "\n",
       "    unit source_name   latitude   longitude  averaged_over_in_hours  \\\n",
       "0  µg/m³      AirNow  40.712063 -112.111120                     1.0   \n",
       "1    ppm      AirNow  40.712063 -112.111120                     1.0   \n",
       "2    ppm      AirNow  40.712063 -112.111120                     1.0   \n",
       "3    ppm      AirNow  40.712063 -112.111120                     1.0   \n",
       "4    ppm      AirNow  40.662840 -111.901794                     1.0   \n",
       "\n",
       "                 location_geom  \n",
       "0  POINT(-112.11112 40.712063)  \n",
       "1  POINT(-112.11112 40.712063)  \n",
       "2  POINT(-112.11112 40.712063)  \n",
       "3  POINT(-112.11112 40.712063)  \n",
       "4  POINT(-111.901794 40.66284)  "
      ]
     },
     "execution_count": 13,
     "metadata": {},
     "output_type": "execute_result"
    }
   ],
   "source": [
    "first_query = \"\"\"\n",
    "        SELECT *\n",
    "        FROM `bigquery-public-data.openaq.global_air_quality`\n",
    "        WHERE country = 'US'\n",
    "        \"\"\"\n",
    "\n",
    "safe_config = bigquery.QueryJobConfig(maximum_bytes=10**10)\n",
    "first_query_job = client.query(first_query, job_config=safe_config)\n",
    "\n",
    "first_results = first_query_job.to_dataframe()\n",
    "\n",
    "first_results.head()"
   ]
  },
  {
   "cell_type": "code",
   "execution_count": 14,
   "id": "f8ca659e",
   "metadata": {
    "execution": {
     "iopub.execute_input": "2022-04-16T09:14:19.538230Z",
     "iopub.status.busy": "2022-04-16T09:14:19.537704Z",
     "iopub.status.idle": "2022-04-16T09:14:23.629657Z",
     "shell.execute_reply": "2022-04-16T09:14:23.628826Z"
    },
    "papermill": {
     "duration": 4.124408,
     "end_time": "2022-04-16T09:14:23.632041",
     "exception": false,
     "start_time": "2022-04-16T09:14:19.507633",
     "status": "completed"
    },
    "tags": []
   },
   "outputs": [
    {
     "name": "stderr",
     "output_type": "stream",
     "text": [
      "/opt/conda/lib/python3.7/site-packages/google/cloud/bigquery/client.py:440: UserWarning: Cannot create BigQuery Storage client, the dependency google-cloud-bigquery-storage is not installed.\n",
      "  \"Cannot create BigQuery Storage client, the dependency \"\n"
     ]
    },
    {
     "data": {
      "text/html": [
       "<div>\n",
       "<style scoped>\n",
       "    .dataframe tbody tr th:only-of-type {\n",
       "        vertical-align: middle;\n",
       "    }\n",
       "\n",
       "    .dataframe tbody tr th {\n",
       "        vertical-align: top;\n",
       "    }\n",
       "\n",
       "    .dataframe thead th {\n",
       "        text-align: right;\n",
       "    }\n",
       "</style>\n",
       "<table border=\"1\" class=\"dataframe\">\n",
       "  <thead>\n",
       "    <tr style=\"text-align: right;\">\n",
       "      <th></th>\n",
       "      <th>location</th>\n",
       "      <th>city</th>\n",
       "      <th>country</th>\n",
       "      <th>pollutant</th>\n",
       "      <th>value</th>\n",
       "      <th>timestamp</th>\n",
       "      <th>unit</th>\n",
       "      <th>source_name</th>\n",
       "      <th>latitude</th>\n",
       "      <th>longitude</th>\n",
       "      <th>averaged_over_in_hours</th>\n",
       "      <th>location_geom</th>\n",
       "    </tr>\n",
       "  </thead>\n",
       "  <tbody>\n",
       "    <tr>\n",
       "      <th>0</th>\n",
       "      <td>NR</td>\n",
       "      <td>Salt Lake City</td>\n",
       "      <td>US</td>\n",
       "      <td>co</td>\n",
       "      <td>0.0</td>\n",
       "      <td>2020-06-11 00:00:00+00:00</td>\n",
       "      <td>ppm</td>\n",
       "      <td>AirNow</td>\n",
       "      <td>40.662840</td>\n",
       "      <td>-111.901794</td>\n",
       "      <td>1.0</td>\n",
       "      <td>POINT(-111.901794 40.66284)</td>\n",
       "    </tr>\n",
       "    <tr>\n",
       "      <th>1</th>\n",
       "      <td>MLK</td>\n",
       "      <td>Philadelphia-Camden-Wilmington</td>\n",
       "      <td>US</td>\n",
       "      <td>so2</td>\n",
       "      <td>0.0</td>\n",
       "      <td>2020-06-10 23:00:00+00:00</td>\n",
       "      <td>ppm</td>\n",
       "      <td>AirNow</td>\n",
       "      <td>39.739400</td>\n",
       "      <td>-75.558100</td>\n",
       "      <td>1.0</td>\n",
       "      <td>POINT(-75.5581 39.7394)</td>\n",
       "    </tr>\n",
       "    <tr>\n",
       "      <th>2</th>\n",
       "      <td>Elko</td>\n",
       "      <td>ELKO</td>\n",
       "      <td>US</td>\n",
       "      <td>pm10</td>\n",
       "      <td>0.0</td>\n",
       "      <td>2020-06-11 00:00:00+00:00</td>\n",
       "      <td>µg/m³</td>\n",
       "      <td>AirNow</td>\n",
       "      <td>40.838330</td>\n",
       "      <td>-115.766010</td>\n",
       "      <td>1.0</td>\n",
       "      <td>POINT(-115.76601 40.83833)</td>\n",
       "    </tr>\n",
       "    <tr>\n",
       "      <th>3</th>\n",
       "      <td>Hope</td>\n",
       "      <td>Columbus</td>\n",
       "      <td>US</td>\n",
       "      <td>so2</td>\n",
       "      <td>0.0</td>\n",
       "      <td>2017-01-03 11:00:00+00:00</td>\n",
       "      <td>ppm</td>\n",
       "      <td>AirNow</td>\n",
       "      <td>39.294323</td>\n",
       "      <td>-85.766846</td>\n",
       "      <td>1.0</td>\n",
       "      <td>POINT(-85.766846 39.294323)</td>\n",
       "    </tr>\n",
       "    <tr>\n",
       "      <th>4</th>\n",
       "      <td>Kona</td>\n",
       "      <td>Hilo</td>\n",
       "      <td>US</td>\n",
       "      <td>pm25</td>\n",
       "      <td>0.0</td>\n",
       "      <td>2020-06-11 00:00:00+00:00</td>\n",
       "      <td>µg/m³</td>\n",
       "      <td>AirNow</td>\n",
       "      <td>19.509700</td>\n",
       "      <td>-155.913300</td>\n",
       "      <td>1.0</td>\n",
       "      <td>POINT(-155.9133 19.5097)</td>\n",
       "    </tr>\n",
       "  </tbody>\n",
       "</table>\n",
       "</div>"
      ],
      "text/plain": [
       "  location                            city country pollutant  value  \\\n",
       "0       NR                  Salt Lake City      US        co    0.0   \n",
       "1      MLK  Philadelphia-Camden-Wilmington      US       so2    0.0   \n",
       "2     Elko                            ELKO      US      pm10    0.0   \n",
       "3     Hope                        Columbus      US       so2    0.0   \n",
       "4     Kona                            Hilo      US      pm25    0.0   \n",
       "\n",
       "                  timestamp   unit source_name   latitude   longitude  \\\n",
       "0 2020-06-11 00:00:00+00:00    ppm      AirNow  40.662840 -111.901794   \n",
       "1 2020-06-10 23:00:00+00:00    ppm      AirNow  39.739400  -75.558100   \n",
       "2 2020-06-11 00:00:00+00:00  µg/m³      AirNow  40.838330 -115.766010   \n",
       "3 2017-01-03 11:00:00+00:00    ppm      AirNow  39.294323  -85.766846   \n",
       "4 2020-06-11 00:00:00+00:00  µg/m³      AirNow  19.509700 -155.913300   \n",
       "\n",
       "   averaged_over_in_hours                location_geom  \n",
       "0                     1.0  POINT(-111.901794 40.66284)  \n",
       "1                     1.0      POINT(-75.5581 39.7394)  \n",
       "2                     1.0   POINT(-115.76601 40.83833)  \n",
       "3                     1.0  POINT(-85.766846 39.294323)  \n",
       "4                     1.0     POINT(-155.9133 19.5097)  "
      ]
     },
     "execution_count": 14,
     "metadata": {},
     "output_type": "execute_result"
    }
   ],
   "source": [
    "zero_pollution_query = \"\"\"\n",
    "                       SELECT *\n",
    "                       FROM `bigquery-public-data.openaq.global_air_quality`\n",
    "                       WHERE value = 0\n",
    "                       \"\"\"\n",
    "\n",
    "safe_config = bigquery.QueryJobConfig(maximum_bytes_billed=10**10)\n",
    "second_query_job = client.query(zero_pollution_query, job_config=safe_config)\n",
    "\n",
    "second_results = second_query_job.to_dataframe()\n",
    "\n",
    "second_results.head()"
   ]
  },
  {
   "cell_type": "code",
   "execution_count": null,
   "id": "bbbfad34",
   "metadata": {
    "papermill": {
     "duration": 0.027618,
     "end_time": "2022-04-16T09:14:23.688014",
     "exception": false,
     "start_time": "2022-04-16T09:14:23.660396",
     "status": "completed"
    },
    "tags": []
   },
   "outputs": [],
   "source": []
  }
 ],
 "metadata": {
  "kernelspec": {
   "display_name": "Python 3",
   "language": "python",
   "name": "python3"
  },
  "language_info": {
   "codemirror_mode": {
    "name": "ipython",
    "version": 3
   },
   "file_extension": ".py",
   "mimetype": "text/x-python",
   "name": "python",
   "nbconvert_exporter": "python",
   "pygments_lexer": "ipython3",
   "version": "3.7.12"
  },
  "papermill": {
   "default_parameters": {},
   "duration": 35.764425,
   "end_time": "2022-04-16T09:14:24.338307",
   "environment_variables": {},
   "exception": null,
   "input_path": "__notebook__.ipynb",
   "output_path": "__notebook__.ipynb",
   "parameters": {},
   "start_time": "2022-04-16T09:13:48.573882",
   "version": "2.3.4"
  }
 },
 "nbformat": 4,
 "nbformat_minor": 5
}
