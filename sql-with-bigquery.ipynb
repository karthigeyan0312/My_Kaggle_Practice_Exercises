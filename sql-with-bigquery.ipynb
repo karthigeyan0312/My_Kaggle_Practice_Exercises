{
 "cells": [
  {
   "cell_type": "code",
   "execution_count": 1,
   "id": "2e09bf43",
   "metadata": {
    "_cell_guid": "b1076dfc-b9ad-4769-8c92-a6c4dae69d19",
    "_uuid": "8f2839f25d086af736a60e9eeb907d3b93b6e0e5",
    "execution": {
     "iopub.execute_input": "2022-04-16T04:18:53.219140Z",
     "iopub.status.busy": "2022-04-16T04:18:53.218545Z",
     "iopub.status.idle": "2022-04-16T04:18:53.231205Z",
     "shell.execute_reply": "2022-04-16T04:18:53.230372Z"
    },
    "papermill": {
     "duration": 0.026881,
     "end_time": "2022-04-16T04:18:53.233584",
     "exception": false,
     "start_time": "2022-04-16T04:18:53.206703",
     "status": "completed"
    },
    "tags": []
   },
   "outputs": [],
   "source": [
    "# This Python 3 environment comes with many helpful analytics libraries installed\n",
    "# It is defined by the kaggle/python Docker image: https://github.com/kaggle/docker-python\n",
    "# For example, here's several helpful packages to load\n",
    "\n",
    "import numpy as np # linear algebra\n",
    "import pandas as pd # data processing, CSV file I/O (e.g. pd.read_csv)\n",
    "\n",
    "# Input data files are available in the read-only \"../input/\" directory\n",
    "# For example, running this (by clicking run or pressing Shift+Enter) will list all files under the input directory\n",
    "\n",
    "import os\n",
    "for dirname, _, filenames in os.walk('/kaggle/input'):\n",
    "    for filename in filenames:\n",
    "        print(os.path.join(dirname, filename))\n",
    "\n",
    "# You can write up to 20GB to the current directory (/kaggle/working/) that gets preserved as output when you create a version using \"Save & Run All\" \n",
    "# You can also write temporary files to /kaggle/temp/, but they won't be saved outside of the current session"
   ]
  },
  {
   "cell_type": "markdown",
   "id": "d151a2b1",
   "metadata": {
    "papermill": {
     "duration": 0.00811,
     "end_time": "2022-04-16T04:18:53.250630",
     "exception": false,
     "start_time": "2022-04-16T04:18:53.242520",
     "status": "completed"
    },
    "tags": []
   },
   "source": [
    "## Fetch a Dataset with Bigquery"
   ]
  },
  {
   "cell_type": "code",
   "execution_count": 2,
   "id": "91de81cf",
   "metadata": {
    "execution": {
     "iopub.execute_input": "2022-04-16T04:18:53.269370Z",
     "iopub.status.busy": "2022-04-16T04:18:53.268937Z",
     "iopub.status.idle": "2022-04-16T04:18:54.940146Z",
     "shell.execute_reply": "2022-04-16T04:18:54.939075Z"
    },
    "papermill": {
     "duration": 1.683168,
     "end_time": "2022-04-16T04:18:54.942383",
     "exception": false,
     "start_time": "2022-04-16T04:18:53.259215",
     "status": "completed"
    },
    "tags": []
   },
   "outputs": [
    {
     "name": "stdout",
     "output_type": "stream",
     "text": [
      "Using Kaggle's public dataset BigQuery integration.\n",
      "comments\n",
      "full\n",
      "full_201510\n",
      "stories\n"
     ]
    }
   ],
   "source": [
    "from google.cloud import bigquery\n",
    "\n",
    "# Create a Client Object\n",
    "client = bigquery.Client()\n",
    "\n",
    "# Construct a reference to the \"hacker_news\" dataset\n",
    "dataset_ref = client.dataset(\"hacker_news\", project=\"bigquery-public-data\")\n",
    "\n",
    "# API request to fetch the dataset\n",
    "dataset = client.get_dataset(dataset_ref)\n",
    "\n",
    "# Construct a reference to the \"hacker_news\" dataset\n",
    "dataset_ref = client.dataset(\"hacker_news\", project=\"bigquery-public-data\")\n",
    "\n",
    "# API request to fetch the dataset\n",
    "dataset = client.get_dataset(dataset_ref)\n",
    "\n",
    "# List all the tables in the \"hacker_news\" dataset\n",
    "tables = list(client.list_tables(dataset))\n",
    "\n",
    "# Print names of all the tables in the dataset\n",
    "for table in tables:\n",
    "    print(table.table_id)"
   ]
  },
  {
   "cell_type": "markdown",
   "id": "58fbc1bd",
   "metadata": {
    "papermill": {
     "duration": 0.008822,
     "end_time": "2022-04-16T04:18:54.961049",
     "exception": false,
     "start_time": "2022-04-16T04:18:54.952227",
     "status": "completed"
    },
    "tags": []
   },
   "source": [
    "## Fetch a Table"
   ]
  },
  {
   "cell_type": "code",
   "execution_count": 3,
   "id": "669e9435",
   "metadata": {
    "execution": {
     "iopub.execute_input": "2022-04-16T04:18:54.980605Z",
     "iopub.status.busy": "2022-04-16T04:18:54.980288Z",
     "iopub.status.idle": "2022-04-16T04:18:55.877309Z",
     "shell.execute_reply": "2022-04-16T04:18:55.876388Z"
    },
    "papermill": {
     "duration": 0.90965,
     "end_time": "2022-04-16T04:18:55.879796",
     "exception": false,
     "start_time": "2022-04-16T04:18:54.970146",
     "status": "completed"
    },
    "tags": []
   },
   "outputs": [
    {
     "data": {
      "text/plain": [
       "[SchemaField('title', 'STRING', 'NULLABLE', 'Story title', (), None),\n",
       " SchemaField('url', 'STRING', 'NULLABLE', 'Story url', (), None),\n",
       " SchemaField('text', 'STRING', 'NULLABLE', 'Story or comment text', (), None),\n",
       " SchemaField('dead', 'BOOLEAN', 'NULLABLE', 'Is dead?', (), None),\n",
       " SchemaField('by', 'STRING', 'NULLABLE', \"The username of the item's author.\", (), None),\n",
       " SchemaField('score', 'INTEGER', 'NULLABLE', 'Story score', (), None),\n",
       " SchemaField('time', 'INTEGER', 'NULLABLE', 'Unix time', (), None),\n",
       " SchemaField('timestamp', 'TIMESTAMP', 'NULLABLE', 'Timestamp for the unix time', (), None),\n",
       " SchemaField('type', 'STRING', 'NULLABLE', 'Type of details (comment, comment_ranking, poll, story, job, pollopt)', (), None),\n",
       " SchemaField('id', 'INTEGER', 'NULLABLE', \"The item's unique id.\", (), None),\n",
       " SchemaField('parent', 'INTEGER', 'NULLABLE', 'Parent comment ID', (), None),\n",
       " SchemaField('descendants', 'INTEGER', 'NULLABLE', 'Number of story or poll descendants', (), None),\n",
       " SchemaField('ranking', 'INTEGER', 'NULLABLE', 'Comment ranking', (), None),\n",
       " SchemaField('deleted', 'BOOLEAN', 'NULLABLE', 'Is deleted?', (), None)]"
      ]
     },
     "execution_count": 3,
     "metadata": {},
     "output_type": "execute_result"
    }
   ],
   "source": [
    "# Construct a reference to the full table.\n",
    "table_ref = dataset_ref.table(\"full\")\n",
    "\n",
    "# API request - fetch the table\n",
    "table = client.get_table(table_ref)\n",
    "\n",
    "table.schema"
   ]
  },
  {
   "cell_type": "code",
   "execution_count": 4,
   "id": "ca78697f",
   "metadata": {
    "execution": {
     "iopub.execute_input": "2022-04-16T04:18:55.901249Z",
     "iopub.status.busy": "2022-04-16T04:18:55.900800Z",
     "iopub.status.idle": "2022-04-16T04:18:56.916285Z",
     "shell.execute_reply": "2022-04-16T04:18:56.915614Z"
    },
    "papermill": {
     "duration": 1.028804,
     "end_time": "2022-04-16T04:18:56.918317",
     "exception": false,
     "start_time": "2022-04-16T04:18:55.889513",
     "status": "completed"
    },
    "tags": []
   },
   "outputs": [
    {
     "name": "stderr",
     "output_type": "stream",
     "text": [
      "/opt/conda/lib/python3.7/site-packages/ipykernel_launcher.py:1: UserWarning: Cannot use bqstorage_client if max_results is set, reverting to fetching data with the tabledata.list endpoint.\n",
      "  \"\"\"Entry point for launching an IPython kernel.\n"
     ]
    },
    {
     "data": {
      "text/html": [
       "<div>\n",
       "<style scoped>\n",
       "    .dataframe tbody tr th:only-of-type {\n",
       "        vertical-align: middle;\n",
       "    }\n",
       "\n",
       "    .dataframe tbody tr th {\n",
       "        vertical-align: top;\n",
       "    }\n",
       "\n",
       "    .dataframe thead th {\n",
       "        text-align: right;\n",
       "    }\n",
       "</style>\n",
       "<table border=\"1\" class=\"dataframe\">\n",
       "  <thead>\n",
       "    <tr style=\"text-align: right;\">\n",
       "      <th></th>\n",
       "      <th>title</th>\n",
       "      <th>url</th>\n",
       "      <th>text</th>\n",
       "      <th>dead</th>\n",
       "      <th>by</th>\n",
       "      <th>score</th>\n",
       "      <th>time</th>\n",
       "      <th>timestamp</th>\n",
       "      <th>type</th>\n",
       "      <th>id</th>\n",
       "      <th>parent</th>\n",
       "      <th>descendants</th>\n",
       "      <th>ranking</th>\n",
       "      <th>deleted</th>\n",
       "    </tr>\n",
       "  </thead>\n",
       "  <tbody>\n",
       "    <tr>\n",
       "      <th>0</th>\n",
       "      <td>None</td>\n",
       "      <td>None</td>\n",
       "      <td>The rates generally are published, via CMS. Th...</td>\n",
       "      <td>None</td>\n",
       "      <td>killjoywashere</td>\n",
       "      <td>NaN</td>\n",
       "      <td>1516081339</td>\n",
       "      <td>2018-01-16 05:42:19+00:00</td>\n",
       "      <td>comment</td>\n",
       "      <td>16156093</td>\n",
       "      <td>16154299</td>\n",
       "      <td>NaN</td>\n",
       "      <td>NaN</td>\n",
       "      <td>None</td>\n",
       "    </tr>\n",
       "    <tr>\n",
       "      <th>1</th>\n",
       "      <td>None</td>\n",
       "      <td>None</td>\n",
       "      <td>Totally is. I live on the East Coast in an ill...</td>\n",
       "      <td>None</td>\n",
       "      <td>nv-vn</td>\n",
       "      <td>NaN</td>\n",
       "      <td>1516081329</td>\n",
       "      <td>2018-01-16 05:42:09+00:00</td>\n",
       "      <td>comment</td>\n",
       "      <td>16156092</td>\n",
       "      <td>16152990</td>\n",
       "      <td>NaN</td>\n",
       "      <td>NaN</td>\n",
       "      <td>None</td>\n",
       "    </tr>\n",
       "    <tr>\n",
       "      <th>2</th>\n",
       "      <td>None</td>\n",
       "      <td>None</td>\n",
       "      <td>The thing is, it seems pretty clear-cut to me ...</td>\n",
       "      <td>None</td>\n",
       "      <td>rgossiaux</td>\n",
       "      <td>NaN</td>\n",
       "      <td>1516081277</td>\n",
       "      <td>2018-01-16 05:41:17+00:00</td>\n",
       "      <td>comment</td>\n",
       "      <td>16156091</td>\n",
       "      <td>16155165</td>\n",
       "      <td>NaN</td>\n",
       "      <td>NaN</td>\n",
       "      <td>None</td>\n",
       "    </tr>\n",
       "    <tr>\n",
       "      <th>3</th>\n",
       "      <td>None</td>\n",
       "      <td>None</td>\n",
       "      <td>from my limited experience with health care in...</td>\n",
       "      <td>None</td>\n",
       "      <td>rosege</td>\n",
       "      <td>NaN</td>\n",
       "      <td>1516081260</td>\n",
       "      <td>2018-01-16 05:41:00+00:00</td>\n",
       "      <td>comment</td>\n",
       "      <td>16156090</td>\n",
       "      <td>16153671</td>\n",
       "      <td>NaN</td>\n",
       "      <td>NaN</td>\n",
       "      <td>None</td>\n",
       "    </tr>\n",
       "    <tr>\n",
       "      <th>4</th>\n",
       "      <td>None</td>\n",
       "      <td>None</td>\n",
       "      <td>If you were Nigerian you&amp;#x27;d probably feel ...</td>\n",
       "      <td>None</td>\n",
       "      <td>ikeyany</td>\n",
       "      <td>NaN</td>\n",
       "      <td>1516081344</td>\n",
       "      <td>2018-01-16 05:42:24+00:00</td>\n",
       "      <td>comment</td>\n",
       "      <td>16156096</td>\n",
       "      <td>16154506</td>\n",
       "      <td>NaN</td>\n",
       "      <td>NaN</td>\n",
       "      <td>None</td>\n",
       "    </tr>\n",
       "  </tbody>\n",
       "</table>\n",
       "</div>"
      ],
      "text/plain": [
       "  title   url                                               text  dead  \\\n",
       "0  None  None  The rates generally are published, via CMS. Th...  None   \n",
       "1  None  None  Totally is. I live on the East Coast in an ill...  None   \n",
       "2  None  None  The thing is, it seems pretty clear-cut to me ...  None   \n",
       "3  None  None  from my limited experience with health care in...  None   \n",
       "4  None  None  If you were Nigerian you&#x27;d probably feel ...  None   \n",
       "\n",
       "               by  score        time                 timestamp     type  \\\n",
       "0  killjoywashere    NaN  1516081339 2018-01-16 05:42:19+00:00  comment   \n",
       "1           nv-vn    NaN  1516081329 2018-01-16 05:42:09+00:00  comment   \n",
       "2       rgossiaux    NaN  1516081277 2018-01-16 05:41:17+00:00  comment   \n",
       "3          rosege    NaN  1516081260 2018-01-16 05:41:00+00:00  comment   \n",
       "4         ikeyany    NaN  1516081344 2018-01-16 05:42:24+00:00  comment   \n",
       "\n",
       "         id    parent  descendants  ranking deleted  \n",
       "0  16156093  16154299          NaN      NaN    None  \n",
       "1  16156092  16152990          NaN      NaN    None  \n",
       "2  16156091  16155165          NaN      NaN    None  \n",
       "3  16156090  16153671          NaN      NaN    None  \n",
       "4  16156096  16154506          NaN      NaN    None  "
      ]
     },
     "execution_count": 4,
     "metadata": {},
     "output_type": "execute_result"
    }
   ],
   "source": [
    "client.list_rows(table, max_results=5).to_dataframe()"
   ]
  },
  {
   "cell_type": "code",
   "execution_count": 5,
   "id": "6e110f7b",
   "metadata": {
    "execution": {
     "iopub.execute_input": "2022-04-16T04:18:56.941733Z",
     "iopub.status.busy": "2022-04-16T04:18:56.941463Z",
     "iopub.status.idle": "2022-04-16T04:18:57.481517Z",
     "shell.execute_reply": "2022-04-16T04:18:57.480602Z"
    },
    "papermill": {
     "duration": 0.554144,
     "end_time": "2022-04-16T04:18:57.483735",
     "exception": false,
     "start_time": "2022-04-16T04:18:56.929591",
     "status": "completed"
    },
    "tags": []
   },
   "outputs": [
    {
     "name": "stderr",
     "output_type": "stream",
     "text": [
      "/opt/conda/lib/python3.7/site-packages/ipykernel_launcher.py:1: UserWarning: Cannot use bqstorage_client if max_results is set, reverting to fetching data with the tabledata.list endpoint.\n",
      "  \"\"\"Entry point for launching an IPython kernel.\n"
     ]
    },
    {
     "data": {
      "text/html": [
       "<div>\n",
       "<style scoped>\n",
       "    .dataframe tbody tr th:only-of-type {\n",
       "        vertical-align: middle;\n",
       "    }\n",
       "\n",
       "    .dataframe tbody tr th {\n",
       "        vertical-align: top;\n",
       "    }\n",
       "\n",
       "    .dataframe thead th {\n",
       "        text-align: right;\n",
       "    }\n",
       "</style>\n",
       "<table border=\"1\" class=\"dataframe\">\n",
       "  <thead>\n",
       "    <tr style=\"text-align: right;\">\n",
       "      <th></th>\n",
       "      <th>text</th>\n",
       "    </tr>\n",
       "  </thead>\n",
       "  <tbody>\n",
       "    <tr>\n",
       "      <th>0</th>\n",
       "      <td>The rates generally are published, via CMS. Th...</td>\n",
       "    </tr>\n",
       "    <tr>\n",
       "      <th>1</th>\n",
       "      <td>Totally is. I live on the East Coast in an ill...</td>\n",
       "    </tr>\n",
       "    <tr>\n",
       "      <th>2</th>\n",
       "      <td>The thing is, it seems pretty clear-cut to me ...</td>\n",
       "    </tr>\n",
       "    <tr>\n",
       "      <th>3</th>\n",
       "      <td>from my limited experience with health care in...</td>\n",
       "    </tr>\n",
       "    <tr>\n",
       "      <th>4</th>\n",
       "      <td>If you were Nigerian you&amp;#x27;d probably feel ...</td>\n",
       "    </tr>\n",
       "  </tbody>\n",
       "</table>\n",
       "</div>"
      ],
      "text/plain": [
       "                                                text\n",
       "0  The rates generally are published, via CMS. Th...\n",
       "1  Totally is. I live on the East Coast in an ill...\n",
       "2  The thing is, it seems pretty clear-cut to me ...\n",
       "3  from my limited experience with health care in...\n",
       "4  If you were Nigerian you&#x27;d probably feel ..."
      ]
     },
     "execution_count": 5,
     "metadata": {},
     "output_type": "execute_result"
    }
   ],
   "source": [
    "client.list_rows(table, selected_fields=table.schema[2:3], max_results=5).to_dataframe()"
   ]
  },
  {
   "cell_type": "code",
   "execution_count": null,
   "id": "cea4bca5",
   "metadata": {
    "papermill": {
     "duration": 0.011217,
     "end_time": "2022-04-16T04:18:57.506929",
     "exception": false,
     "start_time": "2022-04-16T04:18:57.495712",
     "status": "completed"
    },
    "tags": []
   },
   "outputs": [],
   "source": []
  }
 ],
 "metadata": {
  "kernelspec": {
   "display_name": "Python 3",
   "language": "python",
   "name": "python3"
  },
  "language_info": {
   "codemirror_mode": {
    "name": "ipython",
    "version": 3
   },
   "file_extension": ".py",
   "mimetype": "text/x-python",
   "name": "python",
   "nbconvert_exporter": "python",
   "pygments_lexer": "ipython3",
   "version": "3.7.12"
  },
  "papermill": {
   "default_parameters": {},
   "duration": 14.86574,
   "end_time": "2022-04-16T04:18:58.143507",
   "environment_variables": {},
   "exception": null,
   "input_path": "__notebook__.ipynb",
   "output_path": "__notebook__.ipynb",
   "parameters": {},
   "start_time": "2022-04-16T04:18:43.277767",
   "version": "2.3.4"
  }
 },
 "nbformat": 4,
 "nbformat_minor": 5
}
