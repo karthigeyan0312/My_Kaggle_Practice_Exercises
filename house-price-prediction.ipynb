{
 "cells": [
  {
   "cell_type": "code",
   "execution_count": 1,
   "id": "3bfb0875",
   "metadata": {
    "_cell_guid": "b1076dfc-b9ad-4769-8c92-a6c4dae69d19",
    "_uuid": "8f2839f25d086af736a60e9eeb907d3b93b6e0e5",
    "execution": {
     "iopub.execute_input": "2022-03-27T05:26:55.190059Z",
     "iopub.status.busy": "2022-03-27T05:26:55.188106Z",
     "iopub.status.idle": "2022-03-27T05:26:55.204974Z",
     "shell.execute_reply": "2022-03-27T05:26:55.205572Z",
     "shell.execute_reply.started": "2022-03-27T04:56:23.053781Z"
    },
    "papermill": {
     "duration": 0.080176,
     "end_time": "2022-03-27T05:26:55.205992",
     "exception": false,
     "start_time": "2022-03-27T05:26:55.125816",
     "status": "completed"
    },
    "tags": []
   },
   "outputs": [
    {
     "name": "stdout",
     "output_type": "stream",
     "text": [
      "/kaggle/input/house-prices-advanced-regression-techniques/sample_submission.csv\n",
      "/kaggle/input/house-prices-advanced-regression-techniques/data_description.txt\n",
      "/kaggle/input/house-prices-advanced-regression-techniques/train.csv\n",
      "/kaggle/input/house-prices-advanced-regression-techniques/test.csv\n"
     ]
    }
   ],
   "source": [
    "# This Python 3 environment comes with many helpful analytics libraries installed\n",
    "# It is defined by the kaggle/python Docker image: https://github.com/kaggle/docker-python\n",
    "# For example, here's several helpful packages to load\n",
    "\n",
    "import numpy as np # linear algebra\n",
    "import pandas as pd # data processing, CSV file I/O (e.g. pd.read_csv)\n",
    "\n",
    "# Input data files are available in the read-only \"../input/\" directory\n",
    "# For example, running this (by clicking run or pressing Shift+Enter) will list all files under the input directory\n",
    "\n",
    "import os\n",
    "for dirname, _, filenames in os.walk('/kaggle/input'):\n",
    "    for filename in filenames:\n",
    "        print(os.path.join(dirname, filename))\n",
    "\n",
    "# You can write up to 20GB to the current directory (/kaggle/working/) that gets preserved as output when you create a version using \"Save & Run All\" \n",
    "# You can also write temporary files to /kaggle/temp/, but they won't be saved outside of the current session"
   ]
  },
  {
   "cell_type": "markdown",
   "id": "de658c09",
   "metadata": {
    "papermill": {
     "duration": 0.058475,
     "end_time": "2022-03-27T05:26:55.321153",
     "exception": false,
     "start_time": "2022-03-27T05:26:55.262678",
     "status": "completed"
    },
    "tags": []
   },
   "source": [
    "## Import the Dataset"
   ]
  },
  {
   "cell_type": "code",
   "execution_count": 2,
   "id": "f03d81eb",
   "metadata": {
    "execution": {
     "iopub.execute_input": "2022-03-27T05:26:55.436585Z",
     "iopub.status.busy": "2022-03-27T05:26:55.435412Z",
     "iopub.status.idle": "2022-03-27T05:26:55.489996Z",
     "shell.execute_reply": "2022-03-27T05:26:55.490594Z",
     "shell.execute_reply.started": "2022-03-27T04:56:23.081695Z"
    },
    "papermill": {
     "duration": 0.114374,
     "end_time": "2022-03-27T05:26:55.490812",
     "exception": false,
     "start_time": "2022-03-27T05:26:55.376438",
     "status": "completed"
    },
    "tags": []
   },
   "outputs": [
    {
     "name": "stdout",
     "output_type": "stream",
     "text": [
      "Shape of the train dataset (Rows, Columns):  (1460, 80)\n"
     ]
    }
   ],
   "source": [
    "import pandas as pd\n",
    "import numpy as np\n",
    "import io\n",
    "\n",
    "train_df = pd.read_csv('/kaggle/input/house-prices-advanced-regression-techniques/train.csv', index_col=0)\n",
    "print(\"Shape of the train dataset (Rows, Columns): \", train_df.shape)"
   ]
  },
  {
   "cell_type": "code",
   "execution_count": 3,
   "id": "9789ab80",
   "metadata": {
    "execution": {
     "iopub.execute_input": "2022-03-27T05:26:55.609648Z",
     "iopub.status.busy": "2022-03-27T05:26:55.608511Z",
     "iopub.status.idle": "2022-03-27T05:26:55.642006Z",
     "shell.execute_reply": "2022-03-27T05:26:55.642572Z",
     "shell.execute_reply.started": "2022-03-27T04:56:23.118137Z"
    },
    "papermill": {
     "duration": 0.09449,
     "end_time": "2022-03-27T05:26:55.642803",
     "exception": false,
     "start_time": "2022-03-27T05:26:55.548313",
     "status": "completed"
    },
    "tags": []
   },
   "outputs": [
    {
     "name": "stdout",
     "output_type": "stream",
     "text": [
      "<class 'pandas.core.frame.DataFrame'>\n",
      "Int64Index: 1460 entries, 1 to 1460\n",
      "Data columns (total 80 columns):\n",
      " #   Column         Non-Null Count  Dtype  \n",
      "---  ------         --------------  -----  \n",
      " 0   MSSubClass     1460 non-null   int64  \n",
      " 1   MSZoning       1460 non-null   object \n",
      " 2   LotFrontage    1201 non-null   float64\n",
      " 3   LotArea        1460 non-null   int64  \n",
      " 4   Street         1460 non-null   object \n",
      " 5   Alley          91 non-null     object \n",
      " 6   LotShape       1460 non-null   object \n",
      " 7   LandContour    1460 non-null   object \n",
      " 8   Utilities      1460 non-null   object \n",
      " 9   LotConfig      1460 non-null   object \n",
      " 10  LandSlope      1460 non-null   object \n",
      " 11  Neighborhood   1460 non-null   object \n",
      " 12  Condition1     1460 non-null   object \n",
      " 13  Condition2     1460 non-null   object \n",
      " 14  BldgType       1460 non-null   object \n",
      " 15  HouseStyle     1460 non-null   object \n",
      " 16  OverallQual    1460 non-null   int64  \n",
      " 17  OverallCond    1460 non-null   int64  \n",
      " 18  YearBuilt      1460 non-null   int64  \n",
      " 19  YearRemodAdd   1460 non-null   int64  \n",
      " 20  RoofStyle      1460 non-null   object \n",
      " 21  RoofMatl       1460 non-null   object \n",
      " 22  Exterior1st    1460 non-null   object \n",
      " 23  Exterior2nd    1460 non-null   object \n",
      " 24  MasVnrType     1452 non-null   object \n",
      " 25  MasVnrArea     1452 non-null   float64\n",
      " 26  ExterQual      1460 non-null   object \n",
      " 27  ExterCond      1460 non-null   object \n",
      " 28  Foundation     1460 non-null   object \n",
      " 29  BsmtQual       1423 non-null   object \n",
      " 30  BsmtCond       1423 non-null   object \n",
      " 31  BsmtExposure   1422 non-null   object \n",
      " 32  BsmtFinType1   1423 non-null   object \n",
      " 33  BsmtFinSF1     1460 non-null   int64  \n",
      " 34  BsmtFinType2   1422 non-null   object \n",
      " 35  BsmtFinSF2     1460 non-null   int64  \n",
      " 36  BsmtUnfSF      1460 non-null   int64  \n",
      " 37  TotalBsmtSF    1460 non-null   int64  \n",
      " 38  Heating        1460 non-null   object \n",
      " 39  HeatingQC      1460 non-null   object \n",
      " 40  CentralAir     1460 non-null   object \n",
      " 41  Electrical     1459 non-null   object \n",
      " 42  1stFlrSF       1460 non-null   int64  \n",
      " 43  2ndFlrSF       1460 non-null   int64  \n",
      " 44  LowQualFinSF   1460 non-null   int64  \n",
      " 45  GrLivArea      1460 non-null   int64  \n",
      " 46  BsmtFullBath   1460 non-null   int64  \n",
      " 47  BsmtHalfBath   1460 non-null   int64  \n",
      " 48  FullBath       1460 non-null   int64  \n",
      " 49  HalfBath       1460 non-null   int64  \n",
      " 50  BedroomAbvGr   1460 non-null   int64  \n",
      " 51  KitchenAbvGr   1460 non-null   int64  \n",
      " 52  KitchenQual    1460 non-null   object \n",
      " 53  TotRmsAbvGrd   1460 non-null   int64  \n",
      " 54  Functional     1460 non-null   object \n",
      " 55  Fireplaces     1460 non-null   int64  \n",
      " 56  FireplaceQu    770 non-null    object \n",
      " 57  GarageType     1379 non-null   object \n",
      " 58  GarageYrBlt    1379 non-null   float64\n",
      " 59  GarageFinish   1379 non-null   object \n",
      " 60  GarageCars     1460 non-null   int64  \n",
      " 61  GarageArea     1460 non-null   int64  \n",
      " 62  GarageQual     1379 non-null   object \n",
      " 63  GarageCond     1379 non-null   object \n",
      " 64  PavedDrive     1460 non-null   object \n",
      " 65  WoodDeckSF     1460 non-null   int64  \n",
      " 66  OpenPorchSF    1460 non-null   int64  \n",
      " 67  EnclosedPorch  1460 non-null   int64  \n",
      " 68  3SsnPorch      1460 non-null   int64  \n",
      " 69  ScreenPorch    1460 non-null   int64  \n",
      " 70  PoolArea       1460 non-null   int64  \n",
      " 71  PoolQC         7 non-null      object \n",
      " 72  Fence          281 non-null    object \n",
      " 73  MiscFeature    54 non-null     object \n",
      " 74  MiscVal        1460 non-null   int64  \n",
      " 75  MoSold         1460 non-null   int64  \n",
      " 76  YrSold         1460 non-null   int64  \n",
      " 77  SaleType       1460 non-null   object \n",
      " 78  SaleCondition  1460 non-null   object \n",
      " 79  SalePrice      1460 non-null   int64  \n",
      "dtypes: float64(3), int64(34), object(43)\n",
      "memory usage: 923.9+ KB\n"
     ]
    }
   ],
   "source": [
    "train_df.info()"
   ]
  },
  {
   "cell_type": "markdown",
   "id": "fac4fcd9",
   "metadata": {
    "papermill": {
     "duration": 0.055788,
     "end_time": "2022-03-27T05:26:55.754911",
     "exception": false,
     "start_time": "2022-03-27T05:26:55.699123",
     "status": "completed"
    },
    "tags": []
   },
   "source": [
    "## Exploratory Data Analysis"
   ]
  },
  {
   "cell_type": "markdown",
   "id": "b6876e64",
   "metadata": {
    "papermill": {
     "duration": 0.058515,
     "end_time": "2022-03-27T05:26:55.869320",
     "exception": false,
     "start_time": "2022-03-27T05:26:55.810805",
     "status": "completed"
    },
    "tags": []
   },
   "source": [
    "### Check for missing values"
   ]
  },
  {
   "cell_type": "code",
   "execution_count": 4,
   "id": "8467fb80",
   "metadata": {
    "execution": {
     "iopub.execute_input": "2022-03-27T05:26:55.985466Z",
     "iopub.status.busy": "2022-03-27T05:26:55.984651Z",
     "iopub.status.idle": "2022-03-27T05:26:56.004144Z",
     "shell.execute_reply": "2022-03-27T05:26:56.004678Z",
     "shell.execute_reply.started": "2022-03-27T04:56:23.149550Z"
    },
    "papermill": {
     "duration": 0.079717,
     "end_time": "2022-03-27T05:26:56.004896",
     "exception": false,
     "start_time": "2022-03-27T05:26:55.925179",
     "status": "completed"
    },
    "tags": []
   },
   "outputs": [
    {
     "data": {
      "text/plain": [
       "False    61\n",
       "True     19\n",
       "dtype: int64"
      ]
     },
     "execution_count": 4,
     "metadata": {},
     "output_type": "execute_result"
    }
   ],
   "source": [
    "train_df.isna().any().value_counts()"
   ]
  },
  {
   "cell_type": "markdown",
   "id": "4dfbca70",
   "metadata": {
    "papermill": {
     "duration": 0.055483,
     "end_time": "2022-03-27T05:26:56.117544",
     "exception": false,
     "start_time": "2022-03-27T05:26:56.062061",
     "status": "completed"
    },
    "tags": []
   },
   "source": [
    "- Out of 80 columns, missing values are present in 19."
   ]
  },
  {
   "cell_type": "code",
   "execution_count": 5,
   "id": "5977aa50",
   "metadata": {
    "execution": {
     "iopub.execute_input": "2022-03-27T05:26:56.234274Z",
     "iopub.status.busy": "2022-03-27T05:26:56.233497Z",
     "iopub.status.idle": "2022-03-27T05:26:56.250986Z",
     "shell.execute_reply": "2022-03-27T05:26:56.251460Z",
     "shell.execute_reply.started": "2022-03-27T04:56:23.174674Z"
    },
    "papermill": {
     "duration": 0.077346,
     "end_time": "2022-03-27T05:26:56.251658",
     "exception": false,
     "start_time": "2022-03-27T05:26:56.174312",
     "status": "completed"
    },
    "tags": []
   },
   "outputs": [
    {
     "data": {
      "text/plain": [
       "PoolQC          1453\n",
       "MiscFeature     1406\n",
       "Alley           1369\n",
       "Fence           1179\n",
       "FireplaceQu      690\n",
       "LotFrontage      259\n",
       "GarageYrBlt       81\n",
       "GarageCond        81\n",
       "GarageType        81\n",
       "GarageFinish      81\n",
       "GarageQual        81\n",
       "BsmtExposure      38\n",
       "BsmtFinType2      38\n",
       "BsmtCond          37\n",
       "BsmtQual          37\n",
       "BsmtFinType1      37\n",
       "MasVnrArea         8\n",
       "MasVnrType         8\n",
       "Electrical         1\n",
       "MSSubClass         0\n",
       "dtype: int64"
      ]
     },
     "execution_count": 5,
     "metadata": {},
     "output_type": "execute_result"
    }
   ],
   "source": [
    "missing_values_count = train_df.isnull().sum().sort_values(ascending=False)\n",
    "missing_values_count.head(20)"
   ]
  },
  {
   "cell_type": "code",
   "execution_count": 6,
   "id": "89803334",
   "metadata": {
    "execution": {
     "iopub.execute_input": "2022-03-27T05:26:56.377521Z",
     "iopub.status.busy": "2022-03-27T05:26:56.367883Z",
     "iopub.status.idle": "2022-03-27T05:26:56.387309Z",
     "shell.execute_reply": "2022-03-27T05:26:56.387946Z",
     "shell.execute_reply.started": "2022-03-27T04:56:23.194786Z"
    },
    "papermill": {
     "duration": 0.079914,
     "end_time": "2022-03-27T05:26:56.388150",
     "exception": false,
     "start_time": "2022-03-27T05:26:56.308236",
     "status": "completed"
    },
    "tags": []
   },
   "outputs": [
    {
     "data": {
      "text/plain": [
       "PoolQC          99.52\n",
       "MiscFeature     96.30\n",
       "Alley           93.77\n",
       "Fence           80.75\n",
       "FireplaceQu     47.26\n",
       "LotFrontage     17.74\n",
       "GarageYrBlt      5.55\n",
       "GarageCond       5.55\n",
       "GarageType       5.55\n",
       "GarageFinish     5.55\n",
       "GarageQual       5.55\n",
       "BsmtExposure     2.60\n",
       "BsmtFinType2     2.60\n",
       "BsmtCond         2.53\n",
       "BsmtQual         2.53\n",
       "BsmtFinType1     2.53\n",
       "MasVnrArea       0.55\n",
       "MasVnrType       0.55\n",
       "Electrical       0.07\n",
       "MSSubClass       0.00\n",
       "dtype: float64"
      ]
     },
     "execution_count": 6,
     "metadata": {},
     "output_type": "execute_result"
    }
   ],
   "source": [
    "missing_value_percentage = round((train_df.isnull().sum().sort_values(ascending=False))*100 / len(train_df), 2)\n",
    "missing_value_percentage.head(20)"
   ]
  },
  {
   "cell_type": "markdown",
   "id": "8ad37b9f",
   "metadata": {
    "papermill": {
     "duration": 0.056424,
     "end_time": "2022-03-27T05:26:56.501648",
     "exception": false,
     "start_time": "2022-03-27T05:26:56.445224",
     "status": "completed"
    },
    "tags": []
   },
   "source": [
    "- The features like PoolQC, MiscFeature, Alley, Fence, and FireplaceQu have a huge percentage of missing values. It does not make sense to recreate such huge percentage of data. Hence it is best to drop these columns.\n",
    "- The rest of the columns with missing values can be treated with imputation techniques.\n",
    "- We can also visualize the missing values with a heatmap"
   ]
  },
  {
   "cell_type": "code",
   "execution_count": 7,
   "id": "3fd301c3",
   "metadata": {
    "execution": {
     "iopub.execute_input": "2022-03-27T05:26:56.620334Z",
     "iopub.status.busy": "2022-03-27T05:26:56.619596Z",
     "iopub.status.idle": "2022-03-27T05:27:01.486010Z",
     "shell.execute_reply": "2022-03-27T05:27:01.486622Z",
     "shell.execute_reply.started": "2022-03-27T04:56:23.220599Z"
    },
    "papermill": {
     "duration": 4.92759,
     "end_time": "2022-03-27T05:27:01.486851",
     "exception": false,
     "start_time": "2022-03-27T05:26:56.559261",
     "status": "completed"
    },
    "tags": []
   },
   "outputs": [
    {
     "data": {
      "text/plain": [
       "<AxesSubplot:ylabel='Id'>"
      ]
     },
     "execution_count": 7,
     "metadata": {},
     "output_type": "execute_result"
    },
    {
     "data": {
      "image/png": "[encoded data removed]",
      "text/plain": [
       "<Figure size 1440x1440 with 1 Axes>"
      ]
     },
     "metadata": {},
     "output_type": "display_data"
    }
   ],
   "source": [
    "import seaborn as sns\n",
    "sns.set_style('darkgrid')\n",
    "sns.set(rc={'figure.figsize':(20, 20)})\n",
    "\n",
    "sns.heatmap(train_df.isnull(), yticklabels=False, cbar=False, cmap='YlGnBu')"
   ]
  },
  {
   "cell_type": "code",
   "execution_count": 8,
   "id": "d62347db",
   "metadata": {
    "execution": {
     "iopub.execute_input": "2022-03-27T05:27:01.614800Z",
     "iopub.status.busy": "2022-03-27T05:27:01.613993Z",
     "iopub.status.idle": "2022-03-27T05:27:01.620359Z",
     "shell.execute_reply": "2022-03-27T05:27:01.620964Z",
     "shell.execute_reply.started": "2022-03-27T04:56:27.945453Z"
    },
    "papermill": {
     "duration": 0.071327,
     "end_time": "2022-03-27T05:27:01.621224",
     "exception": false,
     "start_time": "2022-03-27T05:27:01.549897",
     "status": "completed"
    },
    "tags": []
   },
   "outputs": [
    {
     "data": {
      "text/plain": [
       "Index(['MSSubClass', 'MSZoning', 'LotFrontage', 'LotArea', 'Street', 'Alley',\n",
       "       'LotShape', 'LandContour', 'Utilities', 'LotConfig', 'LandSlope',\n",
       "       'Neighborhood', 'Condition1', 'Condition2', 'BldgType', 'HouseStyle',\n",
       "       'OverallQual', 'OverallCond', 'YearBuilt', 'YearRemodAdd', 'RoofStyle',\n",
       "       'RoofMatl', 'Exterior1st', 'Exterior2nd', 'MasVnrType', 'MasVnrArea',\n",
       "       'ExterQual', 'ExterCond', 'Foundation', 'BsmtQual', 'BsmtCond',\n",
       "       'BsmtExposure', 'BsmtFinType1', 'BsmtFinSF1', 'BsmtFinType2',\n",
       "       'BsmtFinSF2', 'BsmtUnfSF', 'TotalBsmtSF', 'Heating', 'HeatingQC',\n",
       "       'CentralAir', 'Electrical', '1stFlrSF', '2ndFlrSF', 'LowQualFinSF',\n",
       "       'GrLivArea', 'BsmtFullBath', 'BsmtHalfBath', 'FullBath', 'HalfBath',\n",
       "       'BedroomAbvGr', 'KitchenAbvGr', 'KitchenQual', 'TotRmsAbvGrd',\n",
       "       'Functional', 'Fireplaces', 'FireplaceQu', 'GarageType', 'GarageYrBlt',\n",
       "       'GarageFinish', 'GarageCars', 'GarageArea', 'GarageQual', 'GarageCond',\n",
       "       'PavedDrive', 'WoodDeckSF', 'OpenPorchSF', 'EnclosedPorch', '3SsnPorch',\n",
       "       'ScreenPorch', 'PoolArea', 'PoolQC', 'Fence', 'MiscFeature', 'MiscVal',\n",
       "       'MoSold', 'YrSold', 'SaleType', 'SaleCondition', 'SalePrice'],\n",
       "      dtype='object')"
      ]
     },
     "execution_count": 8,
     "metadata": {},
     "output_type": "execute_result"
    }
   ],
   "source": [
    "train_df.columns"
   ]
  },
  {
   "cell_type": "code",
   "execution_count": 9,
   "id": "b1eb7ed6",
   "metadata": {
    "execution": {
     "iopub.execute_input": "2022-03-27T05:27:01.751969Z",
     "iopub.status.busy": "2022-03-27T05:27:01.746699Z",
     "iopub.status.idle": "2022-03-27T05:27:01.758174Z",
     "shell.execute_reply": "2022-03-27T05:27:01.758833Z",
     "shell.execute_reply.started": "2022-03-27T04:56:27.955010Z"
    },
    "papermill": {
     "duration": 0.076326,
     "end_time": "2022-03-27T05:27:01.759054",
     "exception": false,
     "start_time": "2022-03-27T05:27:01.682728",
     "status": "completed"
    },
    "tags": []
   },
   "outputs": [
    {
     "data": {
      "text/plain": [
       "(1460, 75)"
      ]
     },
     "execution_count": 9,
     "metadata": {},
     "output_type": "execute_result"
    }
   ],
   "source": [
    "train_df = train_df.drop(columns=['PoolQC', 'MiscFeature', 'Alley', 'Fence', 'FireplaceQu'])\n",
    "train_df.shape"
   ]
  },
  {
   "cell_type": "code",
   "execution_count": 10,
   "id": "a7ea03e8",
   "metadata": {
    "execution": {
     "iopub.execute_input": "2022-03-27T05:27:01.889153Z",
     "iopub.status.busy": "2022-03-27T05:27:01.887997Z",
     "iopub.status.idle": "2022-03-27T05:27:01.907387Z",
     "shell.execute_reply": "2022-03-27T05:27:01.908083Z",
     "shell.execute_reply.started": "2022-03-27T04:56:27.972805Z"
    },
    "papermill": {
     "duration": 0.086424,
     "end_time": "2022-03-27T05:27:01.908293",
     "exception": false,
     "start_time": "2022-03-27T05:27:01.821869",
     "status": "completed"
    },
    "tags": []
   },
   "outputs": [
    {
     "data": {
      "text/plain": [
       "LotFrontage     17.74\n",
       "GarageType       5.55\n",
       "GarageYrBlt      5.55\n",
       "GarageFinish     5.55\n",
       "GarageQual       5.55\n",
       "GarageCond       5.55\n",
       "BsmtFinType2     2.60\n",
       "BsmtExposure     2.60\n",
       "BsmtQual         2.53\n",
       "BsmtCond         2.53\n",
       "BsmtFinType1     2.53\n",
       "MasVnrArea       0.55\n",
       "MasVnrType       0.55\n",
       "Electrical       0.07\n",
       "KitchenAbvGr     0.00\n",
       "BedroomAbvGr     0.00\n",
       "HalfBath         0.00\n",
       "FullBath         0.00\n",
       "BsmtHalfBath     0.00\n",
       "BsmtFullBath     0.00\n",
       "dtype: float64"
      ]
     },
     "execution_count": 10,
     "metadata": {},
     "output_type": "execute_result"
    }
   ],
   "source": [
    "missing_value_percentage = round((train_df.isnull().sum().sort_values(ascending=False))*100 / len(train_df), 2)\n",
    "missing_value_percentage.head(20)"
   ]
  },
  {
   "cell_type": "code",
   "execution_count": 11,
   "id": "0325ca0a",
   "metadata": {
    "execution": {
     "iopub.execute_input": "2022-03-27T05:27:02.037982Z",
     "iopub.status.busy": "2022-03-27T05:27:02.036900Z",
     "iopub.status.idle": "2022-03-27T05:27:02.048747Z",
     "shell.execute_reply": "2022-03-27T05:27:02.049273Z",
     "shell.execute_reply.started": "2022-03-27T04:56:27.995000Z"
    },
    "papermill": {
     "duration": 0.078415,
     "end_time": "2022-03-27T05:27:02.049483",
     "exception": false,
     "start_time": "2022-03-27T05:27:01.971068",
     "status": "completed"
    },
    "tags": []
   },
   "outputs": [
    {
     "name": "stdout",
     "output_type": "stream",
     "text": [
      "The datatype for feature LotFrontage:  float64\n",
      "The datatype for feature GarageType:  object\n",
      "The datatype for feature GarageYrBlt:  float64\n",
      "The datatype for feature GarageFinish:  object\n",
      "The datatype for feature GarageQual:  object\n",
      "The datatype for feature GarageCond:  object\n",
      "The datatype for feature BsmtFinType2:  object\n",
      "The datatype for feature BsmtExposure:  object\n",
      "The datatype for feature BsmtQual:  object\n",
      "The datatype for feature BsmtCond:  object\n",
      "The datatype for feature BsmtFinType1:  object\n",
      "The datatype for feature MasVnrArea:  float64\n",
      "The datatype for feature MasVnrType:  object\n",
      "The datatype for feature Electrical:  object\n"
     ]
    }
   ],
   "source": [
    "mis_cols_list = ['LotFrontage', 'GarageType', 'GarageYrBlt', \n",
    "                 'GarageFinish', 'GarageQual', 'GarageCond', \n",
    "                'BsmtFinType2', 'BsmtExposure', 'BsmtQual', \n",
    "                 'BsmtCond', 'BsmtFinType1', 'MasVnrArea', \n",
    "                 'MasVnrType', 'Electrical']\n",
    "\n",
    "for column in mis_cols_list:\n",
    "    print(\"The datatype for feature {}: \".format(column), train_df[column].dtype)"
   ]
  },
  {
   "cell_type": "code",
   "execution_count": 12,
   "id": "3974e92f",
   "metadata": {
    "execution": {
     "iopub.execute_input": "2022-03-27T05:27:02.177960Z",
     "iopub.status.busy": "2022-03-27T05:27:02.176857Z",
     "iopub.status.idle": "2022-03-27T05:27:02.192314Z",
     "shell.execute_reply": "2022-03-27T05:27:02.192894Z",
     "shell.execute_reply.started": "2022-03-27T04:56:28.012556Z"
    },
    "papermill": {
     "duration": 0.081833,
     "end_time": "2022-03-27T05:27:02.193096",
     "exception": false,
     "start_time": "2022-03-27T05:27:02.111263",
     "status": "completed"
    },
    "tags": []
   },
   "outputs": [
    {
     "name": "stdout",
     "output_type": "stream",
     "text": [
      "The number of unique values in column LotFrontage=  110\n",
      "The number of unique values in column GarageType=  6\n",
      "The number of unique values in column GarageYrBlt=  97\n",
      "The number of unique values in column GarageFinish=  3\n",
      "The number of unique values in column GarageQual=  5\n",
      "The number of unique values in column GarageCond=  5\n",
      "The number of unique values in column BsmtFinType2=  6\n",
      "The number of unique values in column BsmtExposure=  4\n",
      "The number of unique values in column BsmtQual=  4\n",
      "The number of unique values in column BsmtCond=  4\n",
      "The number of unique values in column BsmtFinType1=  6\n",
      "The number of unique values in column MasVnrArea=  327\n",
      "The number of unique values in column MasVnrType=  4\n",
      "The number of unique values in column Electrical=  5\n"
     ]
    }
   ],
   "source": [
    "for column in mis_cols_list:\n",
    "    print(\"The number of unique values in column {}= \".format(column), train_df[column].nunique())"
   ]
  },
  {
   "cell_type": "code",
   "execution_count": 13,
   "id": "5f0148ca",
   "metadata": {
    "execution": {
     "iopub.execute_input": "2022-03-27T05:27:02.329887Z",
     "iopub.status.busy": "2022-03-27T05:27:02.322555Z",
     "iopub.status.idle": "2022-03-27T05:27:02.343742Z",
     "shell.execute_reply": "2022-03-27T05:27:02.344461Z",
     "shell.execute_reply.started": "2022-03-27T04:56:28.034562Z"
    },
    "papermill": {
     "duration": 0.088307,
     "end_time": "2022-03-27T05:27:02.344673",
     "exception": false,
     "start_time": "2022-03-27T05:27:02.256366",
     "status": "completed"
    },
    "tags": []
   },
   "outputs": [],
   "source": [
    "object_cols_fill = ['GarageType', 'GarageFinish', 'GarageQual', \n",
    "               'GarageCond', 'BsmtFinType2', 'BsmtExposure', \n",
    "               'BsmtQual', 'BsmtCond', 'BsmtFinType1', \n",
    "               'MasVnrType', 'Electrical']\n",
    "numeric_cols_fill = ['LotFrontage', 'GarageYrBlt', 'MasVnrArea']\n",
    "\n",
    "for column in object_cols_fill:\n",
    "    train_df[column] = train_df[column].fillna(train_df[column].mode()[0])\n",
    "    \n",
    "for column in numeric_cols_fill:\n",
    "    train_df[column] = train_df[column].fillna(train_df[column].mean())"
   ]
  },
  {
   "cell_type": "code",
   "execution_count": 14,
   "id": "8089159f",
   "metadata": {
    "execution": {
     "iopub.execute_input": "2022-03-27T05:27:02.488377Z",
     "iopub.status.busy": "2022-03-27T05:27:02.487369Z",
     "iopub.status.idle": "2022-03-27T05:27:02.491110Z",
     "shell.execute_reply": "2022-03-27T05:27:02.491603Z",
     "shell.execute_reply.started": "2022-03-27T04:56:28.056462Z"
    },
    "papermill": {
     "duration": 0.082755,
     "end_time": "2022-03-27T05:27:02.491812",
     "exception": false,
     "start_time": "2022-03-27T05:27:02.409057",
     "status": "completed"
    },
    "tags": []
   },
   "outputs": [
    {
     "data": {
      "text/plain": [
       "False    75\n",
       "dtype: int64"
      ]
     },
     "execution_count": 14,
     "metadata": {},
     "output_type": "execute_result"
    }
   ],
   "source": [
    "train_df.isnull().any().value_counts()"
   ]
  },
  {
   "cell_type": "markdown",
   "id": "9e69fc6a",
   "metadata": {
    "papermill": {
     "duration": 0.062561,
     "end_time": "2022-03-27T05:27:02.617424",
     "exception": false,
     "start_time": "2022-03-27T05:27:02.554863",
     "status": "completed"
    },
    "tags": []
   },
   "source": [
    "## Import, Check and Treat the Test Dataset"
   ]
  },
  {
   "cell_type": "code",
   "execution_count": 15,
   "id": "29dbffa4",
   "metadata": {
    "execution": {
     "iopub.execute_input": "2022-03-27T05:27:02.750620Z",
     "iopub.status.busy": "2022-03-27T05:27:02.749538Z",
     "iopub.status.idle": "2022-03-27T05:27:02.790864Z",
     "shell.execute_reply": "2022-03-27T05:27:02.791446Z",
     "shell.execute_reply.started": "2022-03-27T04:56:28.075466Z"
    },
    "papermill": {
     "duration": 0.109399,
     "end_time": "2022-03-27T05:27:02.791662",
     "exception": false,
     "start_time": "2022-03-27T05:27:02.682263",
     "status": "completed"
    },
    "tags": []
   },
   "outputs": [
    {
     "name": "stdout",
     "output_type": "stream",
     "text": [
      "Dimensions of the test dataset(Rows, Columns): (1459, 79)\n"
     ]
    }
   ],
   "source": [
    "test_df = pd.read_csv('/kaggle/input/house-prices-advanced-regression-techniques/test.csv', index_col=0)\n",
    "print(\"Dimensions of the test dataset(Rows, Columns):\", test_df.shape)"
   ]
  },
  {
   "cell_type": "code",
   "execution_count": 16,
   "id": "18e57830",
   "metadata": {
    "execution": {
     "iopub.execute_input": "2022-03-27T05:27:02.925818Z",
     "iopub.status.busy": "2022-03-27T05:27:02.924741Z",
     "iopub.status.idle": "2022-03-27T05:27:02.950441Z",
     "shell.execute_reply": "2022-03-27T05:27:02.951027Z",
     "shell.execute_reply.started": "2022-03-27T04:56:28.119578Z"
    },
    "papermill": {
     "duration": 0.095267,
     "end_time": "2022-03-27T05:27:02.951236",
     "exception": false,
     "start_time": "2022-03-27T05:27:02.855969",
     "status": "completed"
    },
    "tags": []
   },
   "outputs": [
    {
     "name": "stdout",
     "output_type": "stream",
     "text": [
      "<class 'pandas.core.frame.DataFrame'>\n",
      "Int64Index: 1459 entries, 1461 to 2919\n",
      "Data columns (total 79 columns):\n",
      " #   Column         Non-Null Count  Dtype  \n",
      "---  ------         --------------  -----  \n",
      " 0   MSSubClass     1459 non-null   int64  \n",
      " 1   MSZoning       1455 non-null   object \n",
      " 2   LotFrontage    1232 non-null   float64\n",
      " 3   LotArea        1459 non-null   int64  \n",
      " 4   Street         1459 non-null   object \n",
      " 5   Alley          107 non-null    object \n",
      " 6   LotShape       1459 non-null   object \n",
      " 7   LandContour    1459 non-null   object \n",
      " 8   Utilities      1457 non-null   object \n",
      " 9   LotConfig      1459 non-null   object \n",
      " 10  LandSlope      1459 non-null   object \n",
      " 11  Neighborhood   1459 non-null   object \n",
      " 12  Condition1     1459 non-null   object \n",
      " 13  Condition2     1459 non-null   object \n",
      " 14  BldgType       1459 non-null   object \n",
      " 15  HouseStyle     1459 non-null   object \n",
      " 16  OverallQual    1459 non-null   int64  \n",
      " 17  OverallCond    1459 non-null   int64  \n",
      " 18  YearBuilt      1459 non-null   int64  \n",
      " 19  YearRemodAdd   1459 non-null   int64  \n",
      " 20  RoofStyle      1459 non-null   object \n",
      " 21  RoofMatl       1459 non-null   object \n",
      " 22  Exterior1st    1458 non-null   object \n",
      " 23  Exterior2nd    1458 non-null   object \n",
      " 24  MasVnrType     1443 non-null   object \n",
      " 25  MasVnrArea     1444 non-null   float64\n",
      " 26  ExterQual      1459 non-null   object \n",
      " 27  ExterCond      1459 non-null   object \n",
      " 28  Foundation     1459 non-null   object \n",
      " 29  BsmtQual       1415 non-null   object \n",
      " 30  BsmtCond       1414 non-null   object \n",
      " 31  BsmtExposure   1415 non-null   object \n",
      " 32  BsmtFinType1   1417 non-null   object \n",
      " 33  BsmtFinSF1     1458 non-null   float64\n",
      " 34  BsmtFinType2   1417 non-null   object \n",
      " 35  BsmtFinSF2     1458 non-null   float64\n",
      " 36  BsmtUnfSF      1458 non-null   float64\n",
      " 37  TotalBsmtSF    1458 non-null   float64\n",
      " 38  Heating        1459 non-null   object \n",
      " 39  HeatingQC      1459 non-null   object \n",
      " 40  CentralAir     1459 non-null   object \n",
      " 41  Electrical     1459 non-null   object \n",
      " 42  1stFlrSF       1459 non-null   int64  \n",
      " 43  2ndFlrSF       1459 non-null   int64  \n",
      " 44  LowQualFinSF   1459 non-null   int64  \n",
      " 45  GrLivArea      1459 non-null   int64  \n",
      " 46  BsmtFullBath   1457 non-null   float64\n",
      " 47  BsmtHalfBath   1457 non-null   float64\n",
      " 48  FullBath       1459 non-null   int64  \n",
      " 49  HalfBath       1459 non-null   int64  \n",
      " 50  BedroomAbvGr   1459 non-null   int64  \n",
      " 51  KitchenAbvGr   1459 non-null   int64  \n",
      " 52  KitchenQual    1458 non-null   object \n",
      " 53  TotRmsAbvGrd   1459 non-null   int64  \n",
      " 54  Functional     1457 non-null   object \n",
      " 55  Fireplaces     1459 non-null   int64  \n",
      " 56  FireplaceQu    729 non-null    object \n",
      " 57  GarageType     1383 non-null   object \n",
      " 58  GarageYrBlt    1381 non-null   float64\n",
      " 59  GarageFinish   1381 non-null   object \n",
      " 60  GarageCars     1458 non-null   float64\n",
      " 61  GarageArea     1458 non-null   float64\n",
      " 62  GarageQual     1381 non-null   object \n",
      " 63  GarageCond     1381 non-null   object \n",
      " 64  PavedDrive     1459 non-null   object \n",
      " 65  WoodDeckSF     1459 non-null   int64  \n",
      " 66  OpenPorchSF    1459 non-null   int64  \n",
      " 67  EnclosedPorch  1459 non-null   int64  \n",
      " 68  3SsnPorch      1459 non-null   int64  \n",
      " 69  ScreenPorch    1459 non-null   int64  \n",
      " 70  PoolArea       1459 non-null   int64  \n",
      " 71  PoolQC         3 non-null      object \n",
      " 72  Fence          290 non-null    object \n",
      " 73  MiscFeature    51 non-null     object \n",
      " 74  MiscVal        1459 non-null   int64  \n",
      " 75  MoSold         1459 non-null   int64  \n",
      " 76  YrSold         1459 non-null   int64  \n",
      " 77  SaleType       1458 non-null   object \n",
      " 78  SaleCondition  1459 non-null   object \n",
      "dtypes: float64(11), int64(25), object(43)\n",
      "memory usage: 911.9+ KB\n"
     ]
    }
   ],
   "source": [
    "test_df.info()"
   ]
  },
  {
   "cell_type": "code",
   "execution_count": 17,
   "id": "ac0a8015",
   "metadata": {
    "execution": {
     "iopub.execute_input": "2022-03-27T05:27:03.089590Z",
     "iopub.status.busy": "2022-03-27T05:27:03.088501Z",
     "iopub.status.idle": "2022-03-27T05:27:03.105649Z",
     "shell.execute_reply": "2022-03-27T05:27:03.106222Z",
     "shell.execute_reply.started": "2022-03-27T04:56:28.149437Z"
    },
    "papermill": {
     "duration": 0.089077,
     "end_time": "2022-03-27T05:27:03.106418",
     "exception": false,
     "start_time": "2022-03-27T05:27:03.017341",
     "status": "completed"
    },
    "tags": []
   },
   "outputs": [
    {
     "data": {
      "text/plain": [
       "False    46\n",
       "True     33\n",
       "dtype: int64"
      ]
     },
     "execution_count": 17,
     "metadata": {},
     "output_type": "execute_result"
    }
   ],
   "source": [
    "test_df.isna().any().value_counts()"
   ]
  },
  {
   "cell_type": "markdown",
   "id": "d042a68f",
   "metadata": {
    "papermill": {
     "duration": 0.06306,
     "end_time": "2022-03-27T05:27:03.234214",
     "exception": false,
     "start_time": "2022-03-27T05:27:03.171154",
     "status": "completed"
    },
    "tags": []
   },
   "source": [
    "- There are 33 columns with missing values."
   ]
  },
  {
   "cell_type": "code",
   "execution_count": 18,
   "id": "2fc5863f",
   "metadata": {
    "execution": {
     "iopub.execute_input": "2022-03-27T05:27:03.367438Z",
     "iopub.status.busy": "2022-03-27T05:27:03.366405Z",
     "iopub.status.idle": "2022-03-27T05:27:06.928543Z",
     "shell.execute_reply": "2022-03-27T05:27:06.929106Z",
     "shell.execute_reply.started": "2022-03-27T04:56:28.174273Z"
    },
    "papermill": {
     "duration": 3.630134,
     "end_time": "2022-03-27T05:27:06.929306",
     "exception": false,
     "start_time": "2022-03-27T05:27:03.299172",
     "status": "completed"
    },
    "tags": []
   },
   "outputs": [
    {
     "data": {
      "text/plain": [
       "<AxesSubplot:ylabel='Id'>"
      ]
     },
     "execution_count": 18,
     "metadata": {},
     "output_type": "execute_result"
    },
    {
     "data": {
      "image/png": "[encoded data removed]",
      "text/plain": [
       "<Figure size 1440x1440 with 1 Axes>"
      ]
     },
     "metadata": {},
     "output_type": "display_data"
    }
   ],
   "source": [
    "sns.heatmap(test_df.isnull(), yticklabels=False, cbar=False, cmap='YlGnBu')"
   ]
  },
  {
   "cell_type": "code",
   "execution_count": 19,
   "id": "84e7b4f7",
   "metadata": {
    "execution": {
     "iopub.execute_input": "2022-03-27T05:27:07.070434Z",
     "iopub.status.busy": "2022-03-27T05:27:07.069186Z",
     "iopub.status.idle": "2022-03-27T05:27:07.087786Z",
     "shell.execute_reply": "2022-03-27T05:27:07.088367Z",
     "shell.execute_reply.started": "2022-03-27T04:56:32.366956Z"
    },
    "papermill": {
     "duration": 0.091841,
     "end_time": "2022-03-27T05:27:07.088573",
     "exception": false,
     "start_time": "2022-03-27T05:27:06.996732",
     "status": "completed"
    },
    "tags": []
   },
   "outputs": [
    {
     "data": {
      "text/plain": [
       "PoolQC          1456\n",
       "MiscFeature     1408\n",
       "Alley           1352\n",
       "Fence           1169\n",
       "FireplaceQu      730\n",
       "LotFrontage      227\n",
       "GarageYrBlt       78\n",
       "GarageFinish      78\n",
       "GarageQual        78\n",
       "GarageCond        78\n",
       "GarageType        76\n",
       "BsmtCond          45\n",
       "BsmtExposure      44\n",
       "BsmtQual          44\n",
       "BsmtFinType2      42\n",
       "BsmtFinType1      42\n",
       "MasVnrType        16\n",
       "MasVnrArea        15\n",
       "MSZoning           4\n",
       "Functional         2\n",
       "BsmtHalfBath       2\n",
       "BsmtFullBath       2\n",
       "Utilities          2\n",
       "KitchenQual        1\n",
       "SaleType           1\n",
       "BsmtFinSF1         1\n",
       "GarageCars         1\n",
       "BsmtUnfSF          1\n",
       "TotalBsmtSF        1\n",
       "Exterior2nd        1\n",
       "Exterior1st        1\n",
       "GarageArea         1\n",
       "BsmtFinSF2         1\n",
       "TotRmsAbvGrd       0\n",
       "KitchenAbvGr       0\n",
       "dtype: int64"
      ]
     },
     "execution_count": 19,
     "metadata": {},
     "output_type": "execute_result"
    }
   ],
   "source": [
    "missing_values_count = test_df.isnull().sum().sort_values(ascending=False)\n",
    "missing_values_count.head(35)"
   ]
  },
  {
   "cell_type": "code",
   "execution_count": 20,
   "id": "75778bc7",
   "metadata": {
    "execution": {
     "iopub.execute_input": "2022-03-27T05:27:07.230112Z",
     "iopub.status.busy": "2022-03-27T05:27:07.228912Z",
     "iopub.status.idle": "2022-03-27T05:27:07.248664Z",
     "shell.execute_reply": "2022-03-27T05:27:07.249201Z",
     "shell.execute_reply.started": "2022-03-27T04:56:32.387239Z"
    },
    "papermill": {
     "duration": 0.092585,
     "end_time": "2022-03-27T05:27:07.249408",
     "exception": false,
     "start_time": "2022-03-27T05:27:07.156823",
     "status": "completed"
    },
    "tags": []
   },
   "outputs": [
    {
     "data": {
      "text/plain": [
       "PoolQC          99.79\n",
       "MiscFeature     96.50\n",
       "Alley           92.67\n",
       "Fence           80.12\n",
       "FireplaceQu     50.03\n",
       "LotFrontage     15.56\n",
       "GarageYrBlt      5.35\n",
       "GarageFinish     5.35\n",
       "GarageQual       5.35\n",
       "GarageCond       5.35\n",
       "GarageType       5.21\n",
       "BsmtCond         3.08\n",
       "BsmtExposure     3.02\n",
       "BsmtQual         3.02\n",
       "BsmtFinType2     2.88\n",
       "BsmtFinType1     2.88\n",
       "MasVnrType       1.10\n",
       "MasVnrArea       1.03\n",
       "MSZoning         0.27\n",
       "Functional       0.14\n",
       "BsmtHalfBath     0.14\n",
       "BsmtFullBath     0.14\n",
       "Utilities        0.14\n",
       "KitchenQual      0.07\n",
       "SaleType         0.07\n",
       "BsmtFinSF1       0.07\n",
       "GarageCars       0.07\n",
       "BsmtUnfSF        0.07\n",
       "TotalBsmtSF      0.07\n",
       "Exterior2nd      0.07\n",
       "Exterior1st      0.07\n",
       "GarageArea       0.07\n",
       "BsmtFinSF2       0.07\n",
       "TotRmsAbvGrd     0.00\n",
       "KitchenAbvGr     0.00\n",
       "dtype: float64"
      ]
     },
     "execution_count": 20,
     "metadata": {},
     "output_type": "execute_result"
    }
   ],
   "source": [
    "missing_values_percentage = round((test_df.isnull().sum().sort_values(ascending=False)*100)/len(test_df), 2)\n",
    "missing_values_percentage.head(35)"
   ]
  },
  {
   "cell_type": "code",
   "execution_count": 21,
   "id": "1f92ae17",
   "metadata": {
    "execution": {
     "iopub.execute_input": "2022-03-27T05:27:07.390912Z",
     "iopub.status.busy": "2022-03-27T05:27:07.389743Z",
     "iopub.status.idle": "2022-03-27T05:27:07.397921Z",
     "shell.execute_reply": "2022-03-27T05:27:07.397291Z",
     "shell.execute_reply.started": "2022-03-27T04:56:32.409747Z"
    },
    "papermill": {
     "duration": 0.080641,
     "end_time": "2022-03-27T05:27:07.398085",
     "exception": false,
     "start_time": "2022-03-27T05:27:07.317444",
     "status": "completed"
    },
    "tags": []
   },
   "outputs": [
    {
     "data": {
      "text/plain": [
       "Index(['MSSubClass', 'MSZoning', 'LotFrontage', 'LotArea', 'Street', 'Alley',\n",
       "       'LotShape', 'LandContour', 'Utilities', 'LotConfig', 'LandSlope',\n",
       "       'Neighborhood', 'Condition1', 'Condition2', 'BldgType', 'HouseStyle',\n",
       "       'OverallQual', 'OverallCond', 'YearBuilt', 'YearRemodAdd', 'RoofStyle',\n",
       "       'RoofMatl', 'Exterior1st', 'Exterior2nd', 'MasVnrType', 'MasVnrArea',\n",
       "       'ExterQual', 'ExterCond', 'Foundation', 'BsmtQual', 'BsmtCond',\n",
       "       'BsmtExposure', 'BsmtFinType1', 'BsmtFinSF1', 'BsmtFinType2',\n",
       "       'BsmtFinSF2', 'BsmtUnfSF', 'TotalBsmtSF', 'Heating', 'HeatingQC',\n",
       "       'CentralAir', 'Electrical', '1stFlrSF', '2ndFlrSF', 'LowQualFinSF',\n",
       "       'GrLivArea', 'BsmtFullBath', 'BsmtHalfBath', 'FullBath', 'HalfBath',\n",
       "       'BedroomAbvGr', 'KitchenAbvGr', 'KitchenQual', 'TotRmsAbvGrd',\n",
       "       'Functional', 'Fireplaces', 'FireplaceQu', 'GarageType', 'GarageYrBlt',\n",
       "       'GarageFinish', 'GarageCars', 'GarageArea', 'GarageQual', 'GarageCond',\n",
       "       'PavedDrive', 'WoodDeckSF', 'OpenPorchSF', 'EnclosedPorch', '3SsnPorch',\n",
       "       'ScreenPorch', 'PoolArea', 'PoolQC', 'Fence', 'MiscFeature', 'MiscVal',\n",
       "       'MoSold', 'YrSold', 'SaleType', 'SaleCondition'],\n",
       "      dtype='object')"
      ]
     },
     "execution_count": 21,
     "metadata": {},
     "output_type": "execute_result"
    }
   ],
   "source": [
    "test_df.columns"
   ]
  },
  {
   "cell_type": "code",
   "execution_count": 22,
   "id": "5625101e",
   "metadata": {
    "execution": {
     "iopub.execute_input": "2022-03-27T05:27:07.543138Z",
     "iopub.status.busy": "2022-03-27T05:27:07.542317Z",
     "iopub.status.idle": "2022-03-27T05:27:07.547563Z",
     "shell.execute_reply": "2022-03-27T05:27:07.548097Z",
     "shell.execute_reply.started": "2022-03-27T04:56:32.418250Z"
    },
    "papermill": {
     "duration": 0.080851,
     "end_time": "2022-03-27T05:27:07.548293",
     "exception": false,
     "start_time": "2022-03-27T05:27:07.467442",
     "status": "completed"
    },
    "tags": []
   },
   "outputs": [
    {
     "data": {
      "text/plain": [
       "(1459, 74)"
      ]
     },
     "execution_count": 22,
     "metadata": {},
     "output_type": "execute_result"
    }
   ],
   "source": [
    "test_df = test_df.drop(columns=['PoolQC', 'MiscFeature', 'Alley', 'Fence', 'FireplaceQu'])\n",
    "\n",
    "test_df.shape"
   ]
  },
  {
   "cell_type": "code",
   "execution_count": 23,
   "id": "18c33207",
   "metadata": {
    "execution": {
     "iopub.execute_input": "2022-03-27T05:27:07.693808Z",
     "iopub.status.busy": "2022-03-27T05:27:07.693096Z",
     "iopub.status.idle": "2022-03-27T05:27:07.708886Z",
     "shell.execute_reply": "2022-03-27T05:27:07.709418Z",
     "shell.execute_reply.started": "2022-03-27T04:56:32.440401Z"
    },
    "papermill": {
     "duration": 0.091113,
     "end_time": "2022-03-27T05:27:07.709627",
     "exception": false,
     "start_time": "2022-03-27T05:27:07.618514",
     "status": "completed"
    },
    "tags": []
   },
   "outputs": [
    {
     "data": {
      "text/plain": [
       "LotFrontage     15.56\n",
       "GarageCond       5.35\n",
       "GarageYrBlt      5.35\n",
       "GarageFinish     5.35\n",
       "GarageQual       5.35\n",
       "GarageType       5.21\n",
       "BsmtCond         3.08\n",
       "BsmtExposure     3.02\n",
       "BsmtQual         3.02\n",
       "BsmtFinType1     2.88\n",
       "BsmtFinType2     2.88\n",
       "MasVnrType       1.10\n",
       "MasVnrArea       1.03\n",
       "MSZoning         0.27\n",
       "Functional       0.14\n",
       "BsmtHalfBath     0.14\n",
       "Utilities        0.14\n",
       "BsmtFullBath     0.14\n",
       "BsmtFinSF1       0.07\n",
       "BsmtFinSF2       0.07\n",
       "BsmtUnfSF        0.07\n",
       "TotalBsmtSF      0.07\n",
       "KitchenQual      0.07\n",
       "Exterior2nd      0.07\n",
       "Exterior1st      0.07\n",
       "GarageArea       0.07\n",
       "SaleType         0.07\n",
       "GarageCars       0.07\n",
       "MoSold           0.00\n",
       "FullBath         0.00\n",
       "HalfBath         0.00\n",
       "BedroomAbvGr     0.00\n",
       "KitchenAbvGr     0.00\n",
       "TotRmsAbvGrd     0.00\n",
       "YrSold           0.00\n",
       "dtype: float64"
      ]
     },
     "execution_count": 23,
     "metadata": {},
     "output_type": "execute_result"
    }
   ],
   "source": [
    "missing_values_percentage = round((test_df.isnull().sum().sort_values(ascending=False)*100)/len(test_df), 2)\n",
    "missing_values_percentage.head(35)"
   ]
  },
  {
   "cell_type": "code",
   "execution_count": 24,
   "id": "514b7eff",
   "metadata": {
    "execution": {
     "iopub.execute_input": "2022-03-27T05:27:07.864358Z",
     "iopub.status.busy": "2022-03-27T05:27:07.854343Z",
     "iopub.status.idle": "2022-03-27T05:27:07.872068Z",
     "shell.execute_reply": "2022-03-27T05:27:07.871212Z",
     "shell.execute_reply.started": "2022-03-27T04:56:32.460490Z"
    },
    "papermill": {
     "duration": 0.0924,
     "end_time": "2022-03-27T05:27:07.872258",
     "exception": false,
     "start_time": "2022-03-27T05:27:07.779858",
     "status": "completed"
    },
    "tags": []
   },
   "outputs": [
    {
     "name": "stdout",
     "output_type": "stream",
     "text": [
      "The datatype of the column LotFrontage =  float64\n",
      "The datatype of the column GarageCond =  object\n",
      "The datatype of the column GarageYrBlt =  float64\n",
      "The datatype of the column GarageFinish =  object\n",
      "The datatype of the column GarageQual =  object\n",
      "The datatype of the column GarageType =  object\n",
      "The datatype of the column BsmtCond =  object\n",
      "The datatype of the column BsmtExposure =  object\n",
      "The datatype of the column BsmtQual =  object\n",
      "The datatype of the column BsmtFinType1 =  object\n",
      "The datatype of the column BsmtFinType2 =  object\n",
      "The datatype of the column MasVnrType =  object\n",
      "The datatype of the column MasVnrArea =  float64\n",
      "The datatype of the column MSZoning =  object\n",
      "The datatype of the column Functional =  object\n",
      "The datatype of the column BsmtHalfBath =  float64\n",
      "The datatype of the column Utilities =  object\n",
      "The datatype of the column BsmtFullBath =  float64\n",
      "The datatype of the column BsmtFinSF1 =  float64\n",
      "The datatype of the column BsmtFinSF2 =  float64\n",
      "The datatype of the column BsmtUnfSF =  float64\n",
      "The datatype of the column TotalBsmtSF =  float64\n",
      "The datatype of the column KitchenQual =  object\n",
      "The datatype of the column Exterior2nd =  object\n",
      "The datatype of the column Exterior1st =  object\n",
      "The datatype of the column GarageArea =  float64\n",
      "The datatype of the column SaleType =  object\n",
      "The datatype of the column GarageCars =  float64\n"
     ]
    }
   ],
   "source": [
    "mis_cols_list = ['LotFrontage', 'GarageCond', 'GarageYrBlt', \n",
    "                 'GarageFinish', 'GarageQual', 'GarageType', \n",
    "                 'BsmtCond', 'BsmtExposure', 'BsmtQual', \n",
    "                 'BsmtFinType1', 'BsmtFinType2', 'MasVnrType',\n",
    "                 'MasVnrArea', 'MSZoning', 'Functional', \n",
    "                 'BsmtHalfBath', 'Utilities', 'BsmtFullBath', \n",
    "                 'BsmtFinSF1', 'BsmtFinSF2', 'BsmtUnfSF', \n",
    "                 'TotalBsmtSF', 'KitchenQual', 'Exterior2nd', \n",
    "                'Exterior1st', 'GarageArea', 'SaleType', \n",
    "                 'GarageCars']\n",
    "\n",
    "for column in mis_cols_list:\n",
    "    print(\"The datatype of the column {} = \".format(column), test_df[column].dtype)    "
   ]
  },
  {
   "cell_type": "code",
   "execution_count": 25,
   "id": "8f7717db",
   "metadata": {
    "execution": {
     "iopub.execute_input": "2022-03-27T05:27:08.023462Z",
     "iopub.status.busy": "2022-03-27T05:27:08.022632Z",
     "iopub.status.idle": "2022-03-27T05:27:08.046345Z",
     "shell.execute_reply": "2022-03-27T05:27:08.045619Z",
     "shell.execute_reply.started": "2022-03-27T04:56:32.481677Z"
    },
    "papermill": {
     "duration": 0.102962,
     "end_time": "2022-03-27T05:27:08.046519",
     "exception": false,
     "start_time": "2022-03-27T05:27:07.943557",
     "status": "completed"
    },
    "tags": []
   },
   "outputs": [
    {
     "name": "stdout",
     "output_type": "stream",
     "text": [
      "The number of unique values in column LotFrontage=  115\n",
      "The number of unique values in column GarageCond=  5\n",
      "The number of unique values in column GarageYrBlt=  97\n",
      "The number of unique values in column GarageFinish=  3\n",
      "The number of unique values in column GarageQual=  4\n",
      "The number of unique values in column GarageType=  6\n",
      "The number of unique values in column BsmtCond=  4\n",
      "The number of unique values in column BsmtExposure=  4\n",
      "The number of unique values in column BsmtQual=  4\n",
      "The number of unique values in column BsmtFinType1=  6\n",
      "The number of unique values in column BsmtFinType2=  6\n",
      "The number of unique values in column MasVnrType=  4\n",
      "The number of unique values in column MasVnrArea=  303\n",
      "The number of unique values in column MSZoning=  5\n",
      "The number of unique values in column Functional=  7\n",
      "The number of unique values in column BsmtHalfBath=  3\n",
      "The number of unique values in column Utilities=  1\n",
      "The number of unique values in column BsmtFullBath=  4\n",
      "The number of unique values in column BsmtFinSF1=  669\n",
      "The number of unique values in column BsmtFinSF2=  161\n",
      "The number of unique values in column BsmtUnfSF=  793\n",
      "The number of unique values in column TotalBsmtSF=  736\n",
      "The number of unique values in column KitchenQual=  4\n",
      "The number of unique values in column Exterior2nd=  15\n",
      "The number of unique values in column Exterior1st=  13\n",
      "The number of unique values in column GarageArea=  459\n",
      "The number of unique values in column SaleType=  9\n",
      "The number of unique values in column GarageCars=  6\n"
     ]
    }
   ],
   "source": [
    "for column in mis_cols_list:\n",
    "    print(\"The number of unique values in column {}= \".format(column), test_df[column].nunique())"
   ]
  },
  {
   "cell_type": "code",
   "execution_count": 26,
   "id": "257138ee",
   "metadata": {
    "execution": {
     "iopub.execute_input": "2022-03-27T05:27:08.199638Z",
     "iopub.status.busy": "2022-03-27T05:27:08.198624Z",
     "iopub.status.idle": "2022-03-27T05:27:08.202937Z",
     "shell.execute_reply": "2022-03-27T05:27:08.202316Z",
     "shell.execute_reply.started": "2022-03-27T04:56:32.509678Z"
    },
    "papermill": {
     "duration": 0.084336,
     "end_time": "2022-03-27T05:27:08.203094",
     "exception": false,
     "start_time": "2022-03-27T05:27:08.118758",
     "status": "completed"
    },
    "tags": []
   },
   "outputs": [
    {
     "name": "stdout",
     "output_type": "stream",
     "text": [
      "Unique values in 'BsmtHalfBath': \n",
      " [ 0.  1. nan  2.]\n",
      "Unique values in 'GarageCars': \n",
      " [ 1.  2.  3.  0.  4.  5. nan]\n"
     ]
    }
   ],
   "source": [
    "print(\"Unique values in 'BsmtHalfBath': \\n\", test_df['BsmtHalfBath'].unique())\n",
    "print(\"Unique values in 'GarageCars': \\n\", test_df['GarageCars'].unique())"
   ]
  },
  {
   "cell_type": "markdown",
   "id": "217cc59a",
   "metadata": {
    "papermill": {
     "duration": 0.070179,
     "end_time": "2022-03-27T05:27:08.346095",
     "exception": false,
     "start_time": "2022-03-27T05:27:08.275916",
     "status": "completed"
    },
    "tags": []
   },
   "source": [
    "- The columns 'BsmtHalfBath' and 'GarageCars' are categorical in nature. However it has been identified as float64. We can convert the column to object dtype."
   ]
  },
  {
   "cell_type": "code",
   "execution_count": 27,
   "id": "51c5ebce",
   "metadata": {
    "execution": {
     "iopub.execute_input": "2022-03-27T05:27:08.496417Z",
     "iopub.status.busy": "2022-03-27T05:27:08.495665Z",
     "iopub.status.idle": "2022-03-27T05:27:08.503022Z",
     "shell.execute_reply": "2022-03-27T05:27:08.502407Z",
     "shell.execute_reply.started": "2022-03-27T04:56:32.518618Z"
    },
    "papermill": {
     "duration": 0.084814,
     "end_time": "2022-03-27T05:27:08.503293",
     "exception": false,
     "start_time": "2022-03-27T05:27:08.418479",
     "status": "completed"
    },
    "tags": []
   },
   "outputs": [
    {
     "name": "stdout",
     "output_type": "stream",
     "text": [
      "Datatype of 'BsmtHalfBath':  object\n",
      "Datatype of 'GarageCars':  object\n"
     ]
    }
   ],
   "source": [
    "test_df['BsmtHalfBath'] = test_df['BsmtHalfBath'].astype('object')\n",
    "test_df['GarageCars'] = test_df['GarageCars'].astype('object')\n",
    "\n",
    "print(\"Datatype of 'BsmtHalfBath': \", test_df['BsmtHalfBath'].dtype)\n",
    "print(\"Datatype of 'GarageCars': \", test_df['GarageCars'].dtype)"
   ]
  },
  {
   "cell_type": "code",
   "execution_count": 28,
   "id": "de3a56e1",
   "metadata": {
    "execution": {
     "iopub.execute_input": "2022-03-27T05:27:08.652890Z",
     "iopub.status.busy": "2022-03-27T05:27:08.652207Z",
     "iopub.status.idle": "2022-03-27T05:27:08.668928Z",
     "shell.execute_reply": "2022-03-27T05:27:08.668238Z",
     "shell.execute_reply.started": "2022-03-27T04:56:32.535724Z"
    },
    "papermill": {
     "duration": 0.090875,
     "end_time": "2022-03-27T05:27:08.669094",
     "exception": false,
     "start_time": "2022-03-27T05:27:08.578219",
     "status": "completed"
    },
    "tags": []
   },
   "outputs": [
    {
     "name": "stdout",
     "output_type": "stream",
     "text": [
      "The datatype of the column LotFrontage =  float64\n",
      "The datatype of the column GarageCond =  object\n",
      "The datatype of the column GarageYrBlt =  float64\n",
      "The datatype of the column GarageFinish =  object\n",
      "The datatype of the column GarageQual =  object\n",
      "The datatype of the column GarageType =  object\n",
      "The datatype of the column BsmtCond =  object\n",
      "The datatype of the column BsmtExposure =  object\n",
      "The datatype of the column BsmtQual =  object\n",
      "The datatype of the column BsmtFinType1 =  object\n",
      "The datatype of the column BsmtFinType2 =  object\n",
      "The datatype of the column MasVnrType =  object\n",
      "The datatype of the column MasVnrArea =  float64\n",
      "The datatype of the column MSZoning =  object\n",
      "The datatype of the column Functional =  object\n",
      "The datatype of the column BsmtHalfBath =  object\n",
      "The datatype of the column Utilities =  object\n",
      "The datatype of the column BsmtFullBath =  float64\n",
      "The datatype of the column BsmtFinSF1 =  float64\n",
      "The datatype of the column BsmtFinSF2 =  float64\n",
      "The datatype of the column BsmtUnfSF =  float64\n",
      "The datatype of the column TotalBsmtSF =  float64\n",
      "The datatype of the column KitchenQual =  object\n",
      "The datatype of the column Exterior2nd =  object\n",
      "The datatype of the column Exterior1st =  object\n",
      "The datatype of the column GarageArea =  float64\n",
      "The datatype of the column SaleType =  object\n",
      "The datatype of the column GarageCars =  object\n"
     ]
    }
   ],
   "source": [
    "for column in mis_cols_list:\n",
    "    print(\"The datatype of the column {} = \".format(column), test_df[column].dtype)  "
   ]
  },
  {
   "cell_type": "code",
   "execution_count": 29,
   "id": "d79c0f8b",
   "metadata": {
    "execution": {
     "iopub.execute_input": "2022-03-27T05:27:08.822614Z",
     "iopub.status.busy": "2022-03-27T05:27:08.821887Z",
     "iopub.status.idle": "2022-03-27T05:27:08.846216Z",
     "shell.execute_reply": "2022-03-27T05:27:08.845559Z",
     "shell.execute_reply.started": "2022-03-27T04:56:32.566032Z"
    },
    "papermill": {
     "duration": 0.105959,
     "end_time": "2022-03-27T05:27:08.846400",
     "exception": false,
     "start_time": "2022-03-27T05:27:08.740441",
     "status": "completed"
    },
    "tags": []
   },
   "outputs": [],
   "source": [
    "object_cols_fill =  ['GarageCond', 'GarageFinish', 'GarageQual', 'GarageType', \n",
    "                     'BsmtCond', 'BsmtExposure', 'BsmtQual', 'BsmtFinType1', \n",
    "                     'BsmtFinType2', 'MasVnrType', 'MSZoning', 'Functional', \n",
    "                     'BsmtHalfBath', 'Utilities', 'KitchenQual', 'Exterior2nd', \n",
    "                     'Exterior1st', 'SaleType', 'GarageCars']\n",
    "numeric_cols_fill = ['LotFrontage', 'GarageYrBlt', 'MasVnrArea', 'BsmtFullBath', \n",
    "                     'BsmtFinSF1', 'BsmtFinSF2', 'BsmtUnfSF', 'TotalBsmtSF', 'GarageArea']\n",
    "\n",
    "for column in object_cols_fill:\n",
    "    test_df[column] = test_df[column].fillna(test_df[column].mode()[0])\n",
    "    \n",
    "for column in numeric_cols_fill:\n",
    "    test_df[column] = test_df[column].fillna(test_df[column].mean())"
   ]
  },
  {
   "cell_type": "code",
   "execution_count": 30,
   "id": "1e66655b",
   "metadata": {
    "execution": {
     "iopub.execute_input": "2022-03-27T05:27:09.009031Z",
     "iopub.status.busy": "2022-03-27T05:27:09.008260Z",
     "iopub.status.idle": "2022-03-27T05:27:09.012984Z",
     "shell.execute_reply": "2022-03-27T05:27:09.012363Z",
     "shell.execute_reply.started": "2022-03-27T04:56:32.603403Z"
    },
    "papermill": {
     "duration": 0.092889,
     "end_time": "2022-03-27T05:27:09.013161",
     "exception": false,
     "start_time": "2022-03-27T05:27:08.920272",
     "status": "completed"
    },
    "tags": []
   },
   "outputs": [
    {
     "data": {
      "text/plain": [
       "False    74\n",
       "dtype: int64"
      ]
     },
     "execution_count": 30,
     "metadata": {},
     "output_type": "execute_result"
    }
   ],
   "source": [
    "test_df.isnull().any().value_counts()"
   ]
  },
  {
   "cell_type": "code",
   "execution_count": 31,
   "id": "aeb7e046",
   "metadata": {
    "execution": {
     "iopub.execute_input": "2022-03-27T05:27:09.164207Z",
     "iopub.status.busy": "2022-03-27T05:27:09.163444Z",
     "iopub.status.idle": "2022-03-27T05:27:09.167424Z",
     "shell.execute_reply": "2022-03-27T05:27:09.166724Z",
     "shell.execute_reply.started": "2022-03-27T04:56:32.624065Z"
    },
    "papermill": {
     "duration": 0.081669,
     "end_time": "2022-03-27T05:27:09.167586",
     "exception": false,
     "start_time": "2022-03-27T05:27:09.085917",
     "status": "completed"
    },
    "tags": []
   },
   "outputs": [
    {
     "data": {
      "text/plain": [
       "((1460, 75), (1459, 74))"
      ]
     },
     "execution_count": 31,
     "metadata": {},
     "output_type": "execute_result"
    }
   ],
   "source": [
    "train_df.shape, test_df.shape"
   ]
  },
  {
   "cell_type": "code",
   "execution_count": 32,
   "id": "53fa7bf9",
   "metadata": {
    "execution": {
     "iopub.execute_input": "2022-03-27T05:27:09.320495Z",
     "iopub.status.busy": "2022-03-27T05:27:09.319684Z",
     "iopub.status.idle": "2022-03-27T05:27:09.338696Z",
     "shell.execute_reply": "2022-03-27T05:27:09.338108Z",
     "shell.execute_reply.started": "2022-03-27T04:56:32.634742Z"
    },
    "papermill": {
     "duration": 0.098361,
     "end_time": "2022-03-27T05:27:09.338885",
     "exception": false,
     "start_time": "2022-03-27T05:27:09.240524",
     "status": "completed"
    },
    "tags": []
   },
   "outputs": [
    {
     "data": {
      "text/plain": [
       "(2919, 75)"
      ]
     },
     "execution_count": 32,
     "metadata": {},
     "output_type": "execute_result"
    }
   ],
   "source": [
    "combined_df = pd.concat([train_df, test_df], axis=0)\n",
    "combined_df.shape"
   ]
  },
  {
   "cell_type": "code",
   "execution_count": 33,
   "id": "f8e2d8dc",
   "metadata": {
    "execution": {
     "iopub.execute_input": "2022-03-27T05:27:09.495982Z",
     "iopub.status.busy": "2022-03-27T05:27:09.495168Z",
     "iopub.status.idle": "2022-03-27T05:27:09.507240Z",
     "shell.execute_reply": "2022-03-27T05:27:09.506537Z",
     "shell.execute_reply.started": "2022-03-27T04:56:32.664824Z"
    },
    "papermill": {
     "duration": 0.093905,
     "end_time": "2022-03-27T05:27:09.507394",
     "exception": false,
     "start_time": "2022-03-27T05:27:09.413489",
     "status": "completed"
    },
    "tags": []
   },
   "outputs": [
    {
     "data": {
      "text/plain": [
       "((2919, 37), (2919, 38))"
      ]
     },
     "execution_count": 33,
     "metadata": {},
     "output_type": "execute_result"
    }
   ],
   "source": [
    "numerical_df = combined_df.select_dtypes(include=['int64', 'float64'])\n",
    "categorical_df = combined_df.select_dtypes(include='object')\n",
    "\n",
    "numerical_df.shape, categorical_df.shape"
   ]
  },
  {
   "cell_type": "code",
   "execution_count": 34,
   "id": "df85b77a",
   "metadata": {
    "execution": {
     "iopub.execute_input": "2022-03-27T05:27:09.661128Z",
     "iopub.status.busy": "2022-03-27T05:27:09.660402Z",
     "iopub.status.idle": "2022-03-27T05:27:09.664561Z",
     "shell.execute_reply": "2022-03-27T05:27:09.663988Z",
     "shell.execute_reply.started": "2022-03-27T04:56:32.685037Z"
    },
    "papermill": {
     "duration": 0.083809,
     "end_time": "2022-03-27T05:27:09.664723",
     "exception": false,
     "start_time": "2022-03-27T05:27:09.580914",
     "status": "completed"
    },
    "tags": []
   },
   "outputs": [
    {
     "data": {
      "text/plain": [
       "Index(['MSSubClass', 'LotFrontage', 'LotArea', 'OverallQual', 'OverallCond',\n",
       "       'YearBuilt', 'YearRemodAdd', 'MasVnrArea', 'BsmtFinSF1', 'BsmtFinSF2',\n",
       "       'BsmtUnfSF', 'TotalBsmtSF', '1stFlrSF', '2ndFlrSF', 'LowQualFinSF',\n",
       "       'GrLivArea', 'BsmtFullBath', 'BsmtHalfBath', 'FullBath', 'HalfBath',\n",
       "       'BedroomAbvGr', 'KitchenAbvGr', 'TotRmsAbvGrd', 'Fireplaces',\n",
       "       'GarageYrBlt', 'GarageCars', 'GarageArea', 'WoodDeckSF', 'OpenPorchSF',\n",
       "       'EnclosedPorch', '3SsnPorch', 'ScreenPorch', 'PoolArea', 'MiscVal',\n",
       "       'MoSold', 'YrSold', 'SalePrice'],\n",
       "      dtype='object')"
      ]
     },
     "execution_count": 34,
     "metadata": {},
     "output_type": "execute_result"
    }
   ],
   "source": [
    "numerical_df.columns"
   ]
  },
  {
   "cell_type": "code",
   "execution_count": 35,
   "id": "4ec91da1",
   "metadata": {
    "execution": {
     "iopub.execute_input": "2022-03-27T05:27:09.819159Z",
     "iopub.status.busy": "2022-03-27T05:27:09.818297Z",
     "iopub.status.idle": "2022-03-27T05:27:09.822804Z",
     "shell.execute_reply": "2022-03-27T05:27:09.822049Z",
     "shell.execute_reply.started": "2022-03-27T04:56:32.694515Z"
    },
    "papermill": {
     "duration": 0.084531,
     "end_time": "2022-03-27T05:27:09.822967",
     "exception": false,
     "start_time": "2022-03-27T05:27:09.738436",
     "status": "completed"
    },
    "tags": []
   },
   "outputs": [
    {
     "data": {
      "text/plain": [
       "Index(['MSZoning', 'Street', 'LotShape', 'LandContour', 'Utilities',\n",
       "       'LotConfig', 'LandSlope', 'Neighborhood', 'Condition1', 'Condition2',\n",
       "       'BldgType', 'HouseStyle', 'RoofStyle', 'RoofMatl', 'Exterior1st',\n",
       "       'Exterior2nd', 'MasVnrType', 'ExterQual', 'ExterCond', 'Foundation',\n",
       "       'BsmtQual', 'BsmtCond', 'BsmtExposure', 'BsmtFinType1', 'BsmtFinType2',\n",
       "       'Heating', 'HeatingQC', 'CentralAir', 'Electrical', 'KitchenQual',\n",
       "       'Functional', 'GarageType', 'GarageFinish', 'GarageQual', 'GarageCond',\n",
       "       'PavedDrive', 'SaleType', 'SaleCondition'],\n",
       "      dtype='object')"
      ]
     },
     "execution_count": 35,
     "metadata": {},
     "output_type": "execute_result"
    }
   ],
   "source": [
    "categorical_df.columns"
   ]
  },
  {
   "cell_type": "code",
   "execution_count": 36,
   "id": "81f31598",
   "metadata": {
    "execution": {
     "iopub.execute_input": "2022-03-27T05:27:09.981896Z",
     "iopub.status.busy": "2022-03-27T05:27:09.981021Z",
     "iopub.status.idle": "2022-03-27T05:27:10.209464Z",
     "shell.execute_reply": "2022-03-27T05:27:10.210165Z",
     "shell.execute_reply.started": "2022-03-27T04:56:32.712229Z"
    },
    "papermill": {
     "duration": 0.312576,
     "end_time": "2022-03-27T05:27:10.210451",
     "exception": false,
     "start_time": "2022-03-27T05:27:09.897875",
     "status": "completed"
    },
    "tags": []
   },
   "outputs": [
    {
     "data": {
      "text/html": [
       "<div>\n",
       "<style scoped>\n",
       "    .dataframe tbody tr th:only-of-type {\n",
       "        vertical-align: middle;\n",
       "    }\n",
       "\n",
       "    .dataframe tbody tr th {\n",
       "        vertical-align: top;\n",
       "    }\n",
       "\n",
       "    .dataframe thead th {\n",
       "        text-align: right;\n",
       "    }\n",
       "</style>\n",
       "<table border=\"1\" class=\"dataframe\">\n",
       "  <thead>\n",
       "    <tr style=\"text-align: right;\">\n",
       "      <th></th>\n",
       "      <th>MSZoning</th>\n",
       "      <th>Street</th>\n",
       "      <th>LotShape</th>\n",
       "      <th>LandContour</th>\n",
       "      <th>Utilities</th>\n",
       "      <th>LotConfig</th>\n",
       "      <th>LandSlope</th>\n",
       "      <th>Neighborhood</th>\n",
       "      <th>Condition1</th>\n",
       "      <th>Condition2</th>\n",
       "      <th>...</th>\n",
       "      <th>Electrical</th>\n",
       "      <th>KitchenQual</th>\n",
       "      <th>Functional</th>\n",
       "      <th>GarageType</th>\n",
       "      <th>GarageFinish</th>\n",
       "      <th>GarageQual</th>\n",
       "      <th>GarageCond</th>\n",
       "      <th>PavedDrive</th>\n",
       "      <th>SaleType</th>\n",
       "      <th>SaleCondition</th>\n",
       "    </tr>\n",
       "    <tr>\n",
       "      <th>Id</th>\n",
       "      <th></th>\n",
       "      <th></th>\n",
       "      <th></th>\n",
       "      <th></th>\n",
       "      <th></th>\n",
       "      <th></th>\n",
       "      <th></th>\n",
       "      <th></th>\n",
       "      <th></th>\n",
       "      <th></th>\n",
       "      <th></th>\n",
       "      <th></th>\n",
       "      <th></th>\n",
       "      <th></th>\n",
       "      <th></th>\n",
       "      <th></th>\n",
       "      <th></th>\n",
       "      <th></th>\n",
       "      <th></th>\n",
       "      <th></th>\n",
       "      <th></th>\n",
       "    </tr>\n",
       "  </thead>\n",
       "  <tbody>\n",
       "    <tr>\n",
       "      <th>1</th>\n",
       "      <td>3</td>\n",
       "      <td>1</td>\n",
       "      <td>3</td>\n",
       "      <td>3</td>\n",
       "      <td>0</td>\n",
       "      <td>4</td>\n",
       "      <td>0</td>\n",
       "      <td>5</td>\n",
       "      <td>2</td>\n",
       "      <td>2</td>\n",
       "      <td>...</td>\n",
       "      <td>4</td>\n",
       "      <td>2</td>\n",
       "      <td>6</td>\n",
       "      <td>1</td>\n",
       "      <td>1</td>\n",
       "      <td>4</td>\n",
       "      <td>4</td>\n",
       "      <td>2</td>\n",
       "      <td>8</td>\n",
       "      <td>4</td>\n",
       "    </tr>\n",
       "    <tr>\n",
       "      <th>2</th>\n",
       "      <td>3</td>\n",
       "      <td>1</td>\n",
       "      <td>3</td>\n",
       "      <td>3</td>\n",
       "      <td>0</td>\n",
       "      <td>2</td>\n",
       "      <td>0</td>\n",
       "      <td>24</td>\n",
       "      <td>1</td>\n",
       "      <td>2</td>\n",
       "      <td>...</td>\n",
       "      <td>4</td>\n",
       "      <td>3</td>\n",
       "      <td>6</td>\n",
       "      <td>1</td>\n",
       "      <td>1</td>\n",
       "      <td>4</td>\n",
       "      <td>4</td>\n",
       "      <td>2</td>\n",
       "      <td>8</td>\n",
       "      <td>4</td>\n",
       "    </tr>\n",
       "    <tr>\n",
       "      <th>3</th>\n",
       "      <td>3</td>\n",
       "      <td>1</td>\n",
       "      <td>0</td>\n",
       "      <td>3</td>\n",
       "      <td>0</td>\n",
       "      <td>4</td>\n",
       "      <td>0</td>\n",
       "      <td>5</td>\n",
       "      <td>2</td>\n",
       "      <td>2</td>\n",
       "      <td>...</td>\n",
       "      <td>4</td>\n",
       "      <td>2</td>\n",
       "      <td>6</td>\n",
       "      <td>1</td>\n",
       "      <td>1</td>\n",
       "      <td>4</td>\n",
       "      <td>4</td>\n",
       "      <td>2</td>\n",
       "      <td>8</td>\n",
       "      <td>4</td>\n",
       "    </tr>\n",
       "    <tr>\n",
       "      <th>4</th>\n",
       "      <td>3</td>\n",
       "      <td>1</td>\n",
       "      <td>0</td>\n",
       "      <td>3</td>\n",
       "      <td>0</td>\n",
       "      <td>0</td>\n",
       "      <td>0</td>\n",
       "      <td>6</td>\n",
       "      <td>2</td>\n",
       "      <td>2</td>\n",
       "      <td>...</td>\n",
       "      <td>4</td>\n",
       "      <td>2</td>\n",
       "      <td>6</td>\n",
       "      <td>5</td>\n",
       "      <td>2</td>\n",
       "      <td>4</td>\n",
       "      <td>4</td>\n",
       "      <td>2</td>\n",
       "      <td>8</td>\n",
       "      <td>0</td>\n",
       "    </tr>\n",
       "    <tr>\n",
       "      <th>5</th>\n",
       "      <td>3</td>\n",
       "      <td>1</td>\n",
       "      <td>0</td>\n",
       "      <td>3</td>\n",
       "      <td>0</td>\n",
       "      <td>2</td>\n",
       "      <td>0</td>\n",
       "      <td>15</td>\n",
       "      <td>2</td>\n",
       "      <td>2</td>\n",
       "      <td>...</td>\n",
       "      <td>4</td>\n",
       "      <td>2</td>\n",
       "      <td>6</td>\n",
       "      <td>1</td>\n",
       "      <td>1</td>\n",
       "      <td>4</td>\n",
       "      <td>4</td>\n",
       "      <td>2</td>\n",
       "      <td>8</td>\n",
       "      <td>4</td>\n",
       "    </tr>\n",
       "  </tbody>\n",
       "</table>\n",
       "<p>5 rows × 38 columns</p>\n",
       "</div>"
      ],
      "text/plain": [
       "    MSZoning  Street  LotShape  LandContour  Utilities  LotConfig  LandSlope  \\\n",
       "Id                                                                             \n",
       "1          3       1         3            3          0          4          0   \n",
       "2          3       1         3            3          0          2          0   \n",
       "3          3       1         0            3          0          4          0   \n",
       "4          3       1         0            3          0          0          0   \n",
       "5          3       1         0            3          0          2          0   \n",
       "\n",
       "    Neighborhood  Condition1  Condition2  ...  Electrical  KitchenQual  \\\n",
       "Id                                        ...                            \n",
       "1              5           2           2  ...           4            2   \n",
       "2             24           1           2  ...           4            3   \n",
       "3              5           2           2  ...           4            2   \n",
       "4              6           2           2  ...           4            2   \n",
       "5             15           2           2  ...           4            2   \n",
       "\n",
       "    Functional  GarageType  GarageFinish  GarageQual  GarageCond  PavedDrive  \\\n",
       "Id                                                                             \n",
       "1            6           1             1           4           4           2   \n",
       "2            6           1             1           4           4           2   \n",
       "3            6           1             1           4           4           2   \n",
       "4            6           5             2           4           4           2   \n",
       "5            6           1             1           4           4           2   \n",
       "\n",
       "    SaleType  SaleCondition  \n",
       "Id                           \n",
       "1          8              4  \n",
       "2          8              4  \n",
       "3          8              4  \n",
       "4          8              0  \n",
       "5          8              4  \n",
       "\n",
       "[5 rows x 38 columns]"
      ]
     },
     "execution_count": 36,
     "metadata": {},
     "output_type": "execute_result"
    }
   ],
   "source": [
    "from sklearn.preprocessing import LabelEncoder\n",
    "le = LabelEncoder()\n",
    "\n",
    "categorical_dummy_df = categorical_df.apply(le.fit_transform)\n",
    "categorical_dummy_df.head()"
   ]
  },
  {
   "cell_type": "code",
   "execution_count": 37,
   "id": "662071f9",
   "metadata": {
    "execution": {
     "iopub.execute_input": "2022-03-27T05:27:10.373069Z",
     "iopub.status.busy": "2022-03-27T05:27:10.372282Z",
     "iopub.status.idle": "2022-03-27T05:27:10.375142Z",
     "shell.execute_reply": "2022-03-27T05:27:10.375645Z",
     "shell.execute_reply.started": "2022-03-27T04:56:32.936207Z"
    },
    "papermill": {
     "duration": 0.087756,
     "end_time": "2022-03-27T05:27:10.375858",
     "exception": false,
     "start_time": "2022-03-27T05:27:10.288102",
     "status": "completed"
    },
    "tags": []
   },
   "outputs": [
    {
     "data": {
      "text/plain": [
       "(2919, 75)"
      ]
     },
     "execution_count": 37,
     "metadata": {},
     "output_type": "execute_result"
    }
   ],
   "source": [
    "clean_df = pd.concat([numerical_df, categorical_dummy_df], axis=1)\n",
    "clean_df.shape"
   ]
  },
  {
   "cell_type": "code",
   "execution_count": 38,
   "id": "a00e4349",
   "metadata": {
    "execution": {
     "iopub.execute_input": "2022-03-27T05:27:10.533348Z",
     "iopub.status.busy": "2022-03-27T05:27:10.532549Z",
     "iopub.status.idle": "2022-03-27T05:27:10.538750Z",
     "shell.execute_reply": "2022-03-27T05:27:10.539302Z",
     "shell.execute_reply.started": "2022-03-27T04:56:32.951954Z"
    },
    "papermill": {
     "duration": 0.087819,
     "end_time": "2022-03-27T05:27:10.539505",
     "exception": false,
     "start_time": "2022-03-27T05:27:10.451686",
     "status": "completed"
    },
    "tags": []
   },
   "outputs": [
    {
     "data": {
      "text/plain": [
       "((1460, 75), (1459, 75))"
      ]
     },
     "execution_count": 38,
     "metadata": {},
     "output_type": "execute_result"
    }
   ],
   "source": [
    "df_train = clean_df.iloc[:1460, :]\n",
    "df_test = clean_df.iloc[1460:, :]\n",
    "\n",
    "df_train.shape, df_test.shape"
   ]
  },
  {
   "cell_type": "code",
   "execution_count": 39,
   "id": "3a7cc67f",
   "metadata": {
    "execution": {
     "iopub.execute_input": "2022-03-27T05:27:10.695645Z",
     "iopub.status.busy": "2022-03-27T05:27:10.694918Z",
     "iopub.status.idle": "2022-03-27T05:27:10.702606Z",
     "shell.execute_reply": "2022-03-27T05:27:10.701877Z",
     "shell.execute_reply.started": "2022-03-27T04:56:32.962320Z"
    },
    "papermill": {
     "duration": 0.087143,
     "end_time": "2022-03-27T05:27:10.702789",
     "exception": false,
     "start_time": "2022-03-27T05:27:10.615646",
     "status": "completed"
    },
    "tags": []
   },
   "outputs": [
    {
     "data": {
      "text/plain": [
       "array([nan])"
      ]
     },
     "execution_count": 39,
     "metadata": {},
     "output_type": "execute_result"
    }
   ],
   "source": [
    "df_test['SalePrice'].unique()"
   ]
  },
  {
   "cell_type": "code",
   "execution_count": 40,
   "id": "06ec597a",
   "metadata": {
    "execution": {
     "iopub.execute_input": "2022-03-27T05:27:10.862629Z",
     "iopub.status.busy": "2022-03-27T05:27:10.861835Z",
     "iopub.status.idle": "2022-03-27T05:27:10.876503Z",
     "shell.execute_reply": "2022-03-27T05:27:10.875838Z",
     "shell.execute_reply.started": "2022-03-27T04:56:32.975184Z"
    },
    "papermill": {
     "duration": 0.097215,
     "end_time": "2022-03-27T05:27:10.876670",
     "exception": false,
     "start_time": "2022-03-27T05:27:10.779455",
     "status": "completed"
    },
    "tags": []
   },
   "outputs": [
    {
     "name": "stderr",
     "output_type": "stream",
     "text": [
      "/opt/conda/lib/python3.7/site-packages/pandas/core/frame.py:4913: SettingWithCopyWarning: \n",
      "A value is trying to be set on a copy of a slice from a DataFrame\n",
      "\n",
      "See the caveats in the documentation: https://pandas.pydata.org/pandas-docs/stable/user_guide/indexing.html#returning-a-view-versus-a-copy\n",
      "  errors=errors,\n"
     ]
    },
    {
     "data": {
      "text/plain": [
       "(1459, 74)"
      ]
     },
     "execution_count": 40,
     "metadata": {},
     "output_type": "execute_result"
    }
   ],
   "source": [
    "df_test.drop(['SalePrice'], axis=1, inplace=True)\n",
    "df_test.shape"
   ]
  },
  {
   "cell_type": "markdown",
   "id": "1ff2510b",
   "metadata": {
    "papermill": {
     "duration": 0.076258,
     "end_time": "2022-03-27T05:27:11.031195",
     "exception": false,
     "start_time": "2022-03-27T05:27:10.954937",
     "status": "completed"
    },
    "tags": []
   },
   "source": [
    "## Perform Test-Train Split"
   ]
  },
  {
   "cell_type": "code",
   "execution_count": 41,
   "id": "04436756",
   "metadata": {
    "execution": {
     "iopub.execute_input": "2022-03-27T05:27:11.194360Z",
     "iopub.status.busy": "2022-03-27T05:27:11.193563Z",
     "iopub.status.idle": "2022-03-27T05:27:11.261148Z",
     "shell.execute_reply": "2022-03-27T05:27:11.260492Z",
     "shell.execute_reply.started": "2022-03-27T04:56:32.994648Z"
    },
    "papermill": {
     "duration": 0.148896,
     "end_time": "2022-03-27T05:27:11.261342",
     "exception": false,
     "start_time": "2022-03-27T05:27:11.112446",
     "status": "completed"
    },
    "tags": []
   },
   "outputs": [
    {
     "data": {
      "text/plain": [
       "((1022, 74), (438, 74), (1022,), (438,))"
      ]
     },
     "execution_count": 41,
     "metadata": {},
     "output_type": "execute_result"
    }
   ],
   "source": [
    "X = df_train.drop(['SalePrice'], axis=1)\n",
    "y = df_train['SalePrice']\n",
    "\n",
    "from sklearn.model_selection import train_test_split\n",
    "X_train, X_test, y_train, y_test = train_test_split(X, y, test_size=0.3, random_state=42)\n",
    "\n",
    "X_train.shape, X_test.shape, y_train.shape, y_test.shape"
   ]
  },
  {
   "cell_type": "markdown",
   "id": "78d0a6a9",
   "metadata": {
    "papermill": {
     "duration": 0.07679,
     "end_time": "2022-03-27T05:27:11.416359",
     "exception": false,
     "start_time": "2022-03-27T05:27:11.339569",
     "status": "completed"
    },
    "tags": []
   },
   "source": [
    "## Build Model - Linear Regression"
   ]
  },
  {
   "cell_type": "code",
   "execution_count": 42,
   "id": "aeb7431c",
   "metadata": {
    "execution": {
     "iopub.execute_input": "2022-03-27T05:27:11.577379Z",
     "iopub.status.busy": "2022-03-27T05:27:11.576398Z",
     "iopub.status.idle": "2022-03-27T05:27:11.702230Z",
     "shell.execute_reply": "2022-03-27T05:27:11.703185Z",
     "shell.execute_reply.started": "2022-03-27T04:56:33.062728Z"
    },
    "papermill": {
     "duration": 0.210267,
     "end_time": "2022-03-27T05:27:11.703514",
     "exception": false,
     "start_time": "2022-03-27T05:27:11.493247",
     "status": "completed"
    },
    "tags": []
   },
   "outputs": [
    {
     "data": {
      "text/plain": [
       "0.8430172189199491"
      ]
     },
     "execution_count": 42,
     "metadata": {},
     "output_type": "execute_result"
    }
   ],
   "source": [
    "from sklearn.linear_model import LinearRegression\n",
    "lr = LinearRegression()\n",
    "\n",
    "LinearRegression_model = lr.fit(X_train, y_train)\n",
    "LinearRegression_model.score(X, y)"
   ]
  },
  {
   "cell_type": "code",
   "execution_count": 43,
   "id": "88a2e0e2",
   "metadata": {
    "execution": {
     "iopub.execute_input": "2022-03-27T05:27:11.942651Z",
     "iopub.status.busy": "2022-03-27T05:27:11.941934Z",
     "iopub.status.idle": "2022-03-27T05:27:11.946130Z",
     "shell.execute_reply": "2022-03-27T05:27:11.946709Z",
     "shell.execute_reply.started": "2022-03-27T04:56:33.209781Z"
    },
    "papermill": {
     "duration": 0.089141,
     "end_time": "2022-03-27T05:27:11.946941",
     "exception": false,
     "start_time": "2022-03-27T05:27:11.857800",
     "status": "completed"
    },
    "tags": []
   },
   "outputs": [
    {
     "data": {
      "text/plain": [
       "\"import pickle\\nfilename = 'saved_linear_regression_model'\\npickle.dump(LinearRegression_model, open(filename, 'wb'))\""
      ]
     },
     "execution_count": 43,
     "metadata": {},
     "output_type": "execute_result"
    }
   ],
   "source": [
    "'''import pickle\n",
    "filename = 'saved_linear_regression_model'\n",
    "pickle.dump(LinearRegression_model, open(filename, 'wb'))'''"
   ]
  },
  {
   "cell_type": "code",
   "execution_count": 44,
   "id": "e42f9441",
   "metadata": {
    "execution": {
     "iopub.execute_input": "2022-03-27T05:27:12.114467Z",
     "iopub.status.busy": "2022-03-27T05:27:12.113686Z",
     "iopub.status.idle": "2022-03-27T05:27:12.127169Z",
     "shell.execute_reply": "2022-03-27T05:27:12.128077Z",
     "shell.execute_reply.started": "2022-03-27T04:56:33.227930Z"
    },
    "papermill": {
     "duration": 0.100924,
     "end_time": "2022-03-27T05:27:12.128428",
     "exception": false,
     "start_time": "2022-03-27T05:27:12.027504",
     "status": "completed"
    },
    "tags": []
   },
   "outputs": [
    {
     "data": {
      "text/plain": [
       "array([107220.37003131, 130307.49337306, 164736.22239227, ...,\n",
       "       140076.73500816, 115107.06840367, 254525.49483438])"
      ]
     },
     "execution_count": 44,
     "metadata": {},
     "output_type": "execute_result"
    }
   ],
   "source": [
    "y_test_pred_lr = LinearRegression_model.predict(df_test)\n",
    "y_test_pred_lr"
   ]
  },
  {
   "cell_type": "code",
   "execution_count": 45,
   "id": "1a054ef8",
   "metadata": {
    "execution": {
     "iopub.execute_input": "2022-03-27T05:27:12.344785Z",
     "iopub.status.busy": "2022-03-27T05:27:12.343808Z",
     "iopub.status.idle": "2022-03-27T05:27:12.347520Z",
     "shell.execute_reply": "2022-03-27T05:27:12.348035Z",
     "shell.execute_reply.started": "2022-03-27T04:56:33.259741Z"
    },
    "papermill": {
     "duration": 0.089036,
     "end_time": "2022-03-27T05:27:12.348231",
     "exception": false,
     "start_time": "2022-03-27T05:27:12.259195",
     "status": "completed"
    },
    "tags": []
   },
   "outputs": [
    {
     "data": {
      "text/plain": [
       "\"prediction_df = pd.DataFrame(y_test_pred_lr)\\nsample_df = pd.read_csv('/kaggle/input/house-prices-advanced-regression-techniques/sample_submission.csv')\\nsubmission_df = pd.concat([sample_df['Id'], prediction_df], axis=1)\\nsubmission_df.columns  = ['Id', 'SalePrice']\\nsubmission_df.to_csv('sample_submission.csv', index=False)\""
      ]
     },
     "execution_count": 45,
     "metadata": {},
     "output_type": "execute_result"
    }
   ],
   "source": [
    "'''prediction_df = pd.DataFrame(y_test_pred_lr)\n",
    "sample_df = pd.read_csv('/kaggle/input/house-prices-advanced-regression-techniques/sample_submission.csv')\n",
    "submission_df = pd.concat([sample_df['Id'], prediction_df], axis=1)\n",
    "submission_df.columns  = ['Id', 'SalePrice']\n",
    "submission_df.to_csv('sample_submission.csv', index=False)'''"
   ]
  },
  {
   "cell_type": "markdown",
   "id": "1f7c67ed",
   "metadata": {
    "papermill": {
     "duration": 0.078269,
     "end_time": "2022-03-27T05:27:12.504741",
     "exception": false,
     "start_time": "2022-03-27T05:27:12.426472",
     "status": "completed"
    },
    "tags": []
   },
   "source": [
    "## Build Model - Stepwise Regression"
   ]
  },
  {
   "cell_type": "code",
   "execution_count": 46,
   "id": "ca84c5e7",
   "metadata": {
    "execution": {
     "iopub.execute_input": "2022-03-27T05:27:12.668472Z",
     "iopub.status.busy": "2022-03-27T05:27:12.667702Z",
     "iopub.status.idle": "2022-03-27T05:27:14.945001Z",
     "shell.execute_reply": "2022-03-27T05:27:14.944418Z",
     "shell.execute_reply.started": "2022-03-27T05:22:53.985999Z"
    },
    "papermill": {
     "duration": 2.361133,
     "end_time": "2022-03-27T05:27:14.945181",
     "exception": false,
     "start_time": "2022-03-27T05:27:12.584048",
     "status": "completed"
    },
    "tags": []
   },
   "outputs": [
    {
     "data": {
      "text/plain": [
       "0.9810471250335387"
      ]
     },
     "execution_count": 46,
     "metadata": {},
     "output_type": "execute_result"
    }
   ],
   "source": [
    "from sklearn.ensemble import RandomForestRegressor\n",
    "RF_reg = RandomForestRegressor()\n",
    "\n",
    "rand_fst_reg_model = RF_reg.fit(X, y)\n",
    "rand_fst_reg_model.score(X, y)"
   ]
  },
  {
   "cell_type": "code",
   "execution_count": 47,
   "id": "1f4cea07",
   "metadata": {
    "execution": {
     "iopub.execute_input": "2022-03-27T05:27:15.122851Z",
     "iopub.status.busy": "2022-03-27T05:27:15.121822Z",
     "iopub.status.idle": "2022-03-27T05:27:15.177994Z",
     "shell.execute_reply": "2022-03-27T05:27:15.178630Z",
     "shell.execute_reply.started": "2022-03-27T05:24:30.577703Z"
    },
    "papermill": {
     "duration": 0.151386,
     "end_time": "2022-03-27T05:27:15.178870",
     "exception": false,
     "start_time": "2022-03-27T05:27:15.027484",
     "status": "completed"
    },
    "tags": []
   },
   "outputs": [
    {
     "data": {
      "text/plain": [
       "array([128332.58, 158034.4 , 184917.  , ..., 156591.09, 114287.  ,\n",
       "       227795.83])"
      ]
     },
     "execution_count": 47,
     "metadata": {},
     "output_type": "execute_result"
    }
   ],
   "source": [
    "y_test_pred_rfr = rand_fst_reg_model.predict(df_test)\n",
    "y_test_pred_rfr"
   ]
  },
  {
   "cell_type": "code",
   "execution_count": 48,
   "id": "65aaceb1",
   "metadata": {
    "execution": {
     "iopub.execute_input": "2022-03-27T05:27:15.353430Z",
     "iopub.status.busy": "2022-03-27T05:27:15.352658Z",
     "iopub.status.idle": "2022-03-27T05:27:15.377758Z",
     "shell.execute_reply": "2022-03-27T05:27:15.378396Z",
     "shell.execute_reply.started": "2022-03-27T05:25:42.149132Z"
    },
    "papermill": {
     "duration": 0.110294,
     "end_time": "2022-03-27T05:27:15.378608",
     "exception": false,
     "start_time": "2022-03-27T05:27:15.268314",
     "status": "completed"
    },
    "tags": []
   },
   "outputs": [],
   "source": [
    "prediction_df = pd.DataFrame(y_test_pred_rfr)\n",
    "sample_df = pd.read_csv('/kaggle/input/house-prices-advanced-regression-techniques/sample_submission.csv')\n",
    "submission_df = pd.concat([sample_df['Id'], prediction_df], axis=1)\n",
    "submission_df.columns  = ['Id', 'SalePrice']\n",
    "submission_df.to_csv('sample_submission.csv', index=False)"
   ]
  }
 ],
 "metadata": {
  "kernelspec": {
   "display_name": "Python 3",
   "language": "python",
   "name": "python3"
  },
  "language_info": {
   "codemirror_mode": {
    "name": "ipython",
    "version": 3
   },
   "file_extension": ".py",
   "mimetype": "text/x-python",
   "name": "python",
   "nbconvert_exporter": "python",
   "pygments_lexer": "ipython3",
   "version": "3.7.12"
  },
  "papermill": {
   "default_parameters": {},
   "duration": 32.558063,
   "end_time": "2022-03-27T05:27:16.574196",
   "environment_variables": {},
   "exception": null,
   "input_path": "__notebook__.ipynb",
   "output_path": "__notebook__.ipynb",
   "parameters": {},
   "start_time": "2022-03-27T05:26:44.016133",
   "version": "2.3.3"
  }
 },
 "nbformat": 4,
 "nbformat_minor": 5
}
