{
 "cells": [
  {
   "cell_type": "code",
   "execution_count": 1,
   "id": "99d0c158",
   "metadata": {
    "_cell_guid": "b1076dfc-b9ad-4769-8c92-a6c4dae69d19",
    "_uuid": "8f2839f25d086af736a60e9eeb907d3b93b6e0e5",
    "execution": {
     "iopub.execute_input": "2022-03-26T15:41:54.480774Z",
     "iopub.status.busy": "2022-03-26T15:41:54.479037Z",
     "iopub.status.idle": "2022-03-26T15:41:54.494435Z",
     "shell.execute_reply": "2022-03-26T15:41:54.495111Z",
     "shell.execute_reply.started": "2022-03-26T14:36:52.412582Z"
    },
    "papermill": {
     "duration": 0.056648,
     "end_time": "2022-03-26T15:41:54.495493",
     "exception": false,
     "start_time": "2022-03-26T15:41:54.438845",
     "status": "completed"
    },
    "tags": []
   },
   "outputs": [
    {
     "name": "stdout",
     "output_type": "stream",
     "text": [
      "/kaggle/input/house-prices-advanced-regression-techniques/sample_submission.csv\n",
      "/kaggle/input/house-prices-advanced-regression-techniques/data_description.txt\n",
      "/kaggle/input/house-prices-advanced-regression-techniques/train.csv\n",
      "/kaggle/input/house-prices-advanced-regression-techniques/test.csv\n"
     ]
    }
   ],
   "source": [
    "# This Python 3 environment comes with many helpful analytics libraries installed\n",
    "# It is defined by the kaggle/python Docker image: https://github.com/kaggle/docker-python\n",
    "# For example, here's several helpful packages to load\n",
    "\n",
    "import numpy as np # linear algebra\n",
    "import pandas as pd # data processing, CSV file I/O (e.g. pd.read_csv)\n",
    "\n",
    "# Input data files are available in the read-only \"../input/\" directory\n",
    "# For example, running this (by clicking run or pressing Shift+Enter) will list all files under the input directory\n",
    "\n",
    "import os\n",
    "for dirname, _, filenames in os.walk('/kaggle/input'):\n",
    "    for filename in filenames:\n",
    "        print(os.path.join(dirname, filename))\n",
    "\n",
    "# You can write up to 20GB to the current directory (/kaggle/working/) that gets preserved as output when you create a version using \"Save & Run All\" \n",
    "# You can also write temporary files to /kaggle/temp/, but they won't be saved outside of the current session"
   ]
  },
  {
   "cell_type": "markdown",
   "id": "646d4806",
   "metadata": {
    "papermill": {
     "duration": 0.030313,
     "end_time": "2022-03-26T15:41:54.557700",
     "exception": false,
     "start_time": "2022-03-26T15:41:54.527387",
     "status": "completed"
    },
    "tags": []
   },
   "source": [
    "## Import the Dataset"
   ]
  },
  {
   "cell_type": "code",
   "execution_count": 2,
   "id": "9e64472e",
   "metadata": {
    "execution": {
     "iopub.execute_input": "2022-03-26T15:41:54.625695Z",
     "iopub.status.busy": "2022-03-26T15:41:54.625090Z",
     "iopub.status.idle": "2022-03-26T15:41:54.670249Z",
     "shell.execute_reply": "2022-03-26T15:41:54.669641Z",
     "shell.execute_reply.started": "2022-03-26T14:36:52.438808Z"
    },
    "papermill": {
     "duration": 0.081575,
     "end_time": "2022-03-26T15:41:54.670384",
     "exception": false,
     "start_time": "2022-03-26T15:41:54.588809",
     "status": "completed"
    },
    "tags": []
   },
   "outputs": [
    {
     "name": "stdout",
     "output_type": "stream",
     "text": [
      "Shape of the train dataset (Rows, Columns):  (1460, 80)\n"
     ]
    }
   ],
   "source": [
    "import pandas as pd\n",
    "import numpy as np\n",
    "import io\n",
    "\n",
    "train_df = pd.read_csv('/kaggle/input/house-prices-advanced-regression-techniques/train.csv', index_col=0)\n",
    "print(\"Shape of the train dataset (Rows, Columns): \", train_df.shape)"
   ]
  },
  {
   "cell_type": "code",
   "execution_count": 3,
   "id": "429ad42f",
   "metadata": {
    "execution": {
     "iopub.execute_input": "2022-03-26T15:41:54.747099Z",
     "iopub.status.busy": "2022-03-26T15:41:54.746228Z",
     "iopub.status.idle": "2022-03-26T15:41:54.773762Z",
     "shell.execute_reply": "2022-03-26T15:41:54.773227Z",
     "shell.execute_reply.started": "2022-03-26T14:36:52.476623Z"
    },
    "papermill": {
     "duration": 0.070933,
     "end_time": "2022-03-26T15:41:54.773902",
     "exception": false,
     "start_time": "2022-03-26T15:41:54.702969",
     "status": "completed"
    },
    "tags": []
   },
   "outputs": [
    {
     "name": "stdout",
     "output_type": "stream",
     "text": [
      "<class 'pandas.core.frame.DataFrame'>\n",
      "Int64Index: 1460 entries, 1 to 1460\n",
      "Data columns (total 80 columns):\n",
      " #   Column         Non-Null Count  Dtype  \n",
      "---  ------         --------------  -----  \n",
      " 0   MSSubClass     1460 non-null   int64  \n",
      " 1   MSZoning       1460 non-null   object \n",
      " 2   LotFrontage    1201 non-null   float64\n",
      " 3   LotArea        1460 non-null   int64  \n",
      " 4   Street         1460 non-null   object \n",
      " 5   Alley          91 non-null     object \n",
      " 6   LotShape       1460 non-null   object \n",
      " 7   LandContour    1460 non-null   object \n",
      " 8   Utilities      1460 non-null   object \n",
      " 9   LotConfig      1460 non-null   object \n",
      " 10  LandSlope      1460 non-null   object \n",
      " 11  Neighborhood   1460 non-null   object \n",
      " 12  Condition1     1460 non-null   object \n",
      " 13  Condition2     1460 non-null   object \n",
      " 14  BldgType       1460 non-null   object \n",
      " 15  HouseStyle     1460 non-null   object \n",
      " 16  OverallQual    1460 non-null   int64  \n",
      " 17  OverallCond    1460 non-null   int64  \n",
      " 18  YearBuilt      1460 non-null   int64  \n",
      " 19  YearRemodAdd   1460 non-null   int64  \n",
      " 20  RoofStyle      1460 non-null   object \n",
      " 21  RoofMatl       1460 non-null   object \n",
      " 22  Exterior1st    1460 non-null   object \n",
      " 23  Exterior2nd    1460 non-null   object \n",
      " 24  MasVnrType     1452 non-null   object \n",
      " 25  MasVnrArea     1452 non-null   float64\n",
      " 26  ExterQual      1460 non-null   object \n",
      " 27  ExterCond      1460 non-null   object \n",
      " 28  Foundation     1460 non-null   object \n",
      " 29  BsmtQual       1423 non-null   object \n",
      " 30  BsmtCond       1423 non-null   object \n",
      " 31  BsmtExposure   1422 non-null   object \n",
      " 32  BsmtFinType1   1423 non-null   object \n",
      " 33  BsmtFinSF1     1460 non-null   int64  \n",
      " 34  BsmtFinType2   1422 non-null   object \n",
      " 35  BsmtFinSF2     1460 non-null   int64  \n",
      " 36  BsmtUnfSF      1460 non-null   int64  \n",
      " 37  TotalBsmtSF    1460 non-null   int64  \n",
      " 38  Heating        1460 non-null   object \n",
      " 39  HeatingQC      1460 non-null   object \n",
      " 40  CentralAir     1460 non-null   object \n",
      " 41  Electrical     1459 non-null   object \n",
      " 42  1stFlrSF       1460 non-null   int64  \n",
      " 43  2ndFlrSF       1460 non-null   int64  \n",
      " 44  LowQualFinSF   1460 non-null   int64  \n",
      " 45  GrLivArea      1460 non-null   int64  \n",
      " 46  BsmtFullBath   1460 non-null   int64  \n",
      " 47  BsmtHalfBath   1460 non-null   int64  \n",
      " 48  FullBath       1460 non-null   int64  \n",
      " 49  HalfBath       1460 non-null   int64  \n",
      " 50  BedroomAbvGr   1460 non-null   int64  \n",
      " 51  KitchenAbvGr   1460 non-null   int64  \n",
      " 52  KitchenQual    1460 non-null   object \n",
      " 53  TotRmsAbvGrd   1460 non-null   int64  \n",
      " 54  Functional     1460 non-null   object \n",
      " 55  Fireplaces     1460 non-null   int64  \n",
      " 56  FireplaceQu    770 non-null    object \n",
      " 57  GarageType     1379 non-null   object \n",
      " 58  GarageYrBlt    1379 non-null   float64\n",
      " 59  GarageFinish   1379 non-null   object \n",
      " 60  GarageCars     1460 non-null   int64  \n",
      " 61  GarageArea     1460 non-null   int64  \n",
      " 62  GarageQual     1379 non-null   object \n",
      " 63  GarageCond     1379 non-null   object \n",
      " 64  PavedDrive     1460 non-null   object \n",
      " 65  WoodDeckSF     1460 non-null   int64  \n",
      " 66  OpenPorchSF    1460 non-null   int64  \n",
      " 67  EnclosedPorch  1460 non-null   int64  \n",
      " 68  3SsnPorch      1460 non-null   int64  \n",
      " 69  ScreenPorch    1460 non-null   int64  \n",
      " 70  PoolArea       1460 non-null   int64  \n",
      " 71  PoolQC         7 non-null      object \n",
      " 72  Fence          281 non-null    object \n",
      " 73  MiscFeature    54 non-null     object \n",
      " 74  MiscVal        1460 non-null   int64  \n",
      " 75  MoSold         1460 non-null   int64  \n",
      " 76  YrSold         1460 non-null   int64  \n",
      " 77  SaleType       1460 non-null   object \n",
      " 78  SaleCondition  1460 non-null   object \n",
      " 79  SalePrice      1460 non-null   int64  \n",
      "dtypes: float64(3), int64(34), object(43)\n",
      "memory usage: 923.9+ KB\n"
     ]
    }
   ],
   "source": [
    "train_df.info()"
   ]
  },
  {
   "cell_type": "markdown",
   "id": "e57ac2de",
   "metadata": {
    "papermill": {
     "duration": 0.034856,
     "end_time": "2022-03-26T15:41:54.853700",
     "exception": false,
     "start_time": "2022-03-26T15:41:54.818844",
     "status": "completed"
    },
    "tags": []
   },
   "source": [
    "## Exploratory Data Analysis"
   ]
  },
  {
   "cell_type": "markdown",
   "id": "56bd6e08",
   "metadata": {
    "papermill": {
     "duration": 0.031668,
     "end_time": "2022-03-26T15:41:54.917757",
     "exception": false,
     "start_time": "2022-03-26T15:41:54.886089",
     "status": "completed"
    },
    "tags": []
   },
   "source": [
    "### Check for missing values"
   ]
  },
  {
   "cell_type": "code",
   "execution_count": 4,
   "id": "b89b0bd2",
   "metadata": {
    "execution": {
     "iopub.execute_input": "2022-03-26T15:41:54.995248Z",
     "iopub.status.busy": "2022-03-26T15:41:54.992797Z",
     "iopub.status.idle": "2022-03-26T15:41:55.003367Z",
     "shell.execute_reply": "2022-03-26T15:41:55.003901Z",
     "shell.execute_reply.started": "2022-03-26T14:36:52.510644Z"
    },
    "papermill": {
     "duration": 0.054281,
     "end_time": "2022-03-26T15:41:55.004074",
     "exception": false,
     "start_time": "2022-03-26T15:41:54.949793",
     "status": "completed"
    },
    "tags": []
   },
   "outputs": [
    {
     "data": {
      "text/plain": [
       "False    61\n",
       "True     19\n",
       "dtype: int64"
      ]
     },
     "execution_count": 4,
     "metadata": {},
     "output_type": "execute_result"
    }
   ],
   "source": [
    "train_df.isna().any().value_counts()"
   ]
  },
  {
   "cell_type": "markdown",
   "id": "e67c3609",
   "metadata": {
    "papermill": {
     "duration": 0.036604,
     "end_time": "2022-03-26T15:41:55.076572",
     "exception": false,
     "start_time": "2022-03-26T15:41:55.039968",
     "status": "completed"
    },
    "tags": []
   },
   "source": [
    "- Out of 80 columns, missing values are present in 19."
   ]
  },
  {
   "cell_type": "code",
   "execution_count": 5,
   "id": "d6139173",
   "metadata": {
    "execution": {
     "iopub.execute_input": "2022-03-26T15:41:55.151877Z",
     "iopub.status.busy": "2022-03-26T15:41:55.150903Z",
     "iopub.status.idle": "2022-03-26T15:41:55.167828Z",
     "shell.execute_reply": "2022-03-26T15:41:55.168359Z",
     "shell.execute_reply.started": "2022-03-26T14:36:52.532062Z"
    },
    "papermill": {
     "duration": 0.053172,
     "end_time": "2022-03-26T15:41:55.168527",
     "exception": false,
     "start_time": "2022-03-26T15:41:55.115355",
     "status": "completed"
    },
    "tags": []
   },
   "outputs": [
    {
     "data": {
      "text/plain": [
       "PoolQC          1453\n",
       "MiscFeature     1406\n",
       "Alley           1369\n",
       "Fence           1179\n",
       "FireplaceQu      690\n",
       "LotFrontage      259\n",
       "GarageYrBlt       81\n",
       "GarageCond        81\n",
       "GarageType        81\n",
       "GarageFinish      81\n",
       "GarageQual        81\n",
       "BsmtExposure      38\n",
       "BsmtFinType2      38\n",
       "BsmtCond          37\n",
       "BsmtQual          37\n",
       "BsmtFinType1      37\n",
       "MasVnrArea         8\n",
       "MasVnrType         8\n",
       "Electrical         1\n",
       "MSSubClass         0\n",
       "dtype: int64"
      ]
     },
     "execution_count": 5,
     "metadata": {},
     "output_type": "execute_result"
    }
   ],
   "source": [
    "missing_values_count = train_df.isnull().sum().sort_values(ascending=False)\n",
    "missing_values_count.head(20)"
   ]
  },
  {
   "cell_type": "code",
   "execution_count": 6,
   "id": "382e44eb",
   "metadata": {
    "execution": {
     "iopub.execute_input": "2022-03-26T15:41:55.245690Z",
     "iopub.status.busy": "2022-03-26T15:41:55.244770Z",
     "iopub.status.idle": "2022-03-26T15:41:55.253557Z",
     "shell.execute_reply": "2022-03-26T15:41:55.254096Z",
     "shell.execute_reply.started": "2022-03-26T14:36:52.570405Z"
    },
    "papermill": {
     "duration": 0.053309,
     "end_time": "2022-03-26T15:41:55.254276",
     "exception": false,
     "start_time": "2022-03-26T15:41:55.200967",
     "status": "completed"
    },
    "tags": []
   },
   "outputs": [
    {
     "data": {
      "text/plain": [
       "PoolQC          99.52\n",
       "MiscFeature     96.30\n",
       "Alley           93.77\n",
       "Fence           80.75\n",
       "FireplaceQu     47.26\n",
       "LotFrontage     17.74\n",
       "GarageYrBlt      5.55\n",
       "GarageCond       5.55\n",
       "GarageType       5.55\n",
       "GarageFinish     5.55\n",
       "GarageQual       5.55\n",
       "BsmtExposure     2.60\n",
       "BsmtFinType2     2.60\n",
       "BsmtCond         2.53\n",
       "BsmtQual         2.53\n",
       "BsmtFinType1     2.53\n",
       "MasVnrArea       0.55\n",
       "MasVnrType       0.55\n",
       "Electrical       0.07\n",
       "MSSubClass       0.00\n",
       "dtype: float64"
      ]
     },
     "execution_count": 6,
     "metadata": {},
     "output_type": "execute_result"
    }
   ],
   "source": [
    "missing_value_percentage = round((train_df.isnull().sum().sort_values(ascending=False))*100 / len(train_df), 2)\n",
    "missing_value_percentage.head(20)"
   ]
  },
  {
   "cell_type": "markdown",
   "id": "da6b6434",
   "metadata": {
    "papermill": {
     "duration": 0.031856,
     "end_time": "2022-03-26T15:41:55.318979",
     "exception": false,
     "start_time": "2022-03-26T15:41:55.287123",
     "status": "completed"
    },
    "tags": []
   },
   "source": [
    "- The features like PoolQC, MiscFeature, Alley, Fence, and FireplaceQu have a huge percentage of missing values. It does not make sense to recreate such huge percentage of data. Hence it is best to drop these columns.\n",
    "- The rest of the columns with missing values can be treated with imputation techniques.\n",
    "- We can also visualize the missing values with a heatmap"
   ]
  },
  {
   "cell_type": "code",
   "execution_count": 7,
   "id": "dd139800",
   "metadata": {
    "execution": {
     "iopub.execute_input": "2022-03-26T15:41:55.387709Z",
     "iopub.status.busy": "2022-03-26T15:41:55.386758Z",
     "iopub.status.idle": "2022-03-26T15:41:59.750524Z",
     "shell.execute_reply": "2022-03-26T15:41:59.751016Z",
     "shell.execute_reply.started": "2022-03-26T14:36:52.609114Z"
    },
    "papermill": {
     "duration": 4.399589,
     "end_time": "2022-03-26T15:41:59.751200",
     "exception": false,
     "start_time": "2022-03-26T15:41:55.351611",
     "status": "completed"
    },
    "tags": []
   },
   "outputs": [
    {
     "data": {
      "text/plain": [
       "<AxesSubplot:ylabel='Id'>"
      ]
     },
     "execution_count": 7,
     "metadata": {},
     "output_type": "execute_result"
    },
    {
     "data": {
      "image/png": "[encoded data removed]",
      "text/plain": [
       "<Figure size 1440x1440 with 1 Axes>"
      ]
     },
     "metadata": {},
     "output_type": "display_data"
    }
   ],
   "source": [
    "import seaborn as sns\n",
    "sns.set_style('darkgrid')\n",
    "sns.set(rc={'figure.figsize':(20, 20)})\n",
    "\n",
    "sns.heatmap(train_df.isnull(), yticklabels=False, cbar=False)"
   ]
  },
  {
   "cell_type": "code",
   "execution_count": 8,
   "id": "4c238735",
   "metadata": {
    "execution": {
     "iopub.execute_input": "2022-03-26T15:41:59.831122Z",
     "iopub.status.busy": "2022-03-26T15:41:59.830421Z",
     "iopub.status.idle": "2022-03-26T15:41:59.833520Z",
     "shell.execute_reply": "2022-03-26T15:41:59.833979Z",
     "shell.execute_reply.started": "2022-03-26T14:36:56.599930Z"
    },
    "papermill": {
     "duration": 0.045851,
     "end_time": "2022-03-26T15:41:59.834128",
     "exception": false,
     "start_time": "2022-03-26T15:41:59.788277",
     "status": "completed"
    },
    "tags": []
   },
   "outputs": [
    {
     "data": {
      "text/plain": [
       "Index(['MSSubClass', 'MSZoning', 'LotFrontage', 'LotArea', 'Street', 'Alley',\n",
       "       'LotShape', 'LandContour', 'Utilities', 'LotConfig', 'LandSlope',\n",
       "       'Neighborhood', 'Condition1', 'Condition2', 'BldgType', 'HouseStyle',\n",
       "       'OverallQual', 'OverallCond', 'YearBuilt', 'YearRemodAdd', 'RoofStyle',\n",
       "       'RoofMatl', 'Exterior1st', 'Exterior2nd', 'MasVnrType', 'MasVnrArea',\n",
       "       'ExterQual', 'ExterCond', 'Foundation', 'BsmtQual', 'BsmtCond',\n",
       "       'BsmtExposure', 'BsmtFinType1', 'BsmtFinSF1', 'BsmtFinType2',\n",
       "       'BsmtFinSF2', 'BsmtUnfSF', 'TotalBsmtSF', 'Heating', 'HeatingQC',\n",
       "       'CentralAir', 'Electrical', '1stFlrSF', '2ndFlrSF', 'LowQualFinSF',\n",
       "       'GrLivArea', 'BsmtFullBath', 'BsmtHalfBath', 'FullBath', 'HalfBath',\n",
       "       'BedroomAbvGr', 'KitchenAbvGr', 'KitchenQual', 'TotRmsAbvGrd',\n",
       "       'Functional', 'Fireplaces', 'FireplaceQu', 'GarageType', 'GarageYrBlt',\n",
       "       'GarageFinish', 'GarageCars', 'GarageArea', 'GarageQual', 'GarageCond',\n",
       "       'PavedDrive', 'WoodDeckSF', 'OpenPorchSF', 'EnclosedPorch', '3SsnPorch',\n",
       "       'ScreenPorch', 'PoolArea', 'PoolQC', 'Fence', 'MiscFeature', 'MiscVal',\n",
       "       'MoSold', 'YrSold', 'SaleType', 'SaleCondition', 'SalePrice'],\n",
       "      dtype='object')"
      ]
     },
     "execution_count": 8,
     "metadata": {},
     "output_type": "execute_result"
    }
   ],
   "source": [
    "train_df.columns"
   ]
  },
  {
   "cell_type": "code",
   "execution_count": 9,
   "id": "8aba4ee1",
   "metadata": {
    "execution": {
     "iopub.execute_input": "2022-03-26T15:41:59.916140Z",
     "iopub.status.busy": "2022-03-26T15:41:59.915258Z",
     "iopub.status.idle": "2022-03-26T15:41:59.920460Z",
     "shell.execute_reply": "2022-03-26T15:41:59.921061Z",
     "shell.execute_reply.started": "2022-03-26T14:36:56.609333Z"
    },
    "papermill": {
     "duration": 0.050044,
     "end_time": "2022-03-26T15:41:59.921231",
     "exception": false,
     "start_time": "2022-03-26T15:41:59.871187",
     "status": "completed"
    },
    "tags": []
   },
   "outputs": [
    {
     "data": {
      "text/plain": [
       "(1460, 75)"
      ]
     },
     "execution_count": 9,
     "metadata": {},
     "output_type": "execute_result"
    }
   ],
   "source": [
    "train_df = train_df.drop(columns=['PoolQC', 'MiscFeature', 'Alley', 'Fence', 'FireplaceQu'])\n",
    "train_df.shape"
   ]
  },
  {
   "cell_type": "code",
   "execution_count": 10,
   "id": "226acaba",
   "metadata": {
    "execution": {
     "iopub.execute_input": "2022-03-26T15:42:00.007459Z",
     "iopub.status.busy": "2022-03-26T15:41:59.998904Z",
     "iopub.status.idle": "2022-03-26T15:42:00.015782Z",
     "shell.execute_reply": "2022-03-26T15:42:00.015165Z",
     "shell.execute_reply.started": "2022-03-26T14:36:56.635425Z"
    },
    "papermill": {
     "duration": 0.057153,
     "end_time": "2022-03-26T15:42:00.015908",
     "exception": false,
     "start_time": "2022-03-26T15:41:59.958755",
     "status": "completed"
    },
    "tags": []
   },
   "outputs": [
    {
     "data": {
      "text/plain": [
       "LotFrontage     17.74\n",
       "GarageType       5.55\n",
       "GarageYrBlt      5.55\n",
       "GarageFinish     5.55\n",
       "GarageQual       5.55\n",
       "GarageCond       5.55\n",
       "BsmtFinType2     2.60\n",
       "BsmtExposure     2.60\n",
       "BsmtQual         2.53\n",
       "BsmtCond         2.53\n",
       "BsmtFinType1     2.53\n",
       "MasVnrArea       0.55\n",
       "MasVnrType       0.55\n",
       "Electrical       0.07\n",
       "KitchenAbvGr     0.00\n",
       "BedroomAbvGr     0.00\n",
       "HalfBath         0.00\n",
       "FullBath         0.00\n",
       "BsmtHalfBath     0.00\n",
       "BsmtFullBath     0.00\n",
       "dtype: float64"
      ]
     },
     "execution_count": 10,
     "metadata": {},
     "output_type": "execute_result"
    }
   ],
   "source": [
    "missing_value_percentage = round((train_df.isnull().sum().sort_values(ascending=False))*100 / len(train_df), 2)\n",
    "missing_value_percentage.head(20)"
   ]
  },
  {
   "cell_type": "code",
   "execution_count": 11,
   "id": "705e2cdc",
   "metadata": {
    "execution": {
     "iopub.execute_input": "2022-03-26T15:42:00.095714Z",
     "iopub.status.busy": "2022-03-26T15:42:00.095072Z",
     "iopub.status.idle": "2022-03-26T15:42:00.104595Z",
     "shell.execute_reply": "2022-03-26T15:42:00.105110Z",
     "shell.execute_reply.started": "2022-03-26T14:36:56.658208Z"
    },
    "papermill": {
     "duration": 0.051018,
     "end_time": "2022-03-26T15:42:00.105308",
     "exception": false,
     "start_time": "2022-03-26T15:42:00.054290",
     "status": "completed"
    },
    "tags": []
   },
   "outputs": [
    {
     "name": "stdout",
     "output_type": "stream",
     "text": [
      "The datatype for feature LotFrontage:  float64\n",
      "The datatype for feature GarageType:  object\n",
      "The datatype for feature GarageYrBlt:  float64\n",
      "The datatype for feature GarageFinish:  object\n",
      "The datatype for feature GarageQual:  object\n",
      "The datatype for feature GarageCond:  object\n",
      "The datatype for feature BsmtFinType2:  object\n",
      "The datatype for feature BsmtExposure:  object\n",
      "The datatype for feature BsmtQual:  object\n",
      "The datatype for feature BsmtCond:  object\n",
      "The datatype for feature BsmtFinType1:  object\n",
      "The datatype for feature MasVnrArea:  float64\n",
      "The datatype for feature MasVnrType:  object\n",
      "The datatype for feature Electrical:  object\n"
     ]
    }
   ],
   "source": [
    "mis_cols_list = ['LotFrontage', 'GarageType', 'GarageYrBlt', \n",
    "                 'GarageFinish', 'GarageQual', 'GarageCond', \n",
    "                'BsmtFinType2', 'BsmtExposure', 'BsmtQual', \n",
    "                 'BsmtCond', 'BsmtFinType1', 'MasVnrArea', \n",
    "                 'MasVnrType', 'Electrical']\n",
    "\n",
    "for column in mis_cols_list:\n",
    "    print(\"The datatype for feature {}: \".format(column), train_df[column].dtype)"
   ]
  },
  {
   "cell_type": "code",
   "execution_count": 12,
   "id": "afda0cd6",
   "metadata": {
    "execution": {
     "iopub.execute_input": "2022-03-26T15:42:00.181612Z",
     "iopub.status.busy": "2022-03-26T15:42:00.180772Z",
     "iopub.status.idle": "2022-03-26T15:42:00.192347Z",
     "shell.execute_reply": "2022-03-26T15:42:00.192755Z",
     "shell.execute_reply.started": "2022-03-26T14:36:56.672526Z"
    },
    "papermill": {
     "duration": 0.050399,
     "end_time": "2022-03-26T15:42:00.192888",
     "exception": false,
     "start_time": "2022-03-26T15:42:00.142489",
     "status": "completed"
    },
    "tags": []
   },
   "outputs": [
    {
     "name": "stdout",
     "output_type": "stream",
     "text": [
      "The number of unique values in column LotFrontage=  110\n",
      "The number of unique values in column GarageType=  6\n",
      "The number of unique values in column GarageYrBlt=  97\n",
      "The number of unique values in column GarageFinish=  3\n",
      "The number of unique values in column GarageQual=  5\n",
      "The number of unique values in column GarageCond=  5\n",
      "The number of unique values in column BsmtFinType2=  6\n",
      "The number of unique values in column BsmtExposure=  4\n",
      "The number of unique values in column BsmtQual=  4\n",
      "The number of unique values in column BsmtCond=  4\n",
      "The number of unique values in column BsmtFinType1=  6\n",
      "The number of unique values in column MasVnrArea=  327\n",
      "The number of unique values in column MasVnrType=  4\n",
      "The number of unique values in column Electrical=  5\n"
     ]
    }
   ],
   "source": [
    "for column in mis_cols_list:\n",
    "    print(\"The number of unique values in column {}= \".format(column), train_df[column].nunique())"
   ]
  },
  {
   "cell_type": "code",
   "execution_count": 13,
   "id": "a3d25996",
   "metadata": {
    "execution": {
     "iopub.execute_input": "2022-03-26T15:42:00.286261Z",
     "iopub.status.busy": "2022-03-26T15:42:00.281363Z",
     "iopub.status.idle": "2022-03-26T15:42:00.291016Z",
     "shell.execute_reply": "2022-03-26T15:42:00.290390Z",
     "shell.execute_reply.started": "2022-03-26T14:36:56.695332Z"
    },
    "papermill": {
     "duration": 0.061118,
     "end_time": "2022-03-26T15:42:00.291189",
     "exception": false,
     "start_time": "2022-03-26T15:42:00.230071",
     "status": "completed"
    },
    "tags": []
   },
   "outputs": [],
   "source": [
    "object_cols = ['GarageType', 'GarageFinish', 'GarageQual', \n",
    "               'GarageCond', 'BsmtFinType2', 'BsmtExposure', \n",
    "               'BsmtQual', 'BsmtCond', 'BsmtFinType1', \n",
    "               'MasVnrType', 'Electrical']\n",
    "numeric_cols = ['LotFrontage', 'GarageYrBlt', 'MasVnrArea']\n",
    "\n",
    "for column in object_cols:\n",
    "    train_df[column] = train_df[column].fillna(train_df[column].mode()[0])\n",
    "    \n",
    "for column in numeric_cols:\n",
    "    train_df[column] = train_df[column].fillna(train_df[column].mean())"
   ]
  },
  {
   "cell_type": "code",
   "execution_count": 14,
   "id": "886bee69",
   "metadata": {
    "execution": {
     "iopub.execute_input": "2022-03-26T15:42:00.384495Z",
     "iopub.status.busy": "2022-03-26T15:42:00.383789Z",
     "iopub.status.idle": "2022-03-26T15:42:00.387686Z",
     "shell.execute_reply": "2022-03-26T15:42:00.387158Z",
     "shell.execute_reply.started": "2022-03-26T14:36:56.718330Z"
    },
    "papermill": {
     "duration": 0.057283,
     "end_time": "2022-03-26T15:42:00.387823",
     "exception": false,
     "start_time": "2022-03-26T15:42:00.330540",
     "status": "completed"
    },
    "tags": []
   },
   "outputs": [
    {
     "data": {
      "text/plain": [
       "False    75\n",
       "dtype: int64"
      ]
     },
     "execution_count": 14,
     "metadata": {},
     "output_type": "execute_result"
    }
   ],
   "source": [
    "train_df.isnull().any().value_counts()"
   ]
  },
  {
   "cell_type": "markdown",
   "id": "6fe3fcc0",
   "metadata": {
    "papermill": {
     "duration": 0.039086,
     "end_time": "2022-03-26T15:42:00.467671",
     "exception": false,
     "start_time": "2022-03-26T15:42:00.428585",
     "status": "completed"
    },
    "tags": []
   },
   "source": [
    "## Import, Check and Treat the Test Dataset"
   ]
  },
  {
   "cell_type": "code",
   "execution_count": 15,
   "id": "1701b12a",
   "metadata": {
    "execution": {
     "iopub.execute_input": "2022-03-26T15:42:00.546364Z",
     "iopub.status.busy": "2022-03-26T15:42:00.545741Z",
     "iopub.status.idle": "2022-03-26T15:42:00.583690Z",
     "shell.execute_reply": "2022-03-26T15:42:00.584143Z",
     "shell.execute_reply.started": "2022-03-26T14:36:56.737999Z"
    },
    "papermill": {
     "duration": 0.078655,
     "end_time": "2022-03-26T15:42:00.584356",
     "exception": false,
     "start_time": "2022-03-26T15:42:00.505701",
     "status": "completed"
    },
    "tags": []
   },
   "outputs": [
    {
     "name": "stdout",
     "output_type": "stream",
     "text": [
      "Dimensions of the test dataset(Rows, Columns): (1459, 79)\n"
     ]
    }
   ],
   "source": [
    "test_df = pd.read_csv('/kaggle/input/house-prices-advanced-regression-techniques/test.csv', index_col=0)\n",
    "print(\"Dimensions of the test dataset(Rows, Columns):\", test_df.shape)"
   ]
  },
  {
   "cell_type": "code",
   "execution_count": 16,
   "id": "408a348b",
   "metadata": {
    "execution": {
     "iopub.execute_input": "2022-03-26T15:42:00.663704Z",
     "iopub.status.busy": "2022-03-26T15:42:00.663079Z",
     "iopub.status.idle": "2022-03-26T15:42:00.685212Z",
     "shell.execute_reply": "2022-03-26T15:42:00.685808Z",
     "shell.execute_reply.started": "2022-03-26T14:36:56.768355Z"
    },
    "papermill": {
     "duration": 0.062969,
     "end_time": "2022-03-26T15:42:00.685971",
     "exception": false,
     "start_time": "2022-03-26T15:42:00.623002",
     "status": "completed"
    },
    "tags": []
   },
   "outputs": [
    {
     "name": "stdout",
     "output_type": "stream",
     "text": [
      "<class 'pandas.core.frame.DataFrame'>\n",
      "Int64Index: 1459 entries, 1461 to 2919\n",
      "Data columns (total 79 columns):\n",
      " #   Column         Non-Null Count  Dtype  \n",
      "---  ------         --------------  -----  \n",
      " 0   MSSubClass     1459 non-null   int64  \n",
      " 1   MSZoning       1455 non-null   object \n",
      " 2   LotFrontage    1232 non-null   float64\n",
      " 3   LotArea        1459 non-null   int64  \n",
      " 4   Street         1459 non-null   object \n",
      " 5   Alley          107 non-null    object \n",
      " 6   LotShape       1459 non-null   object \n",
      " 7   LandContour    1459 non-null   object \n",
      " 8   Utilities      1457 non-null   object \n",
      " 9   LotConfig      1459 non-null   object \n",
      " 10  LandSlope      1459 non-null   object \n",
      " 11  Neighborhood   1459 non-null   object \n",
      " 12  Condition1     1459 non-null   object \n",
      " 13  Condition2     1459 non-null   object \n",
      " 14  BldgType       1459 non-null   object \n",
      " 15  HouseStyle     1459 non-null   object \n",
      " 16  OverallQual    1459 non-null   int64  \n",
      " 17  OverallCond    1459 non-null   int64  \n",
      " 18  YearBuilt      1459 non-null   int64  \n",
      " 19  YearRemodAdd   1459 non-null   int64  \n",
      " 20  RoofStyle      1459 non-null   object \n",
      " 21  RoofMatl       1459 non-null   object \n",
      " 22  Exterior1st    1458 non-null   object \n",
      " 23  Exterior2nd    1458 non-null   object \n",
      " 24  MasVnrType     1443 non-null   object \n",
      " 25  MasVnrArea     1444 non-null   float64\n",
      " 26  ExterQual      1459 non-null   object \n",
      " 27  ExterCond      1459 non-null   object \n",
      " 28  Foundation     1459 non-null   object \n",
      " 29  BsmtQual       1415 non-null   object \n",
      " 30  BsmtCond       1414 non-null   object \n",
      " 31  BsmtExposure   1415 non-null   object \n",
      " 32  BsmtFinType1   1417 non-null   object \n",
      " 33  BsmtFinSF1     1458 non-null   float64\n",
      " 34  BsmtFinType2   1417 non-null   object \n",
      " 35  BsmtFinSF2     1458 non-null   float64\n",
      " 36  BsmtUnfSF      1458 non-null   float64\n",
      " 37  TotalBsmtSF    1458 non-null   float64\n",
      " 38  Heating        1459 non-null   object \n",
      " 39  HeatingQC      1459 non-null   object \n",
      " 40  CentralAir     1459 non-null   object \n",
      " 41  Electrical     1459 non-null   object \n",
      " 42  1stFlrSF       1459 non-null   int64  \n",
      " 43  2ndFlrSF       1459 non-null   int64  \n",
      " 44  LowQualFinSF   1459 non-null   int64  \n",
      " 45  GrLivArea      1459 non-null   int64  \n",
      " 46  BsmtFullBath   1457 non-null   float64\n",
      " 47  BsmtHalfBath   1457 non-null   float64\n",
      " 48  FullBath       1459 non-null   int64  \n",
      " 49  HalfBath       1459 non-null   int64  \n",
      " 50  BedroomAbvGr   1459 non-null   int64  \n",
      " 51  KitchenAbvGr   1459 non-null   int64  \n",
      " 52  KitchenQual    1458 non-null   object \n",
      " 53  TotRmsAbvGrd   1459 non-null   int64  \n",
      " 54  Functional     1457 non-null   object \n",
      " 55  Fireplaces     1459 non-null   int64  \n",
      " 56  FireplaceQu    729 non-null    object \n",
      " 57  GarageType     1383 non-null   object \n",
      " 58  GarageYrBlt    1381 non-null   float64\n",
      " 59  GarageFinish   1381 non-null   object \n",
      " 60  GarageCars     1458 non-null   float64\n",
      " 61  GarageArea     1458 non-null   float64\n",
      " 62  GarageQual     1381 non-null   object \n",
      " 63  GarageCond     1381 non-null   object \n",
      " 64  PavedDrive     1459 non-null   object \n",
      " 65  WoodDeckSF     1459 non-null   int64  \n",
      " 66  OpenPorchSF    1459 non-null   int64  \n",
      " 67  EnclosedPorch  1459 non-null   int64  \n",
      " 68  3SsnPorch      1459 non-null   int64  \n",
      " 69  ScreenPorch    1459 non-null   int64  \n",
      " 70  PoolArea       1459 non-null   int64  \n",
      " 71  PoolQC         3 non-null      object \n",
      " 72  Fence          290 non-null    object \n",
      " 73  MiscFeature    51 non-null     object \n",
      " 74  MiscVal        1459 non-null   int64  \n",
      " 75  MoSold         1459 non-null   int64  \n",
      " 76  YrSold         1459 non-null   int64  \n",
      " 77  SaleType       1458 non-null   object \n",
      " 78  SaleCondition  1459 non-null   object \n",
      "dtypes: float64(11), int64(25), object(43)\n",
      "memory usage: 911.9+ KB\n"
     ]
    }
   ],
   "source": [
    "test_df.info()"
   ]
  },
  {
   "cell_type": "code",
   "execution_count": 17,
   "id": "c7b7cff3",
   "metadata": {
    "execution": {
     "iopub.execute_input": "2022-03-26T15:42:00.772379Z",
     "iopub.status.busy": "2022-03-26T15:42:00.764969Z",
     "iopub.status.idle": "2022-03-26T15:42:00.779820Z",
     "shell.execute_reply": "2022-03-26T15:42:00.779213Z",
     "shell.execute_reply.started": "2022-03-26T14:36:56.794714Z"
    },
    "papermill": {
     "duration": 0.055239,
     "end_time": "2022-03-26T15:42:00.779961",
     "exception": false,
     "start_time": "2022-03-26T15:42:00.724722",
     "status": "completed"
    },
    "tags": []
   },
   "outputs": [
    {
     "data": {
      "text/plain": [
       "False    46\n",
       "True     33\n",
       "dtype: int64"
      ]
     },
     "execution_count": 17,
     "metadata": {},
     "output_type": "execute_result"
    }
   ],
   "source": [
    "test_df.isna().any().value_counts()"
   ]
  },
  {
   "cell_type": "markdown",
   "id": "92b370bd",
   "metadata": {
    "papermill": {
     "duration": 0.039769,
     "end_time": "2022-03-26T15:42:00.860253",
     "exception": false,
     "start_time": "2022-03-26T15:42:00.820484",
     "status": "completed"
    },
    "tags": []
   },
   "source": [
    "- There are 33 columns with missing values."
   ]
  },
  {
   "cell_type": "code",
   "execution_count": 18,
   "id": "e3d7fec7",
   "metadata": {
    "execution": {
     "iopub.execute_input": "2022-03-26T15:42:00.951308Z",
     "iopub.status.busy": "2022-03-26T15:42:00.950625Z",
     "iopub.status.idle": "2022-03-26T15:42:04.238915Z",
     "shell.execute_reply": "2022-03-26T15:42:04.239431Z",
     "shell.execute_reply.started": "2022-03-26T14:36:56.813987Z"
    },
    "papermill": {
     "duration": 3.339865,
     "end_time": "2022-03-26T15:42:04.239596",
     "exception": false,
     "start_time": "2022-03-26T15:42:00.899731",
     "status": "completed"
    },
    "tags": []
   },
   "outputs": [
    {
     "data": {
      "text/plain": [
       "<AxesSubplot:ylabel='Id'>"
      ]
     },
     "execution_count": 18,
     "metadata": {},
     "output_type": "execute_result"
    },
    {
     "data": {
      "image/png": "[encoded data removed]",
      "text/plain": [
       "<Figure size 1440x1440 with 1 Axes>"
      ]
     },
     "metadata": {},
     "output_type": "display_data"
    }
   ],
   "source": [
    "sns.heatmap(test_df.isnull(), yticklabels=False, cbar=False)"
   ]
  },
  {
   "cell_type": "code",
   "execution_count": 19,
   "id": "a448a783",
   "metadata": {
    "execution": {
     "iopub.execute_input": "2022-03-26T15:42:04.335991Z",
     "iopub.status.busy": "2022-03-26T15:42:04.335356Z",
     "iopub.status.idle": "2022-03-26T15:42:04.341891Z",
     "shell.execute_reply": "2022-03-26T15:42:04.342500Z",
     "shell.execute_reply.started": "2022-03-26T14:37:00.409688Z"
    },
    "papermill": {
     "duration": 0.059881,
     "end_time": "2022-03-26T15:42:04.342649",
     "exception": false,
     "start_time": "2022-03-26T15:42:04.282768",
     "status": "completed"
    },
    "tags": []
   },
   "outputs": [
    {
     "data": {
      "text/plain": [
       "PoolQC          1456\n",
       "MiscFeature     1408\n",
       "Alley           1352\n",
       "Fence           1169\n",
       "FireplaceQu      730\n",
       "LotFrontage      227\n",
       "GarageYrBlt       78\n",
       "GarageFinish      78\n",
       "GarageQual        78\n",
       "GarageCond        78\n",
       "GarageType        76\n",
       "BsmtCond          45\n",
       "BsmtExposure      44\n",
       "BsmtQual          44\n",
       "BsmtFinType2      42\n",
       "BsmtFinType1      42\n",
       "MasVnrType        16\n",
       "MasVnrArea        15\n",
       "MSZoning           4\n",
       "Functional         2\n",
       "BsmtHalfBath       2\n",
       "BsmtFullBath       2\n",
       "Utilities          2\n",
       "KitchenQual        1\n",
       "SaleType           1\n",
       "BsmtFinSF1         1\n",
       "GarageCars         1\n",
       "BsmtUnfSF          1\n",
       "TotalBsmtSF        1\n",
       "Exterior2nd        1\n",
       "Exterior1st        1\n",
       "GarageArea         1\n",
       "BsmtFinSF2         1\n",
       "TotRmsAbvGrd       0\n",
       "KitchenAbvGr       0\n",
       "dtype: int64"
      ]
     },
     "execution_count": 19,
     "metadata": {},
     "output_type": "execute_result"
    }
   ],
   "source": [
    "missing_values_count = test_df.isnull().sum().sort_values(ascending=False)\n",
    "missing_values_count.head(35)"
   ]
  },
  {
   "cell_type": "code",
   "execution_count": 20,
   "id": "b159c6e6",
   "metadata": {
    "execution": {
     "iopub.execute_input": "2022-03-26T15:42:04.432651Z",
     "iopub.status.busy": "2022-03-26T15:42:04.431939Z",
     "iopub.status.idle": "2022-03-26T15:42:04.449688Z",
     "shell.execute_reply": "2022-03-26T15:42:04.449090Z",
     "shell.execute_reply.started": "2022-03-26T14:37:00.428097Z"
    },
    "papermill": {
     "duration": 0.065451,
     "end_time": "2022-03-26T15:42:04.449825",
     "exception": false,
     "start_time": "2022-03-26T15:42:04.384374",
     "status": "completed"
    },
    "tags": []
   },
   "outputs": [
    {
     "data": {
      "text/plain": [
       "PoolQC          99.79\n",
       "MiscFeature     96.50\n",
       "Alley           92.67\n",
       "Fence           80.12\n",
       "FireplaceQu     50.03\n",
       "LotFrontage     15.56\n",
       "GarageYrBlt      5.35\n",
       "GarageFinish     5.35\n",
       "GarageQual       5.35\n",
       "GarageCond       5.35\n",
       "GarageType       5.21\n",
       "BsmtCond         3.08\n",
       "BsmtExposure     3.02\n",
       "BsmtQual         3.02\n",
       "BsmtFinType2     2.88\n",
       "BsmtFinType1     2.88\n",
       "MasVnrType       1.10\n",
       "MasVnrArea       1.03\n",
       "MSZoning         0.27\n",
       "Functional       0.14\n",
       "BsmtHalfBath     0.14\n",
       "BsmtFullBath     0.14\n",
       "Utilities        0.14\n",
       "KitchenQual      0.07\n",
       "SaleType         0.07\n",
       "BsmtFinSF1       0.07\n",
       "GarageCars       0.07\n",
       "BsmtUnfSF        0.07\n",
       "TotalBsmtSF      0.07\n",
       "Exterior2nd      0.07\n",
       "Exterior1st      0.07\n",
       "GarageArea       0.07\n",
       "BsmtFinSF2       0.07\n",
       "TotRmsAbvGrd     0.00\n",
       "KitchenAbvGr     0.00\n",
       "dtype: float64"
      ]
     },
     "execution_count": 20,
     "metadata": {},
     "output_type": "execute_result"
    }
   ],
   "source": [
    "missing_values_percentage = round((test_df.isnull().sum().sort_values(ascending=False)*100)/len(test_df), 2)\n",
    "missing_values_percentage.head(35)"
   ]
  },
  {
   "cell_type": "code",
   "execution_count": 21,
   "id": "9dcafadc",
   "metadata": {
    "execution": {
     "iopub.execute_input": "2022-03-26T15:42:04.539654Z",
     "iopub.status.busy": "2022-03-26T15:42:04.538701Z",
     "iopub.status.idle": "2022-03-26T15:42:04.544850Z",
     "shell.execute_reply": "2022-03-26T15:42:04.545395Z",
     "shell.execute_reply.started": "2022-03-26T14:37:00.450395Z"
    },
    "papermill": {
     "duration": 0.052808,
     "end_time": "2022-03-26T15:42:04.545541",
     "exception": false,
     "start_time": "2022-03-26T15:42:04.492733",
     "status": "completed"
    },
    "tags": []
   },
   "outputs": [
    {
     "data": {
      "text/plain": [
       "Index(['MSSubClass', 'MSZoning', 'LotFrontage', 'LotArea', 'Street', 'Alley',\n",
       "       'LotShape', 'LandContour', 'Utilities', 'LotConfig', 'LandSlope',\n",
       "       'Neighborhood', 'Condition1', 'Condition2', 'BldgType', 'HouseStyle',\n",
       "       'OverallQual', 'OverallCond', 'YearBuilt', 'YearRemodAdd', 'RoofStyle',\n",
       "       'RoofMatl', 'Exterior1st', 'Exterior2nd', 'MasVnrType', 'MasVnrArea',\n",
       "       'ExterQual', 'ExterCond', 'Foundation', 'BsmtQual', 'BsmtCond',\n",
       "       'BsmtExposure', 'BsmtFinType1', 'BsmtFinSF1', 'BsmtFinType2',\n",
       "       'BsmtFinSF2', 'BsmtUnfSF', 'TotalBsmtSF', 'Heating', 'HeatingQC',\n",
       "       'CentralAir', 'Electrical', '1stFlrSF', '2ndFlrSF', 'LowQualFinSF',\n",
       "       'GrLivArea', 'BsmtFullBath', 'BsmtHalfBath', 'FullBath', 'HalfBath',\n",
       "       'BedroomAbvGr', 'KitchenAbvGr', 'KitchenQual', 'TotRmsAbvGrd',\n",
       "       'Functional', 'Fireplaces', 'FireplaceQu', 'GarageType', 'GarageYrBlt',\n",
       "       'GarageFinish', 'GarageCars', 'GarageArea', 'GarageQual', 'GarageCond',\n",
       "       'PavedDrive', 'WoodDeckSF', 'OpenPorchSF', 'EnclosedPorch', '3SsnPorch',\n",
       "       'ScreenPorch', 'PoolArea', 'PoolQC', 'Fence', 'MiscFeature', 'MiscVal',\n",
       "       'MoSold', 'YrSold', 'SaleType', 'SaleCondition'],\n",
       "      dtype='object')"
      ]
     },
     "execution_count": 21,
     "metadata": {},
     "output_type": "execute_result"
    }
   ],
   "source": [
    "test_df.columns"
   ]
  },
  {
   "cell_type": "code",
   "execution_count": 22,
   "id": "a2d6d25c",
   "metadata": {
    "execution": {
     "iopub.execute_input": "2022-03-26T15:42:04.637870Z",
     "iopub.status.busy": "2022-03-26T15:42:04.636911Z",
     "iopub.status.idle": "2022-03-26T15:42:04.645360Z",
     "shell.execute_reply": "2022-03-26T15:42:04.644868Z",
     "shell.execute_reply.started": "2022-03-26T14:37:00.461781Z"
    },
    "papermill": {
     "duration": 0.055988,
     "end_time": "2022-03-26T15:42:04.645488",
     "exception": false,
     "start_time": "2022-03-26T15:42:04.589500",
     "status": "completed"
    },
    "tags": []
   },
   "outputs": [
    {
     "data": {
      "text/plain": [
       "(1459, 74)"
      ]
     },
     "execution_count": 22,
     "metadata": {},
     "output_type": "execute_result"
    }
   ],
   "source": [
    "test_df = test_df.drop(columns=['PoolQC', 'MiscFeature', 'Alley', 'Fence', 'FireplaceQu'])\n",
    "\n",
    "test_df.shape"
   ]
  },
  {
   "cell_type": "code",
   "execution_count": 23,
   "id": "31c1f6e3",
   "metadata": {
    "execution": {
     "iopub.execute_input": "2022-03-26T15:42:04.745479Z",
     "iopub.status.busy": "2022-03-26T15:42:04.744531Z",
     "iopub.status.idle": "2022-03-26T15:42:04.752821Z",
     "shell.execute_reply": "2022-03-26T15:42:04.753294Z",
     "shell.execute_reply.started": "2022-03-26T14:46:46.573668Z"
    },
    "papermill": {
     "duration": 0.063588,
     "end_time": "2022-03-26T15:42:04.753463",
     "exception": false,
     "start_time": "2022-03-26T15:42:04.689875",
     "status": "completed"
    },
    "tags": []
   },
   "outputs": [
    {
     "data": {
      "text/plain": [
       "LotFrontage     15.56\n",
       "GarageCond       5.35\n",
       "GarageYrBlt      5.35\n",
       "GarageFinish     5.35\n",
       "GarageQual       5.35\n",
       "GarageType       5.21\n",
       "BsmtCond         3.08\n",
       "BsmtExposure     3.02\n",
       "BsmtQual         3.02\n",
       "BsmtFinType1     2.88\n",
       "BsmtFinType2     2.88\n",
       "MasVnrType       1.10\n",
       "MasVnrArea       1.03\n",
       "MSZoning         0.27\n",
       "Functional       0.14\n",
       "BsmtHalfBath     0.14\n",
       "Utilities        0.14\n",
       "BsmtFullBath     0.14\n",
       "BsmtFinSF1       0.07\n",
       "BsmtFinSF2       0.07\n",
       "BsmtUnfSF        0.07\n",
       "TotalBsmtSF      0.07\n",
       "KitchenQual      0.07\n",
       "Exterior2nd      0.07\n",
       "Exterior1st      0.07\n",
       "GarageArea       0.07\n",
       "SaleType         0.07\n",
       "GarageCars       0.07\n",
       "MoSold           0.00\n",
       "FullBath         0.00\n",
       "HalfBath         0.00\n",
       "BedroomAbvGr     0.00\n",
       "KitchenAbvGr     0.00\n",
       "TotRmsAbvGrd     0.00\n",
       "YrSold           0.00\n",
       "dtype: float64"
      ]
     },
     "execution_count": 23,
     "metadata": {},
     "output_type": "execute_result"
    }
   ],
   "source": [
    "missing_values_percentage = round((test_df.isnull().sum().sort_values(ascending=False)*100)/len(test_df), 2)\n",
    "missing_values_percentage.head(35)"
   ]
  },
  {
   "cell_type": "code",
   "execution_count": 24,
   "id": "aabe2ad3",
   "metadata": {
    "execution": {
     "iopub.execute_input": "2022-03-26T15:42:04.845452Z",
     "iopub.status.busy": "2022-03-26T15:42:04.844527Z",
     "iopub.status.idle": "2022-03-26T15:42:04.858991Z",
     "shell.execute_reply": "2022-03-26T15:42:04.859628Z",
     "shell.execute_reply.started": "2022-03-26T15:26:43.098110Z"
    },
    "papermill": {
     "duration": 0.063093,
     "end_time": "2022-03-26T15:42:04.859836",
     "exception": false,
     "start_time": "2022-03-26T15:42:04.796743",
     "status": "completed"
    },
    "tags": []
   },
   "outputs": [
    {
     "name": "stdout",
     "output_type": "stream",
     "text": [
      "The datatype of the column LotFrontage =  float64\n",
      "The datatype of the column GarageCond =  object\n",
      "The datatype of the column GarageYrBlt =  float64\n",
      "The datatype of the column GarageFinish =  object\n",
      "The datatype of the column GarageQual =  object\n",
      "The datatype of the column GarageType =  object\n",
      "The datatype of the column BsmtCond =  object\n",
      "The datatype of the column BsmtExposure =  object\n",
      "The datatype of the column BsmtQual =  object\n",
      "The datatype of the column BsmtFinType1 =  object\n",
      "The datatype of the column BsmtFinType2 =  object\n",
      "The datatype of the column MasVnrType =  object\n",
      "The datatype of the column MasVnrArea =  float64\n",
      "The datatype of the column MSZoning =  object\n",
      "The datatype of the column Functional =  object\n",
      "The datatype of the column BsmtHalfBath =  float64\n",
      "The datatype of the column Utilities =  object\n",
      "The datatype of the column BsmtFullBath =  float64\n",
      "The datatype of the column BsmtFinSF1 =  float64\n",
      "The datatype of the column BsmtFinSF2 =  float64\n",
      "The datatype of the column BsmtUnfSF =  float64\n",
      "The datatype of the column TotalBsmtSF =  float64\n",
      "The datatype of the column KitchenQual =  object\n",
      "The datatype of the column Exterior2nd =  object\n",
      "The datatype of the column Exterior1st =  object\n",
      "The datatype of the column GarageArea =  float64\n",
      "The datatype of the column SaleType =  object\n",
      "The datatype of the column GarageCars =  float64\n"
     ]
    }
   ],
   "source": [
    "mis_cols_list = ['LotFrontage', 'GarageCond', 'GarageYrBlt', \n",
    "                 'GarageFinish', 'GarageQual', 'GarageType', \n",
    "                 'BsmtCond', 'BsmtExposure', 'BsmtQual', \n",
    "                 'BsmtFinType1', 'BsmtFinType2', 'MasVnrType',\n",
    "                 'MasVnrArea', 'MSZoning', 'Functional', \n",
    "                 'BsmtHalfBath', 'Utilities', 'BsmtFullBath', \n",
    "                 'BsmtFinSF1', 'BsmtFinSF2', 'BsmtUnfSF', \n",
    "                 'TotalBsmtSF', 'KitchenQual', 'Exterior2nd', \n",
    "                'Exterior1st', 'GarageArea', 'SaleType', \n",
    "                 'GarageCars']\n",
    "\n",
    "for column in mis_cols_list:\n",
    "    print(\"The datatype of the column {} = \".format(column), test_df[column].dtype)    "
   ]
  },
  {
   "cell_type": "code",
   "execution_count": 25,
   "id": "67a57da0",
   "metadata": {
    "execution": {
     "iopub.execute_input": "2022-03-26T15:42:04.954981Z",
     "iopub.status.busy": "2022-03-26T15:42:04.954403Z",
     "iopub.status.idle": "2022-03-26T15:42:04.969846Z",
     "shell.execute_reply": "2022-03-26T15:42:04.970275Z",
     "shell.execute_reply.started": "2022-03-26T15:35:26.080062Z"
    },
    "papermill": {
     "duration": 0.064723,
     "end_time": "2022-03-26T15:42:04.970427",
     "exception": false,
     "start_time": "2022-03-26T15:42:04.905704",
     "status": "completed"
    },
    "tags": []
   },
   "outputs": [
    {
     "name": "stdout",
     "output_type": "stream",
     "text": [
      "The number of unique values in column LotFrontage=  115\n",
      "The number of unique values in column GarageCond=  5\n",
      "The number of unique values in column GarageYrBlt=  97\n",
      "The number of unique values in column GarageFinish=  3\n",
      "The number of unique values in column GarageQual=  4\n",
      "The number of unique values in column GarageType=  6\n",
      "The number of unique values in column BsmtCond=  4\n",
      "The number of unique values in column BsmtExposure=  4\n",
      "The number of unique values in column BsmtQual=  4\n",
      "The number of unique values in column BsmtFinType1=  6\n",
      "The number of unique values in column BsmtFinType2=  6\n",
      "The number of unique values in column MasVnrType=  4\n",
      "The number of unique values in column MasVnrArea=  303\n",
      "The number of unique values in column MSZoning=  5\n",
      "The number of unique values in column Functional=  7\n",
      "The number of unique values in column BsmtHalfBath=  3\n",
      "The number of unique values in column Utilities=  1\n",
      "The number of unique values in column BsmtFullBath=  4\n",
      "The number of unique values in column BsmtFinSF1=  669\n",
      "The number of unique values in column BsmtFinSF2=  161\n",
      "The number of unique values in column BsmtUnfSF=  793\n",
      "The number of unique values in column TotalBsmtSF=  736\n",
      "The number of unique values in column KitchenQual=  4\n",
      "The number of unique values in column Exterior2nd=  15\n",
      "The number of unique values in column Exterior1st=  13\n",
      "The number of unique values in column GarageArea=  459\n",
      "The number of unique values in column SaleType=  9\n",
      "The number of unique values in column GarageCars=  6\n"
     ]
    }
   ],
   "source": [
    "for column in mis_cols_list:\n",
    "    print(\"The number of unique values in column {}= \".format(column), test_df[column].nunique())"
   ]
  },
  {
   "cell_type": "code",
   "execution_count": 26,
   "id": "79f6d1ff",
   "metadata": {
    "execution": {
     "iopub.execute_input": "2022-03-26T15:42:05.063182Z",
     "iopub.status.busy": "2022-03-26T15:42:05.062542Z",
     "iopub.status.idle": "2022-03-26T15:42:05.068963Z",
     "shell.execute_reply": "2022-03-26T15:42:05.068504Z",
     "shell.execute_reply.started": "2022-03-26T15:40:40.653818Z"
    },
    "papermill": {
     "duration": 0.054707,
     "end_time": "2022-03-26T15:42:05.069092",
     "exception": false,
     "start_time": "2022-03-26T15:42:05.014385",
     "status": "completed"
    },
    "tags": []
   },
   "outputs": [
    {
     "name": "stdout",
     "output_type": "stream",
     "text": [
      "object\n"
     ]
    }
   ],
   "source": [
    "test_df['BsmtHalfBath'] = test_df['BsmtHalfBath'].astype('object')\n",
    "\n",
    "print(test_df['BsmtHalfBath'].dtype)"
   ]
  },
  {
   "cell_type": "code",
   "execution_count": null,
   "id": "f56f07b9",
   "metadata": {
    "papermill": {
     "duration": 0.044984,
     "end_time": "2022-03-26T15:42:05.160758",
     "exception": false,
     "start_time": "2022-03-26T15:42:05.115774",
     "status": "completed"
    },
    "tags": []
   },
   "outputs": [],
   "source": []
  },
  {
   "cell_type": "code",
   "execution_count": null,
   "id": "5209c1bc",
   "metadata": {
    "papermill": {
     "duration": 0.044274,
     "end_time": "2022-03-26T15:42:05.249568",
     "exception": false,
     "start_time": "2022-03-26T15:42:05.205294",
     "status": "completed"
    },
    "tags": []
   },
   "outputs": [],
   "source": []
  }
 ],
 "metadata": {
  "kernelspec": {
   "display_name": "Python 3",
   "language": "python",
   "name": "python3"
  },
  "language_info": {
   "codemirror_mode": {
    "name": "ipython",
    "version": 3
   },
   "file_extension": ".py",
   "mimetype": "text/x-python",
   "name": "python",
   "nbconvert_exporter": "python",
   "pygments_lexer": "ipython3",
   "version": "3.7.12"
  },
  "papermill": {
   "default_parameters": {},
   "duration": 20.225051,
   "end_time": "2022-03-26T15:42:05.902951",
   "environment_variables": {},
   "exception": null,
   "input_path": "__notebook__.ipynb",
   "output_path": "__notebook__.ipynb",
   "parameters": {},
   "start_time": "2022-03-26T15:41:45.677900",
   "version": "2.3.3"
  }
 },
 "nbformat": 4,
 "nbformat_minor": 5
}
